{
 "cells": [
  {
   "cell_type": "markdown",
   "metadata": {},
   "source": [
    "# Stacking Model Exercise"
   ]
  },
  {
   "cell_type": "markdown",
   "metadata": {},
   "source": [
    "https://www.kaggle.com/uciml/human-activity-recognition-with-smartphones#train.csv"
   ]
  },
  {
   "cell_type": "code",
   "execution_count": 1,
   "metadata": {},
   "outputs": [],
   "source": [
    "import warnings\n",
    "warnings.filterwarnings('ignore')"
   ]
  },
  {
   "cell_type": "code",
   "execution_count": 2,
   "metadata": {},
   "outputs": [],
   "source": [
    "import numpy as np\n",
    "import pandas as pd\n",
    "import matplotlib.pyplot as plt\n",
    "import seaborn as sns\n",
    "%matplotlib inline"
   ]
  },
  {
   "cell_type": "code",
   "execution_count": 3,
   "metadata": {},
   "outputs": [],
   "source": [
    "from sklearn.model_selection import train_test_split\n",
    "from sklearn.neighbors import KNeighborsClassifier\n",
    "from sklearn.tree import DecisionTreeClassifier\n",
    "from sklearn.linear_model import LogisticRegression\n",
    "from sklearn.svm import SVC\n",
    "from sklearn.ensemble import RandomForestClassifier\n",
    "from sklearn.metrics import classification_report, confusion_matrix"
   ]
  },
  {
   "cell_type": "code",
   "execution_count": 4,
   "metadata": {},
   "outputs": [],
   "source": [
    "rs = 77"
   ]
  },
  {
   "cell_type": "code",
   "execution_count": 5,
   "metadata": {},
   "outputs": [],
   "source": [
    "data1 = pd.read_csv('WA_Fn-UseC_-Telco-Customer-Churn.csv')\n",
    "data2 = pd.read_csv('WA_Fn-UseC_-Telco-Customer-Churn.csv')\n",
    "data = pd.concat([data1, data2])"
   ]
  },
  {
   "cell_type": "code",
   "execution_count": 6,
   "metadata": {
    "scrolled": true
   },
   "outputs": [
    {
     "data": {
      "text/plain": [
       "Index(['tBodyAcc-mean()-X', 'tBodyAcc-mean()-Y', 'tBodyAcc-mean()-Z',\n",
       "       'tBodyAcc-std()-X', 'tBodyAcc-std()-Y', 'tBodyAcc-std()-Z',\n",
       "       'tBodyAcc-mad()-X', 'tBodyAcc-mad()-Y', 'tBodyAcc-mad()-Z',\n",
       "       'tBodyAcc-max()-X',\n",
       "       ...\n",
       "       'fBodyBodyGyroJerkMag-kurtosis()', 'angle(tBodyAccMean,gravity)',\n",
       "       'angle(tBodyAccJerkMean),gravityMean)',\n",
       "       'angle(tBodyGyroMean,gravityMean)',\n",
       "       'angle(tBodyGyroJerkMean,gravityMean)', 'angle(X,gravityMean)',\n",
       "       'angle(Y,gravityMean)', 'angle(Z,gravityMean)', 'subject', 'Activity'],\n",
       "      dtype='object', length=563)"
      ]
     },
     "execution_count": 6,
     "metadata": {},
     "output_type": "execute_result"
    }
   ],
   "source": [
    "data.columns"
   ]
  },
  {
   "cell_type": "code",
   "execution_count": 7,
   "metadata": {
    "scrolled": true
   },
   "outputs": [
    {
     "name": "stdout",
     "output_type": "stream",
     "text": [
      "   tBodyAcc-mean()-X  tBodyAcc-mean()-Y  tBodyAcc-mean()-Z  tBodyAcc-std()-X  \\\n",
      "0           0.288585          -0.020294          -0.132905         -0.995279   \n",
      "1           0.278419          -0.016411          -0.123520         -0.998245   \n",
      "2           0.279653          -0.019467          -0.113462         -0.995380   \n",
      "3           0.279174          -0.026201          -0.123283         -0.996091   \n",
      "4           0.276629          -0.016570          -0.115362         -0.998139   \n",
      "\n",
      "   tBodyAcc-std()-Y  tBodyAcc-std()-Z  tBodyAcc-mad()-X  tBodyAcc-mad()-Y  \\\n",
      "0         -0.983111         -0.913526         -0.995112         -0.983185   \n",
      "1         -0.975300         -0.960322         -0.998807         -0.974914   \n",
      "2         -0.967187         -0.978944         -0.996520         -0.963668   \n",
      "3         -0.983403         -0.990675         -0.997099         -0.982750   \n",
      "4         -0.980817         -0.990482         -0.998321         -0.979672   \n",
      "\n",
      "   tBodyAcc-mad()-Z  tBodyAcc-max()-X  ...  fBodyBodyGyroJerkMag-kurtosis()  \\\n",
      "0         -0.923527         -0.934724  ...                        -0.710304   \n",
      "1         -0.957686         -0.943068  ...                        -0.861499   \n",
      "2         -0.977469         -0.938692  ...                        -0.760104   \n",
      "3         -0.989302         -0.938692  ...                        -0.482845   \n",
      "4         -0.990441         -0.942469  ...                        -0.699205   \n",
      "\n",
      "   angle(tBodyAccMean,gravity)  angle(tBodyAccJerkMean),gravityMean)  \\\n",
      "0                    -0.112754                              0.030400   \n",
      "1                     0.053477                             -0.007435   \n",
      "2                    -0.118559                              0.177899   \n",
      "3                    -0.036788                             -0.012892   \n",
      "4                     0.123320                              0.122542   \n",
      "\n",
      "   angle(tBodyGyroMean,gravityMean)  angle(tBodyGyroJerkMean,gravityMean)  \\\n",
      "0                         -0.464761                             -0.018446   \n",
      "1                         -0.732626                              0.703511   \n",
      "2                          0.100699                              0.808529   \n",
      "3                          0.640011                             -0.485366   \n",
      "4                          0.693578                             -0.615971   \n",
      "\n",
      "   angle(X,gravityMean)  angle(Y,gravityMean)  angle(Z,gravityMean)  subject  \\\n",
      "0             -0.841247              0.179941             -0.058627        1   \n",
      "1             -0.844788              0.180289             -0.054317        1   \n",
      "2             -0.848933              0.180637             -0.049118        1   \n",
      "3             -0.848649              0.181935             -0.047663        1   \n",
      "4             -0.847865              0.185151             -0.043892        1   \n",
      "\n",
      "   Activity  \n",
      "0  STANDING  \n",
      "1  STANDING  \n",
      "2  STANDING  \n",
      "3  STANDING  \n",
      "4  STANDING  \n",
      "\n",
      "[5 rows x 563 columns]\n"
     ]
    }
   ],
   "source": [
    "print(data.head())"
   ]
  },
  {
   "cell_type": "code",
   "execution_count": 8,
   "metadata": {},
   "outputs": [
    {
     "name": "stdout",
     "output_type": "stream",
     "text": [
      "<class 'pandas.core.frame.DataFrame'>\n",
      "Int64Index: 10299 entries, 0 to 2946\n",
      "Columns: 563 entries, tBodyAcc-mean()-X to Activity\n",
      "dtypes: float64(561), int64(1), object(1)\n",
      "memory usage: 44.3+ MB\n"
     ]
    }
   ],
   "source": [
    "data.info()"
   ]
  },
  {
   "cell_type": "code",
   "execution_count": 9,
   "metadata": {},
   "outputs": [
    {
     "data": {
      "text/html": [
       "<div>\n",
       "<style scoped>\n",
       "    .dataframe tbody tr th:only-of-type {\n",
       "        vertical-align: middle;\n",
       "    }\n",
       "\n",
       "    .dataframe tbody tr th {\n",
       "        vertical-align: top;\n",
       "    }\n",
       "\n",
       "    .dataframe thead th {\n",
       "        text-align: right;\n",
       "    }\n",
       "</style>\n",
       "<table border=\"1\" class=\"dataframe\">\n",
       "  <thead>\n",
       "    <tr style=\"text-align: right;\">\n",
       "      <th></th>\n",
       "      <th>tBodyAcc-mean()-X</th>\n",
       "      <th>tBodyAcc-mean()-Y</th>\n",
       "      <th>tBodyAcc-mean()-Z</th>\n",
       "      <th>tBodyAcc-std()-X</th>\n",
       "      <th>tBodyAcc-std()-Y</th>\n",
       "      <th>tBodyAcc-std()-Z</th>\n",
       "      <th>tBodyAcc-mad()-X</th>\n",
       "      <th>tBodyAcc-mad()-Y</th>\n",
       "      <th>tBodyAcc-mad()-Z</th>\n",
       "      <th>tBodyAcc-max()-X</th>\n",
       "      <th>...</th>\n",
       "      <th>fBodyBodyGyroJerkMag-skewness()</th>\n",
       "      <th>fBodyBodyGyroJerkMag-kurtosis()</th>\n",
       "      <th>angle(tBodyAccMean,gravity)</th>\n",
       "      <th>angle(tBodyAccJerkMean),gravityMean)</th>\n",
       "      <th>angle(tBodyGyroMean,gravityMean)</th>\n",
       "      <th>angle(tBodyGyroJerkMean,gravityMean)</th>\n",
       "      <th>angle(X,gravityMean)</th>\n",
       "      <th>angle(Y,gravityMean)</th>\n",
       "      <th>angle(Z,gravityMean)</th>\n",
       "      <th>subject</th>\n",
       "    </tr>\n",
       "  </thead>\n",
       "  <tbody>\n",
       "    <tr>\n",
       "      <th>count</th>\n",
       "      <td>10299.000000</td>\n",
       "      <td>10299.000000</td>\n",
       "      <td>10299.000000</td>\n",
       "      <td>10299.000000</td>\n",
       "      <td>10299.000000</td>\n",
       "      <td>10299.000000</td>\n",
       "      <td>10299.000000</td>\n",
       "      <td>10299.000000</td>\n",
       "      <td>10299.000000</td>\n",
       "      <td>10299.000000</td>\n",
       "      <td>...</td>\n",
       "      <td>10299.000000</td>\n",
       "      <td>10299.000000</td>\n",
       "      <td>10299.000000</td>\n",
       "      <td>10299.000000</td>\n",
       "      <td>10299.000000</td>\n",
       "      <td>10299.000000</td>\n",
       "      <td>10299.000000</td>\n",
       "      <td>10299.000000</td>\n",
       "      <td>10299.000000</td>\n",
       "      <td>10299.000000</td>\n",
       "    </tr>\n",
       "    <tr>\n",
       "      <th>mean</th>\n",
       "      <td>0.274347</td>\n",
       "      <td>-0.017743</td>\n",
       "      <td>-0.108925</td>\n",
       "      <td>-0.607784</td>\n",
       "      <td>-0.510191</td>\n",
       "      <td>-0.613064</td>\n",
       "      <td>-0.633593</td>\n",
       "      <td>-0.525697</td>\n",
       "      <td>-0.614989</td>\n",
       "      <td>-0.466732</td>\n",
       "      <td>...</td>\n",
       "      <td>-0.298592</td>\n",
       "      <td>-0.617700</td>\n",
       "      <td>0.007705</td>\n",
       "      <td>0.002648</td>\n",
       "      <td>0.017683</td>\n",
       "      <td>-0.009219</td>\n",
       "      <td>-0.496522</td>\n",
       "      <td>0.063255</td>\n",
       "      <td>-0.054284</td>\n",
       "      <td>16.146422</td>\n",
       "    </tr>\n",
       "    <tr>\n",
       "      <th>std</th>\n",
       "      <td>0.067628</td>\n",
       "      <td>0.037128</td>\n",
       "      <td>0.053033</td>\n",
       "      <td>0.438694</td>\n",
       "      <td>0.500240</td>\n",
       "      <td>0.403657</td>\n",
       "      <td>0.413333</td>\n",
       "      <td>0.484201</td>\n",
       "      <td>0.399034</td>\n",
       "      <td>0.538707</td>\n",
       "      <td>...</td>\n",
       "      <td>0.320199</td>\n",
       "      <td>0.308796</td>\n",
       "      <td>0.336591</td>\n",
       "      <td>0.447364</td>\n",
       "      <td>0.616188</td>\n",
       "      <td>0.484770</td>\n",
       "      <td>0.511158</td>\n",
       "      <td>0.305468</td>\n",
       "      <td>0.268898</td>\n",
       "      <td>8.679067</td>\n",
       "    </tr>\n",
       "    <tr>\n",
       "      <th>min</th>\n",
       "      <td>-1.000000</td>\n",
       "      <td>-1.000000</td>\n",
       "      <td>-1.000000</td>\n",
       "      <td>-1.000000</td>\n",
       "      <td>-1.000000</td>\n",
       "      <td>-1.000000</td>\n",
       "      <td>-1.000000</td>\n",
       "      <td>-1.000000</td>\n",
       "      <td>-1.000000</td>\n",
       "      <td>-1.000000</td>\n",
       "      <td>...</td>\n",
       "      <td>-1.000000</td>\n",
       "      <td>-1.000000</td>\n",
       "      <td>-1.000000</td>\n",
       "      <td>-1.000000</td>\n",
       "      <td>-1.000000</td>\n",
       "      <td>-1.000000</td>\n",
       "      <td>-1.000000</td>\n",
       "      <td>-1.000000</td>\n",
       "      <td>-1.000000</td>\n",
       "      <td>1.000000</td>\n",
       "    </tr>\n",
       "    <tr>\n",
       "      <th>25%</th>\n",
       "      <td>0.262625</td>\n",
       "      <td>-0.024902</td>\n",
       "      <td>-0.121019</td>\n",
       "      <td>-0.992360</td>\n",
       "      <td>-0.976990</td>\n",
       "      <td>-0.979137</td>\n",
       "      <td>-0.993293</td>\n",
       "      <td>-0.977017</td>\n",
       "      <td>-0.979064</td>\n",
       "      <td>-0.935788</td>\n",
       "      <td>...</td>\n",
       "      <td>-0.536174</td>\n",
       "      <td>-0.841847</td>\n",
       "      <td>-0.124694</td>\n",
       "      <td>-0.287031</td>\n",
       "      <td>-0.493108</td>\n",
       "      <td>-0.389041</td>\n",
       "      <td>-0.817288</td>\n",
       "      <td>0.002151</td>\n",
       "      <td>-0.131880</td>\n",
       "      <td>9.000000</td>\n",
       "    </tr>\n",
       "    <tr>\n",
       "      <th>50%</th>\n",
       "      <td>0.277174</td>\n",
       "      <td>-0.017162</td>\n",
       "      <td>-0.108596</td>\n",
       "      <td>-0.943030</td>\n",
       "      <td>-0.835032</td>\n",
       "      <td>-0.850773</td>\n",
       "      <td>-0.948244</td>\n",
       "      <td>-0.843670</td>\n",
       "      <td>-0.845068</td>\n",
       "      <td>-0.874825</td>\n",
       "      <td>...</td>\n",
       "      <td>-0.335160</td>\n",
       "      <td>-0.703402</td>\n",
       "      <td>0.008146</td>\n",
       "      <td>0.007668</td>\n",
       "      <td>0.017192</td>\n",
       "      <td>-0.007186</td>\n",
       "      <td>-0.715631</td>\n",
       "      <td>0.182028</td>\n",
       "      <td>-0.003882</td>\n",
       "      <td>17.000000</td>\n",
       "    </tr>\n",
       "    <tr>\n",
       "      <th>75%</th>\n",
       "      <td>0.288354</td>\n",
       "      <td>-0.010625</td>\n",
       "      <td>-0.097589</td>\n",
       "      <td>-0.250293</td>\n",
       "      <td>-0.057336</td>\n",
       "      <td>-0.278737</td>\n",
       "      <td>-0.302033</td>\n",
       "      <td>-0.087405</td>\n",
       "      <td>-0.288149</td>\n",
       "      <td>-0.014641</td>\n",
       "      <td>...</td>\n",
       "      <td>-0.113167</td>\n",
       "      <td>-0.487981</td>\n",
       "      <td>0.149005</td>\n",
       "      <td>0.291490</td>\n",
       "      <td>0.536137</td>\n",
       "      <td>0.365996</td>\n",
       "      <td>-0.521503</td>\n",
       "      <td>0.250790</td>\n",
       "      <td>0.102970</td>\n",
       "      <td>24.000000</td>\n",
       "    </tr>\n",
       "    <tr>\n",
       "      <th>max</th>\n",
       "      <td>1.000000</td>\n",
       "      <td>1.000000</td>\n",
       "      <td>1.000000</td>\n",
       "      <td>1.000000</td>\n",
       "      <td>1.000000</td>\n",
       "      <td>1.000000</td>\n",
       "      <td>1.000000</td>\n",
       "      <td>1.000000</td>\n",
       "      <td>1.000000</td>\n",
       "      <td>1.000000</td>\n",
       "      <td>...</td>\n",
       "      <td>1.000000</td>\n",
       "      <td>1.000000</td>\n",
       "      <td>1.000000</td>\n",
       "      <td>1.000000</td>\n",
       "      <td>1.000000</td>\n",
       "      <td>1.000000</td>\n",
       "      <td>1.000000</td>\n",
       "      <td>1.000000</td>\n",
       "      <td>1.000000</td>\n",
       "      <td>30.000000</td>\n",
       "    </tr>\n",
       "  </tbody>\n",
       "</table>\n",
       "<p>8 rows × 562 columns</p>\n",
       "</div>"
      ],
      "text/plain": [
       "       tBodyAcc-mean()-X  tBodyAcc-mean()-Y  tBodyAcc-mean()-Z  \\\n",
       "count       10299.000000       10299.000000       10299.000000   \n",
       "mean            0.274347          -0.017743          -0.108925   \n",
       "std             0.067628           0.037128           0.053033   \n",
       "min            -1.000000          -1.000000          -1.000000   \n",
       "25%             0.262625          -0.024902          -0.121019   \n",
       "50%             0.277174          -0.017162          -0.108596   \n",
       "75%             0.288354          -0.010625          -0.097589   \n",
       "max             1.000000           1.000000           1.000000   \n",
       "\n",
       "       tBodyAcc-std()-X  tBodyAcc-std()-Y  tBodyAcc-std()-Z  tBodyAcc-mad()-X  \\\n",
       "count      10299.000000      10299.000000      10299.000000      10299.000000   \n",
       "mean          -0.607784         -0.510191         -0.613064         -0.633593   \n",
       "std            0.438694          0.500240          0.403657          0.413333   \n",
       "min           -1.000000         -1.000000         -1.000000         -1.000000   \n",
       "25%           -0.992360         -0.976990         -0.979137         -0.993293   \n",
       "50%           -0.943030         -0.835032         -0.850773         -0.948244   \n",
       "75%           -0.250293         -0.057336         -0.278737         -0.302033   \n",
       "max            1.000000          1.000000          1.000000          1.000000   \n",
       "\n",
       "       tBodyAcc-mad()-Y  tBodyAcc-mad()-Z  tBodyAcc-max()-X  ...  \\\n",
       "count      10299.000000      10299.000000      10299.000000  ...   \n",
       "mean          -0.525697         -0.614989         -0.466732  ...   \n",
       "std            0.484201          0.399034          0.538707  ...   \n",
       "min           -1.000000         -1.000000         -1.000000  ...   \n",
       "25%           -0.977017         -0.979064         -0.935788  ...   \n",
       "50%           -0.843670         -0.845068         -0.874825  ...   \n",
       "75%           -0.087405         -0.288149         -0.014641  ...   \n",
       "max            1.000000          1.000000          1.000000  ...   \n",
       "\n",
       "       fBodyBodyGyroJerkMag-skewness()  fBodyBodyGyroJerkMag-kurtosis()  \\\n",
       "count                     10299.000000                     10299.000000   \n",
       "mean                         -0.298592                        -0.617700   \n",
       "std                           0.320199                         0.308796   \n",
       "min                          -1.000000                        -1.000000   \n",
       "25%                          -0.536174                        -0.841847   \n",
       "50%                          -0.335160                        -0.703402   \n",
       "75%                          -0.113167                        -0.487981   \n",
       "max                           1.000000                         1.000000   \n",
       "\n",
       "       angle(tBodyAccMean,gravity)  angle(tBodyAccJerkMean),gravityMean)  \\\n",
       "count                 10299.000000                          10299.000000   \n",
       "mean                      0.007705                              0.002648   \n",
       "std                       0.336591                              0.447364   \n",
       "min                      -1.000000                             -1.000000   \n",
       "25%                      -0.124694                             -0.287031   \n",
       "50%                       0.008146                              0.007668   \n",
       "75%                       0.149005                              0.291490   \n",
       "max                       1.000000                              1.000000   \n",
       "\n",
       "       angle(tBodyGyroMean,gravityMean)  angle(tBodyGyroJerkMean,gravityMean)  \\\n",
       "count                      10299.000000                          10299.000000   \n",
       "mean                           0.017683                             -0.009219   \n",
       "std                            0.616188                              0.484770   \n",
       "min                           -1.000000                             -1.000000   \n",
       "25%                           -0.493108                             -0.389041   \n",
       "50%                            0.017192                             -0.007186   \n",
       "75%                            0.536137                              0.365996   \n",
       "max                            1.000000                              1.000000   \n",
       "\n",
       "       angle(X,gravityMean)  angle(Y,gravityMean)  angle(Z,gravityMean)  \\\n",
       "count          10299.000000          10299.000000          10299.000000   \n",
       "mean              -0.496522              0.063255             -0.054284   \n",
       "std                0.511158              0.305468              0.268898   \n",
       "min               -1.000000             -1.000000             -1.000000   \n",
       "25%               -0.817288              0.002151             -0.131880   \n",
       "50%               -0.715631              0.182028             -0.003882   \n",
       "75%               -0.521503              0.250790              0.102970   \n",
       "max                1.000000              1.000000              1.000000   \n",
       "\n",
       "            subject  \n",
       "count  10299.000000  \n",
       "mean      16.146422  \n",
       "std        8.679067  \n",
       "min        1.000000  \n",
       "25%        9.000000  \n",
       "50%       17.000000  \n",
       "75%       24.000000  \n",
       "max       30.000000  \n",
       "\n",
       "[8 rows x 562 columns]"
      ]
     },
     "execution_count": 9,
     "metadata": {},
     "output_type": "execute_result"
    }
   ],
   "source": [
    "data.describe()"
   ]
  },
  {
   "cell_type": "code",
   "execution_count": 10,
   "metadata": {
    "scrolled": true
   },
   "outputs": [
    {
     "data": {
      "text/plain": [
       "<matplotlib.axes._subplots.AxesSubplot at 0x1a223cf9e8>"
      ]
     },
     "execution_count": 10,
     "metadata": {},
     "output_type": "execute_result"
    },
    {
     "data": {
      "image/png": "[encoded data removed]",
      "text/plain": [
       "<Figure size 432x288 with 1 Axes>"
      ]
     },
     "metadata": {
      "needs_background": "light"
     },
     "output_type": "display_data"
    }
   ],
   "source": [
    "sns.countplot(x='Activity', data=data, palette='RdBu_r')"
   ]
  },
  {
   "cell_type": "code",
   "execution_count": 11,
   "metadata": {},
   "outputs": [
    {
     "data": {
      "text/plain": [
       "array(['STANDING', 'SITTING', 'LAYING', 'WALKING', 'WALKING_DOWNSTAIRS',\n",
       "       'WALKING_UPSTAIRS'], dtype=object)"
      ]
     },
     "execution_count": 11,
     "metadata": {},
     "output_type": "execute_result"
    }
   ],
   "source": [
    "pd.unique(data['Activity'])"
   ]
  },
  {
   "cell_type": "code",
   "execution_count": 12,
   "metadata": {},
   "outputs": [],
   "source": [
    "#data = data.replace({'STANDING':1, 'SITTING':2, 'LAYING':3, 'WALKING':4, 'WALKING_DOWNSTAIRS':5,'WALKING_UPSTAIRS':6})"
   ]
  },
  {
   "cell_type": "code",
   "execution_count": 13,
   "metadata": {},
   "outputs": [],
   "source": [
    "X = data.drop(['Activity'],axis=1)\n",
    "y = data['Activity']\n",
    "X_train, X_test, y_train, y_test = train_test_split(X, y, test_size=0.3,random_state=rs)"
   ]
  },
  {
   "cell_type": "markdown",
   "metadata": {},
   "source": [
    "# KNN"
   ]
  },
  {
   "cell_type": "code",
   "execution_count": 14,
   "metadata": {},
   "outputs": [
    {
     "name": "stdout",
     "output_type": "stream",
     "text": [
      "[[562   1   0   0   0   0]\n",
      " [  1 479  64   0   0   2]\n",
      " [  0  32 573   0   0   0]\n",
      " [  0   0   0 502   1   0]\n",
      " [  0   0   0   2 402   2]\n",
      " [  0   0   0   0   0 467]]\n",
      "                    precision    recall  f1-score   support\n",
      "\n",
      "            LAYING       1.00      1.00      1.00       563\n",
      "           SITTING       0.94      0.88      0.91       546\n",
      "          STANDING       0.90      0.95      0.92       605\n",
      "           WALKING       1.00      1.00      1.00       503\n",
      "WALKING_DOWNSTAIRS       1.00      0.99      0.99       406\n",
      "  WALKING_UPSTAIRS       0.99      1.00      1.00       467\n",
      "\n",
      "          accuracy                           0.97      3090\n",
      "         macro avg       0.97      0.97      0.97      3090\n",
      "      weighted avg       0.97      0.97      0.97      3090\n",
      "\n"
     ]
    }
   ],
   "source": [
    "classifier = KNeighborsClassifier(n_neighbors=5)\n",
    "classifier.fit(X_train, y_train)\n",
    "y_pred = classifier.predict(X_test) \n",
    "print(confusion_matrix(y_test, y_pred))\n",
    "print(classification_report(y_test, y_pred))"
   ]
  },
  {
   "cell_type": "markdown",
   "metadata": {},
   "source": [
    "# DecisionTree"
   ]
  },
  {
   "cell_type": "code",
   "execution_count": 15,
   "metadata": {
    "scrolled": true
   },
   "outputs": [
    {
     "name": "stdout",
     "output_type": "stream",
     "text": [
      "[[563   0   0   0   0   0]\n",
      " [  0 500  46   0   0   0]\n",
      " [  0  49 556   0   0   0]\n",
      " [  0   0   0 473  10  20]\n",
      " [  0   0   0   8 384  14]\n",
      " [  0   0   0  20  25 422]]\n",
      "                    precision    recall  f1-score   support\n",
      "\n",
      "            LAYING       1.00      1.00      1.00       563\n",
      "           SITTING       0.91      0.92      0.91       546\n",
      "          STANDING       0.92      0.92      0.92       605\n",
      "           WALKING       0.94      0.94      0.94       503\n",
      "WALKING_DOWNSTAIRS       0.92      0.95      0.93       406\n",
      "  WALKING_UPSTAIRS       0.93      0.90      0.91       467\n",
      "\n",
      "          accuracy                           0.94      3090\n",
      "         macro avg       0.94      0.94      0.94      3090\n",
      "      weighted avg       0.94      0.94      0.94      3090\n",
      "\n"
     ]
    }
   ],
   "source": [
    "classifier = DecisionTreeClassifier(random_state=rs)\n",
    "classifier.fit(X_train, y_train)\n",
    "y_pred = classifier.predict(X_test)\n",
    "print(confusion_matrix(y_test, y_pred))\n",
    "print(classification_report(y_test, y_pred))"
   ]
  },
  {
   "cell_type": "markdown",
   "metadata": {},
   "source": [
    "# Logistic Regresstion"
   ]
  },
  {
   "cell_type": "code",
   "execution_count": 16,
   "metadata": {
    "scrolled": true
   },
   "outputs": [
    {
     "name": "stdout",
     "output_type": "stream",
     "text": [
      "[[563   0   0   0   0   0]\n",
      " [  0 513  30   0   0   3]\n",
      " [  0  25 580   0   0   0]\n",
      " [  0   0   0 502   0   1]\n",
      " [  0   0   0   1 405   0]\n",
      " [  0   0   0   1   0 466]]\n",
      "                    precision    recall  f1-score   support\n",
      "\n",
      "            LAYING       1.00      1.00      1.00       563\n",
      "           SITTING       0.95      0.94      0.95       546\n",
      "          STANDING       0.95      0.96      0.95       605\n",
      "           WALKING       1.00      1.00      1.00       503\n",
      "WALKING_DOWNSTAIRS       1.00      1.00      1.00       406\n",
      "  WALKING_UPSTAIRS       0.99      1.00      0.99       467\n",
      "\n",
      "          accuracy                           0.98      3090\n",
      "         macro avg       0.98      0.98      0.98      3090\n",
      "      weighted avg       0.98      0.98      0.98      3090\n",
      "\n"
     ]
    }
   ],
   "source": [
    "classifier = LogisticRegression(random_state=rs)\n",
    "classifier.fit(X_train, y_train)\n",
    "y_pred = classifier.predict(X_test)\n",
    "print(confusion_matrix(y_test, y_pred))\n",
    "print(classification_report(y_test, y_pred))"
   ]
  },
  {
   "cell_type": "markdown",
   "metadata": {},
   "source": [
    "# Random Forest"
   ]
  },
  {
   "cell_type": "code",
   "execution_count": 17,
   "metadata": {},
   "outputs": [
    {
     "name": "stdout",
     "output_type": "stream",
     "text": [
      "[[563   0   0   0   0   0]\n",
      " [  0 522  23   1   0   0]\n",
      " [  0  35 570   0   0   0]\n",
      " [  0   0   0 492   4   7]\n",
      " [  0   0   0   9 388   9]\n",
      " [  0   0   0   6   6 455]]\n",
      "                    precision    recall  f1-score   support\n",
      "\n",
      "            LAYING       1.00      1.00      1.00       563\n",
      "           SITTING       0.94      0.96      0.95       546\n",
      "          STANDING       0.96      0.94      0.95       605\n",
      "           WALKING       0.97      0.98      0.97       503\n",
      "WALKING_DOWNSTAIRS       0.97      0.96      0.97       406\n",
      "  WALKING_UPSTAIRS       0.97      0.97      0.97       467\n",
      "\n",
      "          accuracy                           0.97      3090\n",
      "         macro avg       0.97      0.97      0.97      3090\n",
      "      weighted avg       0.97      0.97      0.97      3090\n",
      "\n"
     ]
    }
   ],
   "source": [
    "classifier = RandomForestClassifier(random_state=rs)\n",
    "classifier.fit(X_train, y_train)\n",
    "y_pred = classifier.predict(X_test)\n",
    "print(confusion_matrix(y_test, y_pred))\n",
    "print(classification_report(y_test, y_pred))"
   ]
  },
  {
   "cell_type": "markdown",
   "metadata": {},
   "source": [
    "# SVM"
   ]
  },
  {
   "cell_type": "code",
   "execution_count": 18,
   "metadata": {
    "scrolled": false
   },
   "outputs": [
    {
     "name": "stdout",
     "output_type": "stream",
     "text": [
      "[[563   0   0   0   0   0]\n",
      " [  1 471  73   0   0   1]\n",
      " [  0  50 555   0   0   0]\n",
      " [  0   0   0 496   1   6]\n",
      " [  0   0   0   2 396   8]\n",
      " [  0   0   0   8   4 455]]\n",
      "                    precision    recall  f1-score   support\n",
      "\n",
      "            LAYING       1.00      1.00      1.00       563\n",
      "           SITTING       0.90      0.86      0.88       546\n",
      "          STANDING       0.88      0.92      0.90       605\n",
      "           WALKING       0.98      0.99      0.98       503\n",
      "WALKING_DOWNSTAIRS       0.99      0.98      0.98       406\n",
      "  WALKING_UPSTAIRS       0.97      0.97      0.97       467\n",
      "\n",
      "          accuracy                           0.95      3090\n",
      "         macro avg       0.95      0.95      0.95      3090\n",
      "      weighted avg       0.95      0.95      0.95      3090\n",
      "\n"
     ]
    }
   ],
   "source": [
    "classifier = SVC(random_state=rs)\n",
    "classifier.fit(X_train, y_train)\n",
    "y_pred = classifier.predict(X_test)\n",
    "print(confusion_matrix(y_test, y_pred))\n",
    "print(classification_report(y_test, y_pred))"
   ]
  },
  {
   "cell_type": "markdown",
   "metadata": {},
   "source": [
    "# Stacking Model"
   ]
  },
  {
   "cell_type": "code",
   "execution_count": 19,
   "metadata": {},
   "outputs": [],
   "source": [
    "X_train_all, X_test, y_train_all, y_test = train_test_split(X, y, test_size=0.3,random_state=rs)\n",
    "train_all = X_train_all\n",
    "train_all['Activity'] = y_train_all"
   ]
  },
  {
   "cell_type": "code",
   "execution_count": 20,
   "metadata": {},
   "outputs": [],
   "source": [
    "X_train = train_all.drop(['Activity'],axis=1)\n",
    "y_train = train_all['Activity']"
   ]
  },
  {
   "cell_type": "code",
   "execution_count": 21,
   "metadata": {},
   "outputs": [],
   "source": [
    "X_train_1, X_train_2, y_train_1, y_train_2 = train_test_split(X_train, y_train, test_size=0.5,random_state=rs)"
   ]
  },
  {
   "cell_type": "code",
   "execution_count": 22,
   "metadata": {},
   "outputs": [],
   "source": [
    "clf1 = LogisticRegression(random_state=rs)\n",
    "clf2 = RandomForestClassifier(random_state=rs)\n",
    "clf3 = SVC(random_state=rs)\n",
    "clf4 = KNeighborsClassifier(n_neighbors=5)\n",
    "\n",
    "clf1.fit(X_train_1, y_train_1)\n",
    "clf2.fit(X_train_1, y_train_1)\n",
    "clf3.fit(X_train_1, y_train_1)\n",
    "clf4.fit(X_train_1, y_train_1)\n",
    "\n",
    "y_pred_clf1 = clf1.predict(X_train_2)\n",
    "y_pred_clf2 = clf2.predict(X_train_2)\n",
    "y_pred_clf3 = clf3.predict(X_train_2)\n",
    "y_pred_clf4 = clf4.predict(X_train_2)\n"
   ]
  },
  {
   "cell_type": "code",
   "execution_count": 23,
   "metadata": {},
   "outputs": [
    {
     "name": "stdout",
     "output_type": "stream",
     "text": [
      "       clf1      clf2      clf3      clf4\n",
      "0  STANDING  STANDING  STANDING  STANDING\n",
      "1   SITTING   SITTING   SITTING   SITTING\n",
      "2   SITTING   SITTING   SITTING   SITTING\n",
      "3   SITTING   SITTING  STANDING   SITTING\n",
      "4    LAYING    LAYING    LAYING    LAYING\n",
      "   clf1_SITTING  clf1_STANDING  clf1_WALKING  clf1_WALKING_DOWNSTAIRS  \\\n",
      "0             0              1             0                        0   \n",
      "1             1              0             0                        0   \n",
      "2             1              0             0                        0   \n",
      "3             1              0             0                        0   \n",
      "4             0              0             0                        0   \n",
      "\n",
      "   clf1_WALKING_UPSTAIRS  clf2_SITTING  clf2_STANDING  clf2_WALKING  \\\n",
      "0                      0             0              1             0   \n",
      "1                      0             1              0             0   \n",
      "2                      0             1              0             0   \n",
      "3                      0             1              0             0   \n",
      "4                      0             0              0             0   \n",
      "\n",
      "   clf2_WALKING_DOWNSTAIRS  clf2_WALKING_UPSTAIRS  clf3_SITTING  \\\n",
      "0                        0                      0             0   \n",
      "1                        0                      0             1   \n",
      "2                        0                      0             1   \n",
      "3                        0                      0             0   \n",
      "4                        0                      0             0   \n",
      "\n",
      "   clf3_STANDING  clf3_WALKING  clf3_WALKING_DOWNSTAIRS  \\\n",
      "0              1             0                        0   \n",
      "1              0             0                        0   \n",
      "2              0             0                        0   \n",
      "3              1             0                        0   \n",
      "4              0             0                        0   \n",
      "\n",
      "   clf3_WALKING_UPSTAIRS  clf4_SITTING  clf4_STANDING  clf4_WALKING  \\\n",
      "0                      0             0              1             0   \n",
      "1                      0             1              0             0   \n",
      "2                      0             1              0             0   \n",
      "3                      0             1              0             0   \n",
      "4                      0             0              0             0   \n",
      "\n",
      "   clf4_WALKING_DOWNSTAIRS  clf4_WALKING_UPSTAIRS  \n",
      "0                        0                      0  \n",
      "1                        0                      0  \n",
      "2                        0                      0  \n",
      "3                        0                      0  \n",
      "4                        0                      0  \n"
     ]
    }
   ],
   "source": [
    "x_for_level_2 = pd.DataFrame(data={'clf1': y_pred_clf1, 'clf2': y_pred_clf2,'clf3': y_pred_clf3,'clf4': y_pred_clf4})\n",
    "print(x_for_level_2.head())\n",
    "x_for_level_2 = pd.get_dummies(x_for_level_2,drop_first = True)\n",
    "print(x_for_level_2.head())"
   ]
  },
  {
   "cell_type": "code",
   "execution_count": 24,
   "metadata": {},
   "outputs": [
    {
     "data": {
      "text/plain": [
       "RandomForestClassifier(bootstrap=True, class_weight=None, criterion='gini',\n",
       "                       max_depth=None, max_features='auto', max_leaf_nodes=None,\n",
       "                       min_impurity_decrease=0.0, min_impurity_split=None,\n",
       "                       min_samples_leaf=1, min_samples_split=2,\n",
       "                       min_weight_fraction_leaf=0.0, n_estimators=10,\n",
       "                       n_jobs=None, oob_score=False, random_state=77, verbose=0,\n",
       "                       warm_start=False)"
      ]
     },
     "execution_count": 24,
     "metadata": {},
     "output_type": "execute_result"
    }
   ],
   "source": [
    "clf_blen = RandomForestClassifier(random_state=rs)\n",
    "clf_blen.fit(x_for_level_2, y_train_2)"
   ]
  },
  {
   "cell_type": "code",
   "execution_count": 25,
   "metadata": {},
   "outputs": [
    {
     "name": "stdout",
     "output_type": "stream",
     "text": [
      "[[563   0   0   0   0   0]\n",
      " [  0 522  22   0   0   2]\n",
      " [  0  33 572   0   0   0]\n",
      " [  0   0   0 502   0   1]\n",
      " [  0   0   0   0 404   2]\n",
      " [  0   0   0   4   0 463]]\n",
      "                    precision    recall  f1-score   support\n",
      "\n",
      "            LAYING       1.00      1.00      1.00       563\n",
      "           SITTING       0.94      0.96      0.95       546\n",
      "          STANDING       0.96      0.95      0.95       605\n",
      "           WALKING       0.99      1.00      1.00       503\n",
      "WALKING_DOWNSTAIRS       1.00      1.00      1.00       406\n",
      "  WALKING_UPSTAIRS       0.99      0.99      0.99       467\n",
      "\n",
      "          accuracy                           0.98      3090\n",
      "         macro avg       0.98      0.98      0.98      3090\n",
      "      weighted avg       0.98      0.98      0.98      3090\n",
      "\n"
     ]
    }
   ],
   "source": [
    "y_pred_clf1 = clf1.predict(X_test)\n",
    "y_pred_clf2 = clf2.predict(X_test)\n",
    "y_pred_clf3 = clf3.predict(X_test)\n",
    "y_pred_clf4 = clf4.predict(X_test)\n",
    "\n",
    "x_for_level_2_test = pd.DataFrame(data={'clf1': y_pred_clf1, 'clf2': y_pred_clf2,'clf3': y_pred_clf3,'clf4': y_pred_clf4})\n",
    "x_for_level_2_test = pd.get_dummies(x_for_level_2_test,drop_first = True)\n",
    "\n",
    "#print(x_for_level_2_test.head())\n",
    "y_pred = clf_blen.predict(x_for_level_2_test)\n",
    "\n",
    "print(confusion_matrix(y_test, y_pred))\n",
    "print(classification_report(y_test, y_pred))"
   ]
  }
 ],
 "metadata": {
  "kernelspec": {
   "display_name": "Python 3",
   "language": "python",
   "name": "python3"
  },
  "language_info": {
   "codemirror_mode": {
    "name": "ipython",
    "version": 3
   },
   "file_extension": ".py",
   "mimetype": "text/x-python",
   "name": "python",
   "nbconvert_exporter": "python",
   "pygments_lexer": "ipython3",
   "version": "3.7.6"
  }
 },
 "nbformat": 4,
 "nbformat_minor": 2
}
