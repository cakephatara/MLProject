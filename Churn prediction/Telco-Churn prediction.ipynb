{
 "cells": [
  {
   "cell_type": "markdown",
   "metadata": {},
   "source": [
    "# Project Machine Learning"
   ]
  },
  {
   "cell_type": "code",
   "execution_count": 2,
   "metadata": {},
   "outputs": [],
   "source": [
    "import warnings\n",
    "warnings.filterwarnings('ignore')"
   ]
  },
  {
   "cell_type": "code",
   "execution_count": 3,
   "metadata": {},
   "outputs": [],
   "source": [
    "import numpy as np\n",
    "import pandas as pd\n",
    "import matplotlib.pyplot as plt\n",
    "import seaborn as sns\n",
    "%matplotlib inline"
   ]
  },
  {
   "cell_type": "code",
   "execution_count": 4,
   "metadata": {},
   "outputs": [],
   "source": [
    "from sklearn.model_selection import train_test_split\n",
    "from sklearn.neighbors import KNeighborsClassifier\n",
    "from sklearn.tree import DecisionTreeClassifier\n",
    "from sklearn.linear_model import LogisticRegression\n",
    "from sklearn.svm import SVC\n",
    "from sklearn.ensemble import RandomForestClassifier\n",
    "from sklearn.metrics import classification_report, confusion_matrix\n",
    "rs = 101"
   ]
  },
  {
   "cell_type": "code",
   "execution_count": 5,
   "metadata": {},
   "outputs": [],
   "source": [
    "df1 = pd.read_csv('WA_Fn-UseC_-Telco-Customer-Churn.csv', dtype='object', index_col = 'customerID')\n",
    "df2 = pd.read_csv('WA_Fn-UseC_-Telco-Customer-Churn.csv')\n",
    "# data = pd.concat([df1, df2])"
   ]
  },
  {
   "cell_type": "markdown",
   "metadata": {},
   "source": [
    "## EDA and preparing data"
   ]
  },
  {
   "cell_type": "code",
   "execution_count": 6,
   "metadata": {},
   "outputs": [
    {
     "data": {
      "text/html": [
       "<div>\n",
       "<style scoped>\n",
       "    .dataframe tbody tr th:only-of-type {\n",
       "        vertical-align: middle;\n",
       "    }\n",
       "\n",
       "    .dataframe tbody tr th {\n",
       "        vertical-align: top;\n",
       "    }\n",
       "\n",
       "    .dataframe thead th {\n",
       "        text-align: right;\n",
       "    }\n",
       "</style>\n",
       "<table border=\"1\" class=\"dataframe\">\n",
       "  <thead>\n",
       "    <tr style=\"text-align: right;\">\n",
       "      <th></th>\n",
       "      <th>gender</th>\n",
       "      <th>SeniorCitizen</th>\n",
       "      <th>Partner</th>\n",
       "      <th>Dependents</th>\n",
       "      <th>tenure</th>\n",
       "      <th>PhoneService</th>\n",
       "      <th>MultipleLines</th>\n",
       "      <th>InternetService</th>\n",
       "      <th>OnlineSecurity</th>\n",
       "      <th>OnlineBackup</th>\n",
       "      <th>DeviceProtection</th>\n",
       "      <th>TechSupport</th>\n",
       "      <th>StreamingTV</th>\n",
       "      <th>StreamingMovies</th>\n",
       "      <th>Contract</th>\n",
       "      <th>PaperlessBilling</th>\n",
       "      <th>PaymentMethod</th>\n",
       "      <th>MonthlyCharges</th>\n",
       "      <th>TotalCharges</th>\n",
       "      <th>Churn</th>\n",
       "    </tr>\n",
       "    <tr>\n",
       "      <th>customerID</th>\n",
       "      <th></th>\n",
       "      <th></th>\n",
       "      <th></th>\n",
       "      <th></th>\n",
       "      <th></th>\n",
       "      <th></th>\n",
       "      <th></th>\n",
       "      <th></th>\n",
       "      <th></th>\n",
       "      <th></th>\n",
       "      <th></th>\n",
       "      <th></th>\n",
       "      <th></th>\n",
       "      <th></th>\n",
       "      <th></th>\n",
       "      <th></th>\n",
       "      <th></th>\n",
       "      <th></th>\n",
       "      <th></th>\n",
       "      <th></th>\n",
       "    </tr>\n",
       "  </thead>\n",
       "  <tbody>\n",
       "    <tr>\n",
       "      <th>7590-VHVEG</th>\n",
       "      <td>Female</td>\n",
       "      <td>0</td>\n",
       "      <td>Yes</td>\n",
       "      <td>No</td>\n",
       "      <td>1</td>\n",
       "      <td>No</td>\n",
       "      <td>No phone service</td>\n",
       "      <td>DSL</td>\n",
       "      <td>No</td>\n",
       "      <td>Yes</td>\n",
       "      <td>No</td>\n",
       "      <td>No</td>\n",
       "      <td>No</td>\n",
       "      <td>No</td>\n",
       "      <td>Month-to-month</td>\n",
       "      <td>Yes</td>\n",
       "      <td>Electronic check</td>\n",
       "      <td>29.85</td>\n",
       "      <td>29.85</td>\n",
       "      <td>No</td>\n",
       "    </tr>\n",
       "    <tr>\n",
       "      <th>5575-GNVDE</th>\n",
       "      <td>Male</td>\n",
       "      <td>0</td>\n",
       "      <td>No</td>\n",
       "      <td>No</td>\n",
       "      <td>34</td>\n",
       "      <td>Yes</td>\n",
       "      <td>No</td>\n",
       "      <td>DSL</td>\n",
       "      <td>Yes</td>\n",
       "      <td>No</td>\n",
       "      <td>Yes</td>\n",
       "      <td>No</td>\n",
       "      <td>No</td>\n",
       "      <td>No</td>\n",
       "      <td>One year</td>\n",
       "      <td>No</td>\n",
       "      <td>Mailed check</td>\n",
       "      <td>56.95</td>\n",
       "      <td>1889.5</td>\n",
       "      <td>No</td>\n",
       "    </tr>\n",
       "    <tr>\n",
       "      <th>3668-QPYBK</th>\n",
       "      <td>Male</td>\n",
       "      <td>0</td>\n",
       "      <td>No</td>\n",
       "      <td>No</td>\n",
       "      <td>2</td>\n",
       "      <td>Yes</td>\n",
       "      <td>No</td>\n",
       "      <td>DSL</td>\n",
       "      <td>Yes</td>\n",
       "      <td>Yes</td>\n",
       "      <td>No</td>\n",
       "      <td>No</td>\n",
       "      <td>No</td>\n",
       "      <td>No</td>\n",
       "      <td>Month-to-month</td>\n",
       "      <td>Yes</td>\n",
       "      <td>Mailed check</td>\n",
       "      <td>53.85</td>\n",
       "      <td>108.15</td>\n",
       "      <td>Yes</td>\n",
       "    </tr>\n",
       "    <tr>\n",
       "      <th>7795-CFOCW</th>\n",
       "      <td>Male</td>\n",
       "      <td>0</td>\n",
       "      <td>No</td>\n",
       "      <td>No</td>\n",
       "      <td>45</td>\n",
       "      <td>No</td>\n",
       "      <td>No phone service</td>\n",
       "      <td>DSL</td>\n",
       "      <td>Yes</td>\n",
       "      <td>No</td>\n",
       "      <td>Yes</td>\n",
       "      <td>Yes</td>\n",
       "      <td>No</td>\n",
       "      <td>No</td>\n",
       "      <td>One year</td>\n",
       "      <td>No</td>\n",
       "      <td>Bank transfer (automatic)</td>\n",
       "      <td>42.3</td>\n",
       "      <td>1840.75</td>\n",
       "      <td>No</td>\n",
       "    </tr>\n",
       "    <tr>\n",
       "      <th>9237-HQITU</th>\n",
       "      <td>Female</td>\n",
       "      <td>0</td>\n",
       "      <td>No</td>\n",
       "      <td>No</td>\n",
       "      <td>2</td>\n",
       "      <td>Yes</td>\n",
       "      <td>No</td>\n",
       "      <td>Fiber optic</td>\n",
       "      <td>No</td>\n",
       "      <td>No</td>\n",
       "      <td>No</td>\n",
       "      <td>No</td>\n",
       "      <td>No</td>\n",
       "      <td>No</td>\n",
       "      <td>Month-to-month</td>\n",
       "      <td>Yes</td>\n",
       "      <td>Electronic check</td>\n",
       "      <td>70.7</td>\n",
       "      <td>151.65</td>\n",
       "      <td>Yes</td>\n",
       "    </tr>\n",
       "  </tbody>\n",
       "</table>\n",
       "</div>"
      ],
      "text/plain": [
       "            gender SeniorCitizen Partner Dependents tenure PhoneService  \\\n",
       "customerID                                                                \n",
       "7590-VHVEG  Female             0     Yes         No      1           No   \n",
       "5575-GNVDE    Male             0      No         No     34          Yes   \n",
       "3668-QPYBK    Male             0      No         No      2          Yes   \n",
       "7795-CFOCW    Male             0      No         No     45           No   \n",
       "9237-HQITU  Female             0      No         No      2          Yes   \n",
       "\n",
       "               MultipleLines InternetService OnlineSecurity OnlineBackup  \\\n",
       "customerID                                                                 \n",
       "7590-VHVEG  No phone service             DSL             No          Yes   \n",
       "5575-GNVDE                No             DSL            Yes           No   \n",
       "3668-QPYBK                No             DSL            Yes          Yes   \n",
       "7795-CFOCW  No phone service             DSL            Yes           No   \n",
       "9237-HQITU                No     Fiber optic             No           No   \n",
       "\n",
       "           DeviceProtection TechSupport StreamingTV StreamingMovies  \\\n",
       "customerID                                                            \n",
       "7590-VHVEG               No          No          No              No   \n",
       "5575-GNVDE              Yes          No          No              No   \n",
       "3668-QPYBK               No          No          No              No   \n",
       "7795-CFOCW              Yes         Yes          No              No   \n",
       "9237-HQITU               No          No          No              No   \n",
       "\n",
       "                  Contract PaperlessBilling              PaymentMethod  \\\n",
       "customerID                                                               \n",
       "7590-VHVEG  Month-to-month              Yes           Electronic check   \n",
       "5575-GNVDE        One year               No               Mailed check   \n",
       "3668-QPYBK  Month-to-month              Yes               Mailed check   \n",
       "7795-CFOCW        One year               No  Bank transfer (automatic)   \n",
       "9237-HQITU  Month-to-month              Yes           Electronic check   \n",
       "\n",
       "           MonthlyCharges TotalCharges Churn  \n",
       "customerID                                    \n",
       "7590-VHVEG          29.85        29.85    No  \n",
       "5575-GNVDE          56.95       1889.5    No  \n",
       "3668-QPYBK          53.85       108.15   Yes  \n",
       "7795-CFOCW           42.3      1840.75    No  \n",
       "9237-HQITU           70.7       151.65   Yes  "
      ]
     },
     "execution_count": 6,
     "metadata": {},
     "output_type": "execute_result"
    }
   ],
   "source": [
    "df1.head(5)"
   ]
  },
  {
   "cell_type": "code",
   "execution_count": 7,
   "metadata": {
    "scrolled": true
   },
   "outputs": [
    {
     "data": {
      "text/plain": [
       "Index(['gender', 'SeniorCitizen', 'Partner', 'Dependents', 'tenure',\n",
       "       'PhoneService', 'MultipleLines', 'InternetService', 'OnlineSecurity',\n",
       "       'OnlineBackup', 'DeviceProtection', 'TechSupport', 'StreamingTV',\n",
       "       'StreamingMovies', 'Contract', 'PaperlessBilling', 'PaymentMethod',\n",
       "       'MonthlyCharges', 'TotalCharges', 'Churn'],\n",
       "      dtype='object')"
      ]
     },
     "execution_count": 7,
     "metadata": {},
     "output_type": "execute_result"
    }
   ],
   "source": [
    "df1.columns"
   ]
  },
  {
   "cell_type": "code",
   "execution_count": 8,
   "metadata": {},
   "outputs": [
    {
     "data": {
      "text/plain": [
       "<matplotlib.axes._subplots.AxesSubplot at 0x1a17882f98>"
      ]
     },
     "execution_count": 8,
     "metadata": {},
     "output_type": "execute_result"
    },
    {
     "data": {
      "image/png": "[encoded data removed]",
      "text/plain": [
       "<Figure size 432x288 with 1 Axes>"
      ]
     },
     "metadata": {
      "needs_background": "light"
     },
     "output_type": "display_data"
    }
   ],
   "source": [
    "sns.heatmap(df1.isnull(), yticklabels=False, cbar=False, cmap='viridis')"
   ]
  },
  {
   "cell_type": "code",
   "execution_count": 9,
   "metadata": {
    "scrolled": true
   },
   "outputs": [
    {
     "data": {
      "text/plain": [
       "array(['Electronic check', 'Mailed check', 'Bank transfer (automatic)',\n",
       "       'Credit card (automatic)'], dtype=object)"
      ]
     },
     "execution_count": 9,
     "metadata": {},
     "output_type": "execute_result"
    }
   ],
   "source": [
    "df1['PaymentMethod'].unique()"
   ]
  },
  {
   "cell_type": "markdown",
   "metadata": {},
   "source": [
    "## Chage categories data to dummies data"
   ]
  },
  {
   "cell_type": "code",
   "execution_count": 10,
   "metadata": {},
   "outputs": [],
   "source": [
    "gender_to_num = {'Female': 0,'Male': 1}\n",
    "partner_to_num = {'No': 0,'Yes': 1}\n",
    "depend_to_num = {'No': 0,'Yes': 1}\n",
    "phone_to_num = {'No': 0,'Yes': 1}\n",
    "multi_to_num = {'No': 0,'Yes': 1,'No phone service':2}\n",
    "internet_to_num = {'DSL': 0,'Fiber optic': 1,'No': 2}\n",
    "security_to_num = {'No': 0,'Yes': 1,'No internet service': 2}\n",
    "backup_to_num = {'No': 0,'Yes': 1,'No internet service': 2}\n",
    "protection_to_num = {'No': 0,'Yes': 1,'No internet service': 2}\n",
    "support_to_num = {'No': 0,'Yes': 1,'No internet service': 2}\n",
    "streamingtv_to_num = {'No': 0,'Yes': 1,'No internet service': 2}\n",
    "streamingmovie_to_num = {'No': 0,'Yes': 1,'No internet service': 2}\n",
    "contract_to_num = {'Month-to-month': 0,'One year': 1,'Two year': 2}\n",
    "paperless_to_num = {'No': 0,'Yes': 1}\n",
    "payment_to_num = {'Electronic check': 0,'Mailed check': 1,'Bank transfer (automatic)': 2, 'Credit card (automatic)':3}\n",
    "churn_to_num = {'No': 0,'Yes': 1}\n",
    "df1['gender_num'] = df1['gender'].map(gender_to_num)\n",
    "df1['partner_num'] = df1['Partner'].map(partner_to_num)\n",
    "df1['dependents_num'] = df1['Dependents'].map(depend_to_num)\n",
    "df1['phone_service_num'] = df1['PhoneService'].map(phone_to_num)\n",
    "df1['multipleLines_num'] = df1['MultipleLines'].map(multi_to_num)\n",
    "df1['InternetService_num'] = df1['InternetService'].map(internet_to_num)\n",
    "df1['Security_num'] = df1['OnlineSecurity'].map(security_to_num)\n",
    "df1['OnlineBackup_num'] = df1['OnlineBackup'].map(backup_to_num)\n",
    "df1['DeviceProtection_num'] = df1['DeviceProtection'].map(protection_to_num)\n",
    "df1['TechSupport_num'] = df1['TechSupport'].map(support_to_num)\n",
    "df1['StreamingTV_num'] = df1['StreamingTV'].map(streamingtv_to_num)\n",
    "df1['StreamingMovie_num'] = df1['StreamingMovies'].map(streamingmovie_to_num)\n",
    "df1['Contract_num'] = df1['Contract'].map(contract_to_num)\n",
    "df1['PaperlessBill_num'] = df1['PaperlessBilling'].map(paperless_to_num)\n",
    "df1['PaymentMethod_num'] = df1['PaymentMethod'].map(payment_to_num)\n",
    "df1['Churn_num'] = df1['Churn'].map(churn_to_num)\n",
    "\n",
    "# TotalCharges are NULL values.\n",
    "# totacharges_null = df1[df1['customerID']= ['4472-LVYGI','3115-CZMZD',\n",
    "#                                            '5709-LVOEQ','4367-NUYAO',\n",
    "#                                            '1371-DWPAZ','7644-OMVMY',\n",
    "#                                            '7644-OMVMY','3213-VVOLG',\n",
    "#                                             '2520-SGTTA',\n",
    "#                                            '2923-ARZLG','4075-WKNIU',\n",
    "#                                            '2775-SEFEE']]\n",
    "\n",
    "df1.drop(['4472-LVYGI','3115-CZMZD','5709-LVOEQ','4367-NUYAO',\n",
    "        '1371-DWPAZ','7644-OMVMY','3213-VVOLG','2520-SGTTA','2923-ARZLG','4075-WKNIU',\n",
    "          '2775-SEFEE'], inplace = True)\n",
    "\n",
    "\n",
    "\n",
    "df1.drop(['gender','Partner','Dependents','PhoneService','MultipleLines','InternetService',\n",
    "         'OnlineSecurity','OnlineBackup','DeviceProtection','TechSupport','StreamingTV','StreamingMovies',\n",
    "         'Contract','PaperlessBilling','PaymentMethod','Churn'],axis =1, inplace = True)\n",
    "\n",
    "\n",
    "\n",
    "\n",
    "\n",
    "# df1['MonthlyCharges'] = df1['MonthlyCharges'].astype('float32')\n",
    "# # df1['TotalCharges'] = df1['TotalCharges'].astype('float32').dropna()\n",
    "# pd.to_numeric(df1['TotalCharges'], errors='coerce').notnull()\n",
    "# df1 = df1.dropna()\n",
    "# df1['tenure'] = df1['tenure'].astype('int64') "
   ]
  },
  {
   "cell_type": "code",
   "execution_count": 11,
   "metadata": {},
   "outputs": [],
   "source": [
    "# df1['TotalCharges'] = pd.to_numeric(df1['TotalCharges'], errors='coerce')"
   ]
  },
  {
   "cell_type": "code",
   "execution_count": 12,
   "metadata": {
    "scrolled": true
   },
   "outputs": [
    {
     "name": "stdout",
     "output_type": "stream",
     "text": [
      "<class 'pandas.core.frame.DataFrame'>\n",
      "Index: 7032 entries, 7590-VHVEG to 3186-AJIEK\n",
      "Data columns (total 20 columns):\n",
      "SeniorCitizen           7032 non-null object\n",
      "tenure                  7032 non-null object\n",
      "MonthlyCharges          7032 non-null object\n",
      "TotalCharges            7032 non-null object\n",
      "gender_num              7032 non-null int64\n",
      "partner_num             7032 non-null int64\n",
      "dependents_num          7032 non-null int64\n",
      "phone_service_num       7032 non-null int64\n",
      "multipleLines_num       7032 non-null int64\n",
      "InternetService_num     7032 non-null int64\n",
      "Security_num            7032 non-null int64\n",
      "OnlineBackup_num        7032 non-null int64\n",
      "DeviceProtection_num    7032 non-null int64\n",
      "TechSupport_num         7032 non-null int64\n",
      "StreamingTV_num         7032 non-null int64\n",
      "StreamingMovie_num      7032 non-null int64\n",
      "Contract_num            7032 non-null int64\n",
      "PaperlessBill_num       7032 non-null int64\n",
      "PaymentMethod_num       7032 non-null int64\n",
      "Churn_num               7032 non-null int64\n",
      "dtypes: int64(16), object(4)\n",
      "memory usage: 1.1+ MB\n"
     ]
    }
   ],
   "source": [
    "df1.info()"
   ]
  },
  {
   "cell_type": "code",
   "execution_count": 13,
   "metadata": {},
   "outputs": [],
   "source": [
    "df1['SeniorCitizen'] = df1['SeniorCitizen'].astype('int64')\n",
    "df1['tenure'] = df1['tenure'].astype('float64')\n",
    "df1['MonthlyCharges'] = df1['MonthlyCharges'].astype('float64')\n",
    "df1['TotalCharges'] = df1['TotalCharges'].astype('float64')"
   ]
  },
  {
   "cell_type": "code",
   "execution_count": 14,
   "metadata": {
    "scrolled": true
   },
   "outputs": [
    {
     "name": "stdout",
     "output_type": "stream",
     "text": [
      "<class 'pandas.core.frame.DataFrame'>\n",
      "Index: 7032 entries, 7590-VHVEG to 3186-AJIEK\n",
      "Data columns (total 20 columns):\n",
      "SeniorCitizen           7032 non-null int64\n",
      "tenure                  7032 non-null float64\n",
      "MonthlyCharges          7032 non-null float64\n",
      "TotalCharges            7032 non-null float64\n",
      "gender_num              7032 non-null int64\n",
      "partner_num             7032 non-null int64\n",
      "dependents_num          7032 non-null int64\n",
      "phone_service_num       7032 non-null int64\n",
      "multipleLines_num       7032 non-null int64\n",
      "InternetService_num     7032 non-null int64\n",
      "Security_num            7032 non-null int64\n",
      "OnlineBackup_num        7032 non-null int64\n",
      "DeviceProtection_num    7032 non-null int64\n",
      "TechSupport_num         7032 non-null int64\n",
      "StreamingTV_num         7032 non-null int64\n",
      "StreamingMovie_num      7032 non-null int64\n",
      "Contract_num            7032 non-null int64\n",
      "PaperlessBill_num       7032 non-null int64\n",
      "PaymentMethod_num       7032 non-null int64\n",
      "Churn_num               7032 non-null int64\n",
      "dtypes: float64(3), int64(17)\n",
      "memory usage: 1.1+ MB\n"
     ]
    }
   ],
   "source": [
    "df1.info()"
   ]
  },
  {
   "cell_type": "code",
   "execution_count": 15,
   "metadata": {},
   "outputs": [
    {
     "data": {
      "text/html": [
       "<div>\n",
       "<style scoped>\n",
       "    .dataframe tbody tr th:only-of-type {\n",
       "        vertical-align: middle;\n",
       "    }\n",
       "\n",
       "    .dataframe tbody tr th {\n",
       "        vertical-align: top;\n",
       "    }\n",
       "\n",
       "    .dataframe thead th {\n",
       "        text-align: right;\n",
       "    }\n",
       "</style>\n",
       "<table border=\"1\" class=\"dataframe\">\n",
       "  <thead>\n",
       "    <tr style=\"text-align: right;\">\n",
       "      <th></th>\n",
       "      <th>SeniorCitizen</th>\n",
       "      <th>tenure</th>\n",
       "      <th>MonthlyCharges</th>\n",
       "      <th>TotalCharges</th>\n",
       "      <th>gender_num</th>\n",
       "      <th>partner_num</th>\n",
       "      <th>dependents_num</th>\n",
       "      <th>phone_service_num</th>\n",
       "      <th>multipleLines_num</th>\n",
       "      <th>InternetService_num</th>\n",
       "      <th>Security_num</th>\n",
       "      <th>OnlineBackup_num</th>\n",
       "      <th>DeviceProtection_num</th>\n",
       "      <th>TechSupport_num</th>\n",
       "      <th>StreamingTV_num</th>\n",
       "      <th>StreamingMovie_num</th>\n",
       "      <th>Contract_num</th>\n",
       "      <th>PaperlessBill_num</th>\n",
       "      <th>PaymentMethod_num</th>\n",
       "      <th>Churn_num</th>\n",
       "    </tr>\n",
       "    <tr>\n",
       "      <th>customerID</th>\n",
       "      <th></th>\n",
       "      <th></th>\n",
       "      <th></th>\n",
       "      <th></th>\n",
       "      <th></th>\n",
       "      <th></th>\n",
       "      <th></th>\n",
       "      <th></th>\n",
       "      <th></th>\n",
       "      <th></th>\n",
       "      <th></th>\n",
       "      <th></th>\n",
       "      <th></th>\n",
       "      <th></th>\n",
       "      <th></th>\n",
       "      <th></th>\n",
       "      <th></th>\n",
       "      <th></th>\n",
       "      <th></th>\n",
       "      <th></th>\n",
       "    </tr>\n",
       "  </thead>\n",
       "  <tbody>\n",
       "    <tr>\n",
       "      <th>7590-VHVEG</th>\n",
       "      <td>0</td>\n",
       "      <td>1.0</td>\n",
       "      <td>29.85</td>\n",
       "      <td>29.85</td>\n",
       "      <td>0</td>\n",
       "      <td>1</td>\n",
       "      <td>0</td>\n",
       "      <td>0</td>\n",
       "      <td>2</td>\n",
       "      <td>0</td>\n",
       "      <td>0</td>\n",
       "      <td>1</td>\n",
       "      <td>0</td>\n",
       "      <td>0</td>\n",
       "      <td>0</td>\n",
       "      <td>0</td>\n",
       "      <td>0</td>\n",
       "      <td>1</td>\n",
       "      <td>0</td>\n",
       "      <td>0</td>\n",
       "    </tr>\n",
       "    <tr>\n",
       "      <th>5575-GNVDE</th>\n",
       "      <td>0</td>\n",
       "      <td>34.0</td>\n",
       "      <td>56.95</td>\n",
       "      <td>1889.50</td>\n",
       "      <td>1</td>\n",
       "      <td>0</td>\n",
       "      <td>0</td>\n",
       "      <td>1</td>\n",
       "      <td>0</td>\n",
       "      <td>0</td>\n",
       "      <td>1</td>\n",
       "      <td>0</td>\n",
       "      <td>1</td>\n",
       "      <td>0</td>\n",
       "      <td>0</td>\n",
       "      <td>0</td>\n",
       "      <td>1</td>\n",
       "      <td>0</td>\n",
       "      <td>1</td>\n",
       "      <td>0</td>\n",
       "    </tr>\n",
       "    <tr>\n",
       "      <th>3668-QPYBK</th>\n",
       "      <td>0</td>\n",
       "      <td>2.0</td>\n",
       "      <td>53.85</td>\n",
       "      <td>108.15</td>\n",
       "      <td>1</td>\n",
       "      <td>0</td>\n",
       "      <td>0</td>\n",
       "      <td>1</td>\n",
       "      <td>0</td>\n",
       "      <td>0</td>\n",
       "      <td>1</td>\n",
       "      <td>1</td>\n",
       "      <td>0</td>\n",
       "      <td>0</td>\n",
       "      <td>0</td>\n",
       "      <td>0</td>\n",
       "      <td>0</td>\n",
       "      <td>1</td>\n",
       "      <td>1</td>\n",
       "      <td>1</td>\n",
       "    </tr>\n",
       "    <tr>\n",
       "      <th>7795-CFOCW</th>\n",
       "      <td>0</td>\n",
       "      <td>45.0</td>\n",
       "      <td>42.30</td>\n",
       "      <td>1840.75</td>\n",
       "      <td>1</td>\n",
       "      <td>0</td>\n",
       "      <td>0</td>\n",
       "      <td>0</td>\n",
       "      <td>2</td>\n",
       "      <td>0</td>\n",
       "      <td>1</td>\n",
       "      <td>0</td>\n",
       "      <td>1</td>\n",
       "      <td>1</td>\n",
       "      <td>0</td>\n",
       "      <td>0</td>\n",
       "      <td>1</td>\n",
       "      <td>0</td>\n",
       "      <td>2</td>\n",
       "      <td>0</td>\n",
       "    </tr>\n",
       "    <tr>\n",
       "      <th>9237-HQITU</th>\n",
       "      <td>0</td>\n",
       "      <td>2.0</td>\n",
       "      <td>70.70</td>\n",
       "      <td>151.65</td>\n",
       "      <td>0</td>\n",
       "      <td>0</td>\n",
       "      <td>0</td>\n",
       "      <td>1</td>\n",
       "      <td>0</td>\n",
       "      <td>1</td>\n",
       "      <td>0</td>\n",
       "      <td>0</td>\n",
       "      <td>0</td>\n",
       "      <td>0</td>\n",
       "      <td>0</td>\n",
       "      <td>0</td>\n",
       "      <td>0</td>\n",
       "      <td>1</td>\n",
       "      <td>0</td>\n",
       "      <td>1</td>\n",
       "    </tr>\n",
       "  </tbody>\n",
       "</table>\n",
       "</div>"
      ],
      "text/plain": [
       "            SeniorCitizen  tenure  MonthlyCharges  TotalCharges  gender_num  \\\n",
       "customerID                                                                    \n",
       "7590-VHVEG              0     1.0           29.85         29.85           0   \n",
       "5575-GNVDE              0    34.0           56.95       1889.50           1   \n",
       "3668-QPYBK              0     2.0           53.85        108.15           1   \n",
       "7795-CFOCW              0    45.0           42.30       1840.75           1   \n",
       "9237-HQITU              0     2.0           70.70        151.65           0   \n",
       "\n",
       "            partner_num  dependents_num  phone_service_num  multipleLines_num  \\\n",
       "customerID                                                                      \n",
       "7590-VHVEG            1               0                  0                  2   \n",
       "5575-GNVDE            0               0                  1                  0   \n",
       "3668-QPYBK            0               0                  1                  0   \n",
       "7795-CFOCW            0               0                  0                  2   \n",
       "9237-HQITU            0               0                  1                  0   \n",
       "\n",
       "            InternetService_num  Security_num  OnlineBackup_num  \\\n",
       "customerID                                                        \n",
       "7590-VHVEG                    0             0                 1   \n",
       "5575-GNVDE                    0             1                 0   \n",
       "3668-QPYBK                    0             1                 1   \n",
       "7795-CFOCW                    0             1                 0   \n",
       "9237-HQITU                    1             0                 0   \n",
       "\n",
       "            DeviceProtection_num  TechSupport_num  StreamingTV_num  \\\n",
       "customerID                                                           \n",
       "7590-VHVEG                     0                0                0   \n",
       "5575-GNVDE                     1                0                0   \n",
       "3668-QPYBK                     0                0                0   \n",
       "7795-CFOCW                     1                1                0   \n",
       "9237-HQITU                     0                0                0   \n",
       "\n",
       "            StreamingMovie_num  Contract_num  PaperlessBill_num  \\\n",
       "customerID                                                        \n",
       "7590-VHVEG                   0             0                  1   \n",
       "5575-GNVDE                   0             1                  0   \n",
       "3668-QPYBK                   0             0                  1   \n",
       "7795-CFOCW                   0             1                  0   \n",
       "9237-HQITU                   0             0                  1   \n",
       "\n",
       "            PaymentMethod_num  Churn_num  \n",
       "customerID                                \n",
       "7590-VHVEG                  0          0  \n",
       "5575-GNVDE                  1          0  \n",
       "3668-QPYBK                  1          1  \n",
       "7795-CFOCW                  2          0  \n",
       "9237-HQITU                  0          1  "
      ]
     },
     "execution_count": 15,
     "metadata": {},
     "output_type": "execute_result"
    }
   ],
   "source": [
    "df1.head()"
   ]
  },
  {
   "cell_type": "code",
   "execution_count": 16,
   "metadata": {},
   "outputs": [
    {
     "data": {
      "text/html": [
       "<div>\n",
       "<style scoped>\n",
       "    .dataframe tbody tr th:only-of-type {\n",
       "        vertical-align: middle;\n",
       "    }\n",
       "\n",
       "    .dataframe tbody tr th {\n",
       "        vertical-align: top;\n",
       "    }\n",
       "\n",
       "    .dataframe thead th {\n",
       "        text-align: right;\n",
       "    }\n",
       "</style>\n",
       "<table border=\"1\" class=\"dataframe\">\n",
       "  <thead>\n",
       "    <tr style=\"text-align: right;\">\n",
       "      <th></th>\n",
       "      <th>MonthlyCharges</th>\n",
       "      <th>TotalCharges</th>\n",
       "      <th>tenure</th>\n",
       "      <th>Churn_num</th>\n",
       "    </tr>\n",
       "    <tr>\n",
       "      <th>customerID</th>\n",
       "      <th></th>\n",
       "      <th></th>\n",
       "      <th></th>\n",
       "      <th></th>\n",
       "    </tr>\n",
       "  </thead>\n",
       "  <tbody>\n",
       "    <tr>\n",
       "      <th>7590-VHVEG</th>\n",
       "      <td>29.85</td>\n",
       "      <td>29.85</td>\n",
       "      <td>1.0</td>\n",
       "      <td>0</td>\n",
       "    </tr>\n",
       "    <tr>\n",
       "      <th>5575-GNVDE</th>\n",
       "      <td>56.95</td>\n",
       "      <td>1889.50</td>\n",
       "      <td>34.0</td>\n",
       "      <td>0</td>\n",
       "    </tr>\n",
       "    <tr>\n",
       "      <th>3668-QPYBK</th>\n",
       "      <td>53.85</td>\n",
       "      <td>108.15</td>\n",
       "      <td>2.0</td>\n",
       "      <td>1</td>\n",
       "    </tr>\n",
       "    <tr>\n",
       "      <th>7795-CFOCW</th>\n",
       "      <td>42.30</td>\n",
       "      <td>1840.75</td>\n",
       "      <td>45.0</td>\n",
       "      <td>0</td>\n",
       "    </tr>\n",
       "    <tr>\n",
       "      <th>9237-HQITU</th>\n",
       "      <td>70.70</td>\n",
       "      <td>151.65</td>\n",
       "      <td>2.0</td>\n",
       "      <td>1</td>\n",
       "    </tr>\n",
       "  </tbody>\n",
       "</table>\n",
       "</div>"
      ],
      "text/plain": [
       "            MonthlyCharges  TotalCharges  tenure  Churn_num\n",
       "customerID                                                 \n",
       "7590-VHVEG           29.85         29.85     1.0          0\n",
       "5575-GNVDE           56.95       1889.50    34.0          0\n",
       "3668-QPYBK           53.85        108.15     2.0          1\n",
       "7795-CFOCW           42.30       1840.75    45.0          0\n",
       "9237-HQITU           70.70        151.65     2.0          1"
      ]
     },
     "execution_count": 16,
     "metadata": {},
     "output_type": "execute_result"
    }
   ],
   "source": [
    "df_2 = df1[['MonthlyCharges','TotalCharges','tenure','Churn_num']]\n",
    "df_2.head()"
   ]
  },
  {
   "cell_type": "code",
   "execution_count": 17,
   "metadata": {
    "scrolled": false
   },
   "outputs": [
    {
     "name": "stdout",
     "output_type": "stream",
     "text": [
      "<seaborn.axisgrid.PairGrid object at 0x1a182ecf60>\n"
     ]
    },
    {
     "data": {
      "image/png": "[encoded data removed]",
      "text/plain": [
       "<Figure size 785.5x720 with 20 Axes>"
      ]
     },
     "metadata": {
      "needs_background": "light"
     },
     "output_type": "display_data"
    }
   ],
   "source": [
    "print(sns.pairplot(df_2,hue='Churn_num',palette='rainbow'))"
   ]
  },
  {
   "cell_type": "code",
   "execution_count": 18,
   "metadata": {},
   "outputs": [
    {
     "data": {
      "text/plain": [
       "(7032, 20)"
      ]
     },
     "execution_count": 18,
     "metadata": {},
     "output_type": "execute_result"
    }
   ],
   "source": [
    "df1.shape"
   ]
  },
  {
   "cell_type": "markdown",
   "metadata": {},
   "source": [
    "### Find outlier"
   ]
  },
  {
   "cell_type": "code",
   "execution_count": 23,
   "metadata": {},
   "outputs": [
    {
     "data": {
      "text/plain": [
       "<matplotlib.axes._subplots.AxesSubplot at 0x1a19a45da0>"
      ]
     },
     "execution_count": 23,
     "metadata": {},
     "output_type": "execute_result"
    },
    {
     "data": {
      "image/png": "[encoded data removed]",
      "text/plain": [
       "<Figure size 432x288 with 1 Axes>"
      ]
     },
     "metadata": {
      "needs_background": "light"
     },
     "output_type": "display_data"
    }
   ],
   "source": [
    "sns.boxplot(data=df1[['tenure','MonthlyCharges']],palette='rainbow')"
   ]
  },
  {
   "cell_type": "code",
   "execution_count": 21,
   "metadata": {},
   "outputs": [
    {
     "data": {
      "text/plain": [
       "<matplotlib.axes._subplots.AxesSubplot at 0x1a17c6a160>"
      ]
     },
     "execution_count": 21,
     "metadata": {},
     "output_type": "execute_result"
    },
    {
     "data": {
      "image/png": "[encoded data removed]",
      "text/plain": [
       "<Figure size 432x288 with 1 Axes>"
      ]
     },
     "metadata": {
      "needs_background": "light"
     },
     "output_type": "display_data"
    }
   ],
   "source": [
    "sns.boxplot(data=df1[['TotalCharges']],palette='rainbow')"
   ]
  },
  {
   "cell_type": "markdown",
   "metadata": {},
   "source": [
    "### bar plot"
   ]
  },
  {
   "cell_type": "code",
   "execution_count": 26,
   "metadata": {
    "scrolled": true
   },
   "outputs": [
    {
     "data": {
      "text/plain": [
       "<matplotlib.axes._subplots.AxesSubplot at 0x1a17d93cc0>"
      ]
     },
     "execution_count": 26,
     "metadata": {},
     "output_type": "execute_result"
    },
    {
     "data": {
      "image/png": "[encoded data removed]",
      "text/plain": [
       "<Figure size 432x288 with 1 Axes>"
      ]
     },
     "metadata": {
      "needs_background": "light"
     },
     "output_type": "display_data"
    }
   ],
   "source": [
    "sns.barplot(x=\"Churn_num\", y=\"tenure\", data=df1,palette='rainbow')"
   ]
  },
  {
   "cell_type": "code",
   "execution_count": 25,
   "metadata": {
    "scrolled": true
   },
   "outputs": [
    {
     "data": {
      "text/plain": [
       "<matplotlib.axes._subplots.AxesSubplot at 0x1a17e90ba8>"
      ]
     },
     "execution_count": 25,
     "metadata": {},
     "output_type": "execute_result"
    },
    {
     "data": {
      "image/png": "[encoded data removed]",
      "text/plain": [
       "<Figure size 432x288 with 1 Axes>"
      ]
     },
     "metadata": {
      "needs_background": "light"
     },
     "output_type": "display_data"
    }
   ],
   "source": [
    "sns.barplot(x=\"Churn_num\", y=\"TotalCharges\", data=df1,palette='rainbow')"
   ]
  },
  {
   "cell_type": "code",
   "execution_count": 24,
   "metadata": {
    "scrolled": false
   },
   "outputs": [
    {
     "data": {
      "text/plain": [
       "<matplotlib.axes._subplots.AxesSubplot at 0x1a1923bf98>"
      ]
     },
     "execution_count": 24,
     "metadata": {},
     "output_type": "execute_result"
    },
    {
     "data": {
      "image/png": "[encoded data removed]",
      "text/plain": [
       "<Figure size 432x288 with 1 Axes>"
      ]
     },
     "metadata": {
      "needs_background": "light"
     },
     "output_type": "display_data"
    }
   ],
   "source": [
    "sns.barplot(x=\"Churn_num\", y=\"TotalCharges\", hue=\"gender_num\",data=df1, palette=\"coolwarm\")"
   ]
  },
  {
   "cell_type": "code",
   "execution_count": 92,
   "metadata": {},
   "outputs": [
    {
     "data": {
      "text/plain": [
       "<matplotlib.axes._subplots.AxesSubplot at 0x1a7e61b7f0>"
      ]
     },
     "execution_count": 92,
     "metadata": {},
     "output_type": "execute_result"
    },
    {
     "data": {
      "image/png": "[encoded data removed]",
      "text/plain": [
       "<Figure size 432x288 with 1 Axes>"
      ]
     },
     "metadata": {
      "needs_background": "light"
     },
     "output_type": "display_data"
    }
   ],
   "source": [
    "sns.his(x=\"TotalCharges\", y=\"gender_num\", hue=\"Churn_num\",data=df1, palette=\"rainbow\")"
   ]
  },
  {
   "cell_type": "code",
   "execution_count": null,
   "metadata": {},
   "outputs": [],
   "source": []
  },
  {
   "cell_type": "code",
   "execution_count": 93,
   "metadata": {},
   "outputs": [
    {
     "data": {
      "text/plain": [
       "<matplotlib.axes._subplots.AxesSubplot at 0x1a1d00b9b0>"
      ]
     },
     "execution_count": 93,
     "metadata": {},
     "output_type": "execute_result"
    },
    {
     "data": {
      "image/png": "[encoded data removed]",
      "text/plain": [
       "<Figure size 432x288 with 1 Axes>"
      ]
     },
     "metadata": {
      "needs_background": "light"
     },
     "output_type": "display_data"
    }
   ],
   "source": [
    "sns.barplot(x='Churn_num',y='gender_num',data=df1)"
   ]
  },
  {
   "cell_type": "code",
   "execution_count": 94,
   "metadata": {},
   "outputs": [
    {
     "data": {
      "text/plain": [
       "<matplotlib.axes._subplots.AxesSubplot at 0x1a1ccf67f0>"
      ]
     },
     "execution_count": 94,
     "metadata": {},
     "output_type": "execute_result"
    },
    {
     "data": {
      "image/png": "[encoded data removed]",
      "text/plain": [
       "<Figure size 432x288 with 1 Axes>"
      ]
     },
     "metadata": {
      "needs_background": "light"
     },
     "output_type": "display_data"
    }
   ],
   "source": [
    "sns.countplot(x='Churn_num',data=df1)"
   ]
  },
  {
   "cell_type": "code",
   "execution_count": 96,
   "metadata": {},
   "outputs": [
    {
     "data": {
      "text/plain": [
       "<seaborn.axisgrid.FacetGrid at 0x1a6efdc128>"
      ]
     },
     "execution_count": 96,
     "metadata": {},
     "output_type": "execute_result"
    },
    {
     "data": {
      "image/png": "[encoded data removed]",
      "text/plain": [
       "<Figure size 430.875x360 with 1 Axes>"
      ]
     },
     "metadata": {
      "needs_background": "light"
     },
     "output_type": "display_data"
    }
   ],
   "source": [
    "sns.lmplot(x='TotalCharges',y='tenure',data=df1,hue='gender_num')"
   ]
  },
  {
   "cell_type": "markdown",
   "metadata": {},
   "source": [
    "# Set X and Y variables"
   ]
  },
  {
   "cell_type": "code",
   "execution_count": 82,
   "metadata": {},
   "outputs": [],
   "source": [
    "X = df1.drop(['Churn_num'], axis=1)\n",
    "y = df1['Churn_num']"
   ]
  },
  {
   "cell_type": "code",
   "execution_count": 83,
   "metadata": {
    "scrolled": false
   },
   "outputs": [
    {
     "data": {
      "text/html": [
       "<div>\n",
       "<style scoped>\n",
       "    .dataframe tbody tr th:only-of-type {\n",
       "        vertical-align: middle;\n",
       "    }\n",
       "\n",
       "    .dataframe tbody tr th {\n",
       "        vertical-align: top;\n",
       "    }\n",
       "\n",
       "    .dataframe thead th {\n",
       "        text-align: right;\n",
       "    }\n",
       "</style>\n",
       "<table border=\"1\" class=\"dataframe\">\n",
       "  <thead>\n",
       "    <tr style=\"text-align: right;\">\n",
       "      <th></th>\n",
       "      <th>SeniorCitizen</th>\n",
       "      <th>tenure</th>\n",
       "      <th>MonthlyCharges</th>\n",
       "      <th>TotalCharges</th>\n",
       "      <th>gender_num</th>\n",
       "      <th>partner_num</th>\n",
       "      <th>dependents_num</th>\n",
       "      <th>phone_service_num</th>\n",
       "      <th>multipleLines_num</th>\n",
       "      <th>InternetService_num</th>\n",
       "      <th>Security_num</th>\n",
       "      <th>OnlineBackup_num</th>\n",
       "      <th>DeviceProtection_num</th>\n",
       "      <th>TechSupport_num</th>\n",
       "      <th>StreamingTV_num</th>\n",
       "      <th>StreamingMovie_num</th>\n",
       "      <th>Contract_num</th>\n",
       "      <th>PaperlessBill_num</th>\n",
       "      <th>PaymentMethod_num</th>\n",
       "    </tr>\n",
       "    <tr>\n",
       "      <th>customerID</th>\n",
       "      <th></th>\n",
       "      <th></th>\n",
       "      <th></th>\n",
       "      <th></th>\n",
       "      <th></th>\n",
       "      <th></th>\n",
       "      <th></th>\n",
       "      <th></th>\n",
       "      <th></th>\n",
       "      <th></th>\n",
       "      <th></th>\n",
       "      <th></th>\n",
       "      <th></th>\n",
       "      <th></th>\n",
       "      <th></th>\n",
       "      <th></th>\n",
       "      <th></th>\n",
       "      <th></th>\n",
       "      <th></th>\n",
       "    </tr>\n",
       "  </thead>\n",
       "  <tbody>\n",
       "    <tr>\n",
       "      <th>7590-VHVEG</th>\n",
       "      <td>0</td>\n",
       "      <td>1.0</td>\n",
       "      <td>29.85</td>\n",
       "      <td>29.85</td>\n",
       "      <td>0</td>\n",
       "      <td>1</td>\n",
       "      <td>0</td>\n",
       "      <td>0</td>\n",
       "      <td>2</td>\n",
       "      <td>0</td>\n",
       "      <td>0</td>\n",
       "      <td>1</td>\n",
       "      <td>0</td>\n",
       "      <td>0</td>\n",
       "      <td>0</td>\n",
       "      <td>0</td>\n",
       "      <td>0</td>\n",
       "      <td>1</td>\n",
       "      <td>0</td>\n",
       "    </tr>\n",
       "    <tr>\n",
       "      <th>5575-GNVDE</th>\n",
       "      <td>0</td>\n",
       "      <td>34.0</td>\n",
       "      <td>56.95</td>\n",
       "      <td>1889.50</td>\n",
       "      <td>1</td>\n",
       "      <td>0</td>\n",
       "      <td>0</td>\n",
       "      <td>1</td>\n",
       "      <td>0</td>\n",
       "      <td>0</td>\n",
       "      <td>1</td>\n",
       "      <td>0</td>\n",
       "      <td>1</td>\n",
       "      <td>0</td>\n",
       "      <td>0</td>\n",
       "      <td>0</td>\n",
       "      <td>1</td>\n",
       "      <td>0</td>\n",
       "      <td>1</td>\n",
       "    </tr>\n",
       "    <tr>\n",
       "      <th>3668-QPYBK</th>\n",
       "      <td>0</td>\n",
       "      <td>2.0</td>\n",
       "      <td>53.85</td>\n",
       "      <td>108.15</td>\n",
       "      <td>1</td>\n",
       "      <td>0</td>\n",
       "      <td>0</td>\n",
       "      <td>1</td>\n",
       "      <td>0</td>\n",
       "      <td>0</td>\n",
       "      <td>1</td>\n",
       "      <td>1</td>\n",
       "      <td>0</td>\n",
       "      <td>0</td>\n",
       "      <td>0</td>\n",
       "      <td>0</td>\n",
       "      <td>0</td>\n",
       "      <td>1</td>\n",
       "      <td>1</td>\n",
       "    </tr>\n",
       "    <tr>\n",
       "      <th>7795-CFOCW</th>\n",
       "      <td>0</td>\n",
       "      <td>45.0</td>\n",
       "      <td>42.30</td>\n",
       "      <td>1840.75</td>\n",
       "      <td>1</td>\n",
       "      <td>0</td>\n",
       "      <td>0</td>\n",
       "      <td>0</td>\n",
       "      <td>2</td>\n",
       "      <td>0</td>\n",
       "      <td>1</td>\n",
       "      <td>0</td>\n",
       "      <td>1</td>\n",
       "      <td>1</td>\n",
       "      <td>0</td>\n",
       "      <td>0</td>\n",
       "      <td>1</td>\n",
       "      <td>0</td>\n",
       "      <td>2</td>\n",
       "    </tr>\n",
       "    <tr>\n",
       "      <th>9237-HQITU</th>\n",
       "      <td>0</td>\n",
       "      <td>2.0</td>\n",
       "      <td>70.70</td>\n",
       "      <td>151.65</td>\n",
       "      <td>0</td>\n",
       "      <td>0</td>\n",
       "      <td>0</td>\n",
       "      <td>1</td>\n",
       "      <td>0</td>\n",
       "      <td>1</td>\n",
       "      <td>0</td>\n",
       "      <td>0</td>\n",
       "      <td>0</td>\n",
       "      <td>0</td>\n",
       "      <td>0</td>\n",
       "      <td>0</td>\n",
       "      <td>0</td>\n",
       "      <td>1</td>\n",
       "      <td>0</td>\n",
       "    </tr>\n",
       "  </tbody>\n",
       "</table>\n",
       "</div>"
      ],
      "text/plain": [
       "            SeniorCitizen  tenure  MonthlyCharges  TotalCharges  gender_num  \\\n",
       "customerID                                                                    \n",
       "7590-VHVEG              0     1.0           29.85         29.85           0   \n",
       "5575-GNVDE              0    34.0           56.95       1889.50           1   \n",
       "3668-QPYBK              0     2.0           53.85        108.15           1   \n",
       "7795-CFOCW              0    45.0           42.30       1840.75           1   \n",
       "9237-HQITU              0     2.0           70.70        151.65           0   \n",
       "\n",
       "            partner_num  dependents_num  phone_service_num  multipleLines_num  \\\n",
       "customerID                                                                      \n",
       "7590-VHVEG            1               0                  0                  2   \n",
       "5575-GNVDE            0               0                  1                  0   \n",
       "3668-QPYBK            0               0                  1                  0   \n",
       "7795-CFOCW            0               0                  0                  2   \n",
       "9237-HQITU            0               0                  1                  0   \n",
       "\n",
       "            InternetService_num  Security_num  OnlineBackup_num  \\\n",
       "customerID                                                        \n",
       "7590-VHVEG                    0             0                 1   \n",
       "5575-GNVDE                    0             1                 0   \n",
       "3668-QPYBK                    0             1                 1   \n",
       "7795-CFOCW                    0             1                 0   \n",
       "9237-HQITU                    1             0                 0   \n",
       "\n",
       "            DeviceProtection_num  TechSupport_num  StreamingTV_num  \\\n",
       "customerID                                                           \n",
       "7590-VHVEG                     0                0                0   \n",
       "5575-GNVDE                     1                0                0   \n",
       "3668-QPYBK                     0                0                0   \n",
       "7795-CFOCW                     1                1                0   \n",
       "9237-HQITU                     0                0                0   \n",
       "\n",
       "            StreamingMovie_num  Contract_num  PaperlessBill_num  \\\n",
       "customerID                                                        \n",
       "7590-VHVEG                   0             0                  1   \n",
       "5575-GNVDE                   0             1                  0   \n",
       "3668-QPYBK                   0             0                  1   \n",
       "7795-CFOCW                   0             1                  0   \n",
       "9237-HQITU                   0             0                  1   \n",
       "\n",
       "            PaymentMethod_num  \n",
       "customerID                     \n",
       "7590-VHVEG                  0  \n",
       "5575-GNVDE                  1  \n",
       "3668-QPYBK                  1  \n",
       "7795-CFOCW                  2  \n",
       "9237-HQITU                  0  "
      ]
     },
     "execution_count": 83,
     "metadata": {},
     "output_type": "execute_result"
    }
   ],
   "source": [
    "X.head()"
   ]
  },
  {
   "cell_type": "code",
   "execution_count": 84,
   "metadata": {
    "scrolled": true
   },
   "outputs": [
    {
     "name": "stdout",
     "output_type": "stream",
     "text": [
      "<class 'pandas.core.frame.DataFrame'>\n",
      "Index: 7032 entries, 7590-VHVEG to 3186-AJIEK\n",
      "Data columns (total 19 columns):\n",
      "SeniorCitizen           7032 non-null int64\n",
      "tenure                  7032 non-null float64\n",
      "MonthlyCharges          7032 non-null float64\n",
      "TotalCharges            7032 non-null float64\n",
      "gender_num              7032 non-null int64\n",
      "partner_num             7032 non-null int64\n",
      "dependents_num          7032 non-null int64\n",
      "phone_service_num       7032 non-null int64\n",
      "multipleLines_num       7032 non-null int64\n",
      "InternetService_num     7032 non-null int64\n",
      "Security_num            7032 non-null int64\n",
      "OnlineBackup_num        7032 non-null int64\n",
      "DeviceProtection_num    7032 non-null int64\n",
      "TechSupport_num         7032 non-null int64\n",
      "StreamingTV_num         7032 non-null int64\n",
      "StreamingMovie_num      7032 non-null int64\n",
      "Contract_num            7032 non-null int64\n",
      "PaperlessBill_num       7032 non-null int64\n",
      "PaymentMethod_num       7032 non-null int64\n",
      "dtypes: float64(3), int64(16)\n",
      "memory usage: 1.1+ MB\n"
     ]
    }
   ],
   "source": [
    "X.info()"
   ]
  },
  {
   "cell_type": "code",
   "execution_count": 85,
   "metadata": {
    "scrolled": false
   },
   "outputs": [
    {
     "name": "stdout",
     "output_type": "stream",
     "text": [
      "0    5163\n",
      "1    1869\n",
      "Name: Churn_num, dtype: int64\n",
      "\n",
      "Have an imbalance data\n"
     ]
    }
   ],
   "source": [
    "print(y.value_counts())\n",
    "print('\\nHave an imbalance data')"
   ]
  },
  {
   "cell_type": "markdown",
   "metadata": {},
   "source": [
    "# Preprocessing"
   ]
  },
  {
   "cell_type": "markdown",
   "metadata": {},
   "source": [
    "## Split train and test data"
   ]
  },
  {
   "cell_type": "code",
   "execution_count": 86,
   "metadata": {},
   "outputs": [],
   "source": [
    "X_train, X_test, y_train, y_test = train_test_split(X, y, test_size=0.3, random_state=rs)"
   ]
  },
  {
   "cell_type": "code",
   "execution_count": 87,
   "metadata": {
    "scrolled": false
   },
   "outputs": [
    {
     "data": {
      "text/plain": [
       "Index(['SeniorCitizen', 'tenure', 'MonthlyCharges', 'TotalCharges',\n",
       "       'gender_num', 'partner_num', 'dependents_num', 'phone_service_num',\n",
       "       'multipleLines_num', 'InternetService_num', 'Security_num',\n",
       "       'OnlineBackup_num', 'DeviceProtection_num', 'TechSupport_num',\n",
       "       'StreamingTV_num', 'StreamingMovie_num', 'Contract_num',\n",
       "       'PaperlessBill_num', 'PaymentMethod_num'],\n",
       "      dtype='object')"
      ]
     },
     "execution_count": 87,
     "metadata": {},
     "output_type": "execute_result"
    }
   ],
   "source": [
    "X_train.columns"
   ]
  },
  {
   "cell_type": "markdown",
   "metadata": {},
   "source": [
    "## Oversampling with SMOTE"
   ]
  },
  {
   "cell_type": "code",
   "execution_count": 88,
   "metadata": {},
   "outputs": [],
   "source": [
    "from imblearn.over_sampling import SMOTE\n",
    "sm = SMOTE(random_state = rs, ratio = 1.0)\n",
    "X_train_res, y_train_res = sm.fit_sample(X_train, y_train)"
   ]
  },
  {
   "cell_type": "code",
   "execution_count": 89,
   "metadata": {
    "scrolled": true
   },
   "outputs": [
    {
     "data": {
      "text/html": [
       "<div>\n",
       "<style scoped>\n",
       "    .dataframe tbody tr th:only-of-type {\n",
       "        vertical-align: middle;\n",
       "    }\n",
       "\n",
       "    .dataframe tbody tr th {\n",
       "        vertical-align: top;\n",
       "    }\n",
       "\n",
       "    .dataframe thead th {\n",
       "        text-align: right;\n",
       "    }\n",
       "</style>\n",
       "<table border=\"1\" class=\"dataframe\">\n",
       "  <thead>\n",
       "    <tr style=\"text-align: right;\">\n",
       "      <th></th>\n",
       "      <th>0</th>\n",
       "    </tr>\n",
       "  </thead>\n",
       "  <tbody>\n",
       "    <tr>\n",
       "      <th>1</th>\n",
       "      <td>3583</td>\n",
       "    </tr>\n",
       "    <tr>\n",
       "      <th>0</th>\n",
       "      <td>3583</td>\n",
       "    </tr>\n",
       "  </tbody>\n",
       "</table>\n",
       "</div>"
      ],
      "text/plain": [
       "      0\n",
       "1  3583\n",
       "0  3583"
      ]
     },
     "execution_count": 89,
     "metadata": {},
     "output_type": "execute_result"
    }
   ],
   "source": [
    "col = [X_train.columns]\n",
    "X_train_res1 = pd.DataFrame(X_train_res, columns = col)\n",
    "y_train_res1 = pd.DataFrame(y_train_res)\n",
    "y_train_res1.apply(pd.value_counts)"
   ]
  },
  {
   "cell_type": "code",
   "execution_count": 90,
   "metadata": {
    "scrolled": true
   },
   "outputs": [
    {
     "data": {
      "text/html": [
       "<div>\n",
       "<style scoped>\n",
       "    .dataframe tbody tr th:only-of-type {\n",
       "        vertical-align: middle;\n",
       "    }\n",
       "\n",
       "    .dataframe tbody tr th {\n",
       "        vertical-align: top;\n",
       "    }\n",
       "\n",
       "    .dataframe thead tr th {\n",
       "        text-align: left;\n",
       "    }\n",
       "</style>\n",
       "<table border=\"1\" class=\"dataframe\">\n",
       "  <thead>\n",
       "    <tr>\n",
       "      <th></th>\n",
       "      <th>SeniorCitizen</th>\n",
       "      <th>tenure</th>\n",
       "      <th>MonthlyCharges</th>\n",
       "      <th>TotalCharges</th>\n",
       "      <th>gender_num</th>\n",
       "      <th>partner_num</th>\n",
       "      <th>dependents_num</th>\n",
       "      <th>phone_service_num</th>\n",
       "      <th>multipleLines_num</th>\n",
       "      <th>InternetService_num</th>\n",
       "      <th>Security_num</th>\n",
       "      <th>OnlineBackup_num</th>\n",
       "      <th>DeviceProtection_num</th>\n",
       "      <th>TechSupport_num</th>\n",
       "      <th>StreamingTV_num</th>\n",
       "      <th>StreamingMovie_num</th>\n",
       "      <th>Contract_num</th>\n",
       "      <th>PaperlessBill_num</th>\n",
       "      <th>PaymentMethod_num</th>\n",
       "    </tr>\n",
       "  </thead>\n",
       "  <tbody>\n",
       "    <tr>\n",
       "      <th>0</th>\n",
       "      <td>0.0</td>\n",
       "      <td>50.0</td>\n",
       "      <td>109.65</td>\n",
       "      <td>5551.15</td>\n",
       "      <td>0.0</td>\n",
       "      <td>0.0</td>\n",
       "      <td>0.0</td>\n",
       "      <td>1.0</td>\n",
       "      <td>1.0</td>\n",
       "      <td>1.0</td>\n",
       "      <td>1.0</td>\n",
       "      <td>1.0</td>\n",
       "      <td>0.0</td>\n",
       "      <td>1.0</td>\n",
       "      <td>1.0</td>\n",
       "      <td>1.0</td>\n",
       "      <td>2.0</td>\n",
       "      <td>1.0</td>\n",
       "      <td>0.0</td>\n",
       "    </tr>\n",
       "    <tr>\n",
       "      <th>1</th>\n",
       "      <td>0.0</td>\n",
       "      <td>12.0</td>\n",
       "      <td>98.90</td>\n",
       "      <td>1120.95</td>\n",
       "      <td>0.0</td>\n",
       "      <td>0.0</td>\n",
       "      <td>0.0</td>\n",
       "      <td>1.0</td>\n",
       "      <td>0.0</td>\n",
       "      <td>1.0</td>\n",
       "      <td>1.0</td>\n",
       "      <td>0.0</td>\n",
       "      <td>0.0</td>\n",
       "      <td>1.0</td>\n",
       "      <td>1.0</td>\n",
       "      <td>1.0</td>\n",
       "      <td>0.0</td>\n",
       "      <td>1.0</td>\n",
       "      <td>2.0</td>\n",
       "    </tr>\n",
       "    <tr>\n",
       "      <th>2</th>\n",
       "      <td>1.0</td>\n",
       "      <td>52.0</td>\n",
       "      <td>106.50</td>\n",
       "      <td>5621.85</td>\n",
       "      <td>0.0</td>\n",
       "      <td>1.0</td>\n",
       "      <td>0.0</td>\n",
       "      <td>1.0</td>\n",
       "      <td>1.0</td>\n",
       "      <td>1.0</td>\n",
       "      <td>0.0</td>\n",
       "      <td>1.0</td>\n",
       "      <td>1.0</td>\n",
       "      <td>0.0</td>\n",
       "      <td>1.0</td>\n",
       "      <td>1.0</td>\n",
       "      <td>1.0</td>\n",
       "      <td>1.0</td>\n",
       "      <td>0.0</td>\n",
       "    </tr>\n",
       "    <tr>\n",
       "      <th>3</th>\n",
       "      <td>0.0</td>\n",
       "      <td>9.0</td>\n",
       "      <td>19.90</td>\n",
       "      <td>164.60</td>\n",
       "      <td>1.0</td>\n",
       "      <td>0.0</td>\n",
       "      <td>0.0</td>\n",
       "      <td>1.0</td>\n",
       "      <td>0.0</td>\n",
       "      <td>2.0</td>\n",
       "      <td>2.0</td>\n",
       "      <td>2.0</td>\n",
       "      <td>2.0</td>\n",
       "      <td>2.0</td>\n",
       "      <td>2.0</td>\n",
       "      <td>2.0</td>\n",
       "      <td>1.0</td>\n",
       "      <td>1.0</td>\n",
       "      <td>0.0</td>\n",
       "    </tr>\n",
       "    <tr>\n",
       "      <th>4</th>\n",
       "      <td>0.0</td>\n",
       "      <td>62.0</td>\n",
       "      <td>101.15</td>\n",
       "      <td>6638.35</td>\n",
       "      <td>0.0</td>\n",
       "      <td>1.0</td>\n",
       "      <td>1.0</td>\n",
       "      <td>1.0</td>\n",
       "      <td>1.0</td>\n",
       "      <td>1.0</td>\n",
       "      <td>1.0</td>\n",
       "      <td>0.0</td>\n",
       "      <td>0.0</td>\n",
       "      <td>0.0</td>\n",
       "      <td>1.0</td>\n",
       "      <td>1.0</td>\n",
       "      <td>2.0</td>\n",
       "      <td>1.0</td>\n",
       "      <td>2.0</td>\n",
       "    </tr>\n",
       "  </tbody>\n",
       "</table>\n",
       "</div>"
      ],
      "text/plain": [
       "  SeniorCitizen tenure MonthlyCharges TotalCharges gender_num partner_num  \\\n",
       "0           0.0   50.0         109.65      5551.15        0.0         0.0   \n",
       "1           0.0   12.0          98.90      1120.95        0.0         0.0   \n",
       "2           1.0   52.0         106.50      5621.85        0.0         1.0   \n",
       "3           0.0    9.0          19.90       164.60        1.0         0.0   \n",
       "4           0.0   62.0         101.15      6638.35        0.0         1.0   \n",
       "\n",
       "  dependents_num phone_service_num multipleLines_num InternetService_num  \\\n",
       "0            0.0               1.0               1.0                 1.0   \n",
       "1            0.0               1.0               0.0                 1.0   \n",
       "2            0.0               1.0               1.0                 1.0   \n",
       "3            0.0               1.0               0.0                 2.0   \n",
       "4            1.0               1.0               1.0                 1.0   \n",
       "\n",
       "  Security_num OnlineBackup_num DeviceProtection_num TechSupport_num  \\\n",
       "0          1.0              1.0                  0.0             1.0   \n",
       "1          1.0              0.0                  0.0             1.0   \n",
       "2          0.0              1.0                  1.0             0.0   \n",
       "3          2.0              2.0                  2.0             2.0   \n",
       "4          1.0              0.0                  0.0             0.0   \n",
       "\n",
       "  StreamingTV_num StreamingMovie_num Contract_num PaperlessBill_num  \\\n",
       "0             1.0                1.0          2.0               1.0   \n",
       "1             1.0                1.0          0.0               1.0   \n",
       "2             1.0                1.0          1.0               1.0   \n",
       "3             2.0                2.0          1.0               1.0   \n",
       "4             1.0                1.0          2.0               1.0   \n",
       "\n",
       "  PaymentMethod_num  \n",
       "0               0.0  \n",
       "1               2.0  \n",
       "2               0.0  \n",
       "3               0.0  \n",
       "4               2.0  "
      ]
     },
     "execution_count": 90,
     "metadata": {},
     "output_type": "execute_result"
    }
   ],
   "source": [
    "X_train_res1.head()"
   ]
  },
  {
   "cell_type": "code",
   "execution_count": 91,
   "metadata": {},
   "outputs": [
    {
     "name": "stdout",
     "output_type": "stream",
     "text": [
      "<class 'pandas.core.frame.DataFrame'>\n",
      "RangeIndex: 7166 entries, 0 to 7165\n",
      "Data columns (total 1 columns):\n",
      "0    7166 non-null int64\n",
      "dtypes: int64(1)\n",
      "memory usage: 56.1 KB\n"
     ]
    }
   ],
   "source": [
    "y_train_res1.info()"
   ]
  },
  {
   "cell_type": "code",
   "execution_count": 92,
   "metadata": {
    "scrolled": true
   },
   "outputs": [
    {
     "name": "stdout",
     "output_type": "stream",
     "text": [
      "<class 'pandas.core.frame.DataFrame'>\n",
      "RangeIndex: 7166 entries, 0 to 7165\n",
      "Data columns (total 19 columns):\n",
      "(SeniorCitizen,)           7166 non-null float64\n",
      "(tenure,)                  7166 non-null float64\n",
      "(MonthlyCharges,)          7166 non-null float64\n",
      "(TotalCharges,)            7166 non-null float64\n",
      "(gender_num,)              7166 non-null float64\n",
      "(partner_num,)             7166 non-null float64\n",
      "(dependents_num,)          7166 non-null float64\n",
      "(phone_service_num,)       7166 non-null float64\n",
      "(multipleLines_num,)       7166 non-null float64\n",
      "(InternetService_num,)     7166 non-null float64\n",
      "(Security_num,)            7166 non-null float64\n",
      "(OnlineBackup_num,)        7166 non-null float64\n",
      "(DeviceProtection_num,)    7166 non-null float64\n",
      "(TechSupport_num,)         7166 non-null float64\n",
      "(StreamingTV_num,)         7166 non-null float64\n",
      "(StreamingMovie_num,)      7166 non-null float64\n",
      "(Contract_num,)            7166 non-null float64\n",
      "(PaperlessBill_num,)       7166 non-null float64\n",
      "(PaymentMethod_num,)       7166 non-null float64\n",
      "dtypes: float64(19)\n",
      "memory usage: 1.0 MB\n"
     ]
    }
   ],
   "source": [
    "X_train_res1.info()"
   ]
  },
  {
   "cell_type": "markdown",
   "metadata": {},
   "source": [
    "## Change type of dummies variable to int64"
   ]
  },
  {
   "cell_type": "code",
   "execution_count": 93,
   "metadata": {},
   "outputs": [],
   "source": [
    "X_train_res1['SeniorCitizen'] = X_train_res1['SeniorCitizen'].astype('int64')\n",
    "X_train_res1['gender_num'] = X_train_res1['gender_num'].astype('int64')\n",
    "X_train_res1['partner_num'] = X_train_res1['partner_num'].astype('int64')\n",
    "X_train_res1['dependents_num'] = X_train_res1['dependents_num'].astype('int64')\n",
    "X_train_res1['phone_service_num'] = X_train_res1['phone_service_num'].astype('int64')\n",
    "X_train_res1['multipleLines_num'] = X_train_res1['multipleLines_num'].astype('int64')\n",
    "X_train_res1['InternetService_num'] = X_train_res1['InternetService_num'].astype('int64')\n",
    "X_train_res1['Security_num'] = X_train_res1['Security_num'].astype('int64')\n",
    "X_train_res1['OnlineBackup_num'] = X_train_res1['OnlineBackup_num'].astype('int64')\n",
    "X_train_res1['DeviceProtection_num'] = X_train_res1['DeviceProtection_num'].astype('int64')\n",
    "X_train_res1['TechSupport_num'] = X_train_res1['TechSupport_num'].astype('int64')\n",
    "X_train_res1['StreamingTV_num'] = X_train_res1['StreamingTV_num'].astype('int64')\n",
    "X_train_res1['Contract_num'] = X_train_res1['Contract_num'].astype('int64')\n",
    "X_train_res1['PaperlessBill_num'] = X_train_res1['PaperlessBill_num'].astype('int64')\n",
    "X_train_res1['PaymentMethod_num'] = X_train_res1['PaymentMethod_num'].astype('int64')\n",
    "X_train_res1['StreamingMovie_num'] = X_train_res1['StreamingMovie_num'].astype('int64')"
   ]
  },
  {
   "cell_type": "code",
   "execution_count": 94,
   "metadata": {},
   "outputs": [
    {
     "name": "stdout",
     "output_type": "stream",
     "text": [
      "<class 'pandas.core.frame.DataFrame'>\n",
      "RangeIndex: 7166 entries, 0 to 7165\n",
      "Data columns (total 19 columns):\n",
      "(SeniorCitizen,)           7166 non-null int64\n",
      "(tenure,)                  7166 non-null float64\n",
      "(MonthlyCharges,)          7166 non-null float64\n",
      "(TotalCharges,)            7166 non-null float64\n",
      "(gender_num,)              7166 non-null int64\n",
      "(partner_num,)             7166 non-null int64\n",
      "(dependents_num,)          7166 non-null int64\n",
      "(phone_service_num,)       7166 non-null int64\n",
      "(multipleLines_num,)       7166 non-null int64\n",
      "(InternetService_num,)     7166 non-null int64\n",
      "(Security_num,)            7166 non-null int64\n",
      "(OnlineBackup_num,)        7166 non-null int64\n",
      "(DeviceProtection_num,)    7166 non-null int64\n",
      "(TechSupport_num,)         7166 non-null int64\n",
      "(StreamingTV_num,)         7166 non-null int64\n",
      "(StreamingMovie_num,)      7166 non-null int64\n",
      "(Contract_num,)            7166 non-null int64\n",
      "(PaperlessBill_num,)       7166 non-null int64\n",
      "(PaymentMethod_num,)       7166 non-null int64\n",
      "dtypes: float64(3), int64(16)\n",
      "memory usage: 1.0 MB\n"
     ]
    }
   ],
   "source": [
    "X_train_res1.info()"
   ]
  },
  {
   "cell_type": "markdown",
   "metadata": {},
   "source": [
    "# Standard Scaler"
   ]
  },
  {
   "cell_type": "code",
   "execution_count": 95,
   "metadata": {},
   "outputs": [],
   "source": [
    "X_train1 = X_train_res1.drop(['tenure','MonthlyCharges','TotalCharges'], axis=1)\n",
    "X_test1 = X_test.drop(['tenure','MonthlyCharges','TotalCharges'], axis=1)"
   ]
  },
  {
   "cell_type": "code",
   "execution_count": 96,
   "metadata": {},
   "outputs": [
    {
     "data": {
      "text/html": [
       "<div>\n",
       "<style scoped>\n",
       "    .dataframe tbody tr th:only-of-type {\n",
       "        vertical-align: middle;\n",
       "    }\n",
       "\n",
       "    .dataframe tbody tr th {\n",
       "        vertical-align: top;\n",
       "    }\n",
       "\n",
       "    .dataframe thead tr th {\n",
       "        text-align: left;\n",
       "    }\n",
       "</style>\n",
       "<table border=\"1\" class=\"dataframe\">\n",
       "  <thead>\n",
       "    <tr>\n",
       "      <th></th>\n",
       "      <th>SeniorCitizen</th>\n",
       "      <th>gender_num</th>\n",
       "      <th>partner_num</th>\n",
       "      <th>dependents_num</th>\n",
       "      <th>phone_service_num</th>\n",
       "      <th>multipleLines_num</th>\n",
       "      <th>InternetService_num</th>\n",
       "      <th>Security_num</th>\n",
       "      <th>OnlineBackup_num</th>\n",
       "      <th>DeviceProtection_num</th>\n",
       "      <th>TechSupport_num</th>\n",
       "      <th>StreamingTV_num</th>\n",
       "      <th>StreamingMovie_num</th>\n",
       "      <th>Contract_num</th>\n",
       "      <th>PaperlessBill_num</th>\n",
       "      <th>PaymentMethod_num</th>\n",
       "    </tr>\n",
       "  </thead>\n",
       "  <tbody>\n",
       "    <tr>\n",
       "      <th>0</th>\n",
       "      <td>0</td>\n",
       "      <td>0</td>\n",
       "      <td>0</td>\n",
       "      <td>0</td>\n",
       "      <td>1</td>\n",
       "      <td>1</td>\n",
       "      <td>1</td>\n",
       "      <td>1</td>\n",
       "      <td>1</td>\n",
       "      <td>0</td>\n",
       "      <td>1</td>\n",
       "      <td>1</td>\n",
       "      <td>1</td>\n",
       "      <td>2</td>\n",
       "      <td>1</td>\n",
       "      <td>0</td>\n",
       "    </tr>\n",
       "    <tr>\n",
       "      <th>1</th>\n",
       "      <td>0</td>\n",
       "      <td>0</td>\n",
       "      <td>0</td>\n",
       "      <td>0</td>\n",
       "      <td>1</td>\n",
       "      <td>0</td>\n",
       "      <td>1</td>\n",
       "      <td>1</td>\n",
       "      <td>0</td>\n",
       "      <td>0</td>\n",
       "      <td>1</td>\n",
       "      <td>1</td>\n",
       "      <td>1</td>\n",
       "      <td>0</td>\n",
       "      <td>1</td>\n",
       "      <td>2</td>\n",
       "    </tr>\n",
       "    <tr>\n",
       "      <th>2</th>\n",
       "      <td>1</td>\n",
       "      <td>0</td>\n",
       "      <td>1</td>\n",
       "      <td>0</td>\n",
       "      <td>1</td>\n",
       "      <td>1</td>\n",
       "      <td>1</td>\n",
       "      <td>0</td>\n",
       "      <td>1</td>\n",
       "      <td>1</td>\n",
       "      <td>0</td>\n",
       "      <td>1</td>\n",
       "      <td>1</td>\n",
       "      <td>1</td>\n",
       "      <td>1</td>\n",
       "      <td>0</td>\n",
       "    </tr>\n",
       "    <tr>\n",
       "      <th>3</th>\n",
       "      <td>0</td>\n",
       "      <td>1</td>\n",
       "      <td>0</td>\n",
       "      <td>0</td>\n",
       "      <td>1</td>\n",
       "      <td>0</td>\n",
       "      <td>2</td>\n",
       "      <td>2</td>\n",
       "      <td>2</td>\n",
       "      <td>2</td>\n",
       "      <td>2</td>\n",
       "      <td>2</td>\n",
       "      <td>2</td>\n",
       "      <td>1</td>\n",
       "      <td>1</td>\n",
       "      <td>0</td>\n",
       "    </tr>\n",
       "    <tr>\n",
       "      <th>4</th>\n",
       "      <td>0</td>\n",
       "      <td>0</td>\n",
       "      <td>1</td>\n",
       "      <td>1</td>\n",
       "      <td>1</td>\n",
       "      <td>1</td>\n",
       "      <td>1</td>\n",
       "      <td>1</td>\n",
       "      <td>0</td>\n",
       "      <td>0</td>\n",
       "      <td>0</td>\n",
       "      <td>1</td>\n",
       "      <td>1</td>\n",
       "      <td>2</td>\n",
       "      <td>1</td>\n",
       "      <td>2</td>\n",
       "    </tr>\n",
       "  </tbody>\n",
       "</table>\n",
       "</div>"
      ],
      "text/plain": [
       "  SeniorCitizen gender_num partner_num dependents_num phone_service_num  \\\n",
       "0             0          0           0              0                 1   \n",
       "1             0          0           0              0                 1   \n",
       "2             1          0           1              0                 1   \n",
       "3             0          1           0              0                 1   \n",
       "4             0          0           1              1                 1   \n",
       "\n",
       "  multipleLines_num InternetService_num Security_num OnlineBackup_num  \\\n",
       "0                 1                   1            1                1   \n",
       "1                 0                   1            1                0   \n",
       "2                 1                   1            0                1   \n",
       "3                 0                   2            2                2   \n",
       "4                 1                   1            1                0   \n",
       "\n",
       "  DeviceProtection_num TechSupport_num StreamingTV_num StreamingMovie_num  \\\n",
       "0                    0               1               1                  1   \n",
       "1                    0               1               1                  1   \n",
       "2                    1               0               1                  1   \n",
       "3                    2               2               2                  2   \n",
       "4                    0               0               1                  1   \n",
       "\n",
       "  Contract_num PaperlessBill_num PaymentMethod_num  \n",
       "0            2                 1                 0  \n",
       "1            0                 1                 2  \n",
       "2            1                 1                 0  \n",
       "3            1                 1                 0  \n",
       "4            2                 1                 2  "
      ]
     },
     "execution_count": 96,
     "metadata": {},
     "output_type": "execute_result"
    }
   ],
   "source": [
    "X_train1 = X_train1.astype('int64')\n",
    "X_train1.head()"
   ]
  },
  {
   "cell_type": "code",
   "execution_count": 97,
   "metadata": {},
   "outputs": [
    {
     "data": {
      "text/html": [
       "<div>\n",
       "<style scoped>\n",
       "    .dataframe tbody tr th:only-of-type {\n",
       "        vertical-align: middle;\n",
       "    }\n",
       "\n",
       "    .dataframe tbody tr th {\n",
       "        vertical-align: top;\n",
       "    }\n",
       "\n",
       "    .dataframe thead th {\n",
       "        text-align: right;\n",
       "    }\n",
       "</style>\n",
       "<table border=\"1\" class=\"dataframe\">\n",
       "  <thead>\n",
       "    <tr style=\"text-align: right;\">\n",
       "      <th></th>\n",
       "      <th>tenure</th>\n",
       "      <th>MonthlyCharges</th>\n",
       "      <th>TotalCharges</th>\n",
       "    </tr>\n",
       "    <tr>\n",
       "      <th>customerID</th>\n",
       "      <th></th>\n",
       "      <th></th>\n",
       "      <th></th>\n",
       "    </tr>\n",
       "  </thead>\n",
       "  <tbody>\n",
       "    <tr>\n",
       "      <th>5013-SBUIH</th>\n",
       "      <td>50.0</td>\n",
       "      <td>109.65</td>\n",
       "      <td>5551.15</td>\n",
       "    </tr>\n",
       "    <tr>\n",
       "      <th>4315-MURBD</th>\n",
       "      <td>12.0</td>\n",
       "      <td>98.90</td>\n",
       "      <td>1120.95</td>\n",
       "    </tr>\n",
       "  </tbody>\n",
       "</table>\n",
       "</div>"
      ],
      "text/plain": [
       "            tenure  MonthlyCharges  TotalCharges\n",
       "customerID                                      \n",
       "5013-SBUIH    50.0          109.65       5551.15\n",
       "4315-MURBD    12.0           98.90       1120.95"
      ]
     },
     "execution_count": 97,
     "metadata": {},
     "output_type": "execute_result"
    }
   ],
   "source": [
    "X_train2 = pd.DataFrame(X_train, columns = ['tenure','MonthlyCharges','TotalCharges'])\n",
    "X_test2 = pd.DataFrame(X_test, columns = ['tenure','MonthlyCharges','TotalCharges'])\n",
    "\n",
    "X_train2.head(2)"
   ]
  },
  {
   "cell_type": "code",
   "execution_count": 98,
   "metadata": {},
   "outputs": [],
   "source": [
    "from sklearn.preprocessing import StandardScaler\n",
    "sc = StandardScaler()"
   ]
  },
  {
   "cell_type": "code",
   "execution_count": 99,
   "metadata": {},
   "outputs": [],
   "source": [
    "X_train2_sc = sc.fit_transform(X_train2)\n",
    "X_test2_sc = sc.transform(X_test2)"
   ]
  },
  {
   "cell_type": "code",
   "execution_count": 100,
   "metadata": {
    "scrolled": true
   },
   "outputs": [
    {
     "data": {
      "text/html": [
       "<div>\n",
       "<style scoped>\n",
       "    .dataframe tbody tr th:only-of-type {\n",
       "        vertical-align: middle;\n",
       "    }\n",
       "\n",
       "    .dataframe tbody tr th {\n",
       "        vertical-align: top;\n",
       "    }\n",
       "\n",
       "    .dataframe thead th {\n",
       "        text-align: right;\n",
       "    }\n",
       "</style>\n",
       "<table border=\"1\" class=\"dataframe\">\n",
       "  <thead>\n",
       "    <tr style=\"text-align: right;\">\n",
       "      <th></th>\n",
       "      <th>tenure</th>\n",
       "      <th>MonthlyCharges</th>\n",
       "      <th>TotalCharges</th>\n",
       "    </tr>\n",
       "  </thead>\n",
       "  <tbody>\n",
       "    <tr>\n",
       "      <th>0</th>\n",
       "      <td>0.723700</td>\n",
       "      <td>1.483236</td>\n",
       "      <td>1.441721</td>\n",
       "    </tr>\n",
       "    <tr>\n",
       "      <th>1</th>\n",
       "      <td>-0.829194</td>\n",
       "      <td>1.126921</td>\n",
       "      <td>-0.508566</td>\n",
       "    </tr>\n",
       "    <tr>\n",
       "      <th>2</th>\n",
       "      <td>0.805431</td>\n",
       "      <td>1.378827</td>\n",
       "      <td>1.472845</td>\n",
       "    </tr>\n",
       "    <tr>\n",
       "      <th>3</th>\n",
       "      <td>-0.951790</td>\n",
       "      <td>-1.491582</td>\n",
       "      <td>-0.929575</td>\n",
       "    </tr>\n",
       "    <tr>\n",
       "      <th>4</th>\n",
       "      <td>1.214088</td>\n",
       "      <td>1.201498</td>\n",
       "      <td>1.920335</td>\n",
       "    </tr>\n",
       "  </tbody>\n",
       "</table>\n",
       "</div>"
      ],
      "text/plain": [
       "     tenure  MonthlyCharges  TotalCharges\n",
       "0  0.723700        1.483236      1.441721\n",
       "1 -0.829194        1.126921     -0.508566\n",
       "2  0.805431        1.378827      1.472845\n",
       "3 -0.951790       -1.491582     -0.929575\n",
       "4  1.214088        1.201498      1.920335"
      ]
     },
     "execution_count": 100,
     "metadata": {},
     "output_type": "execute_result"
    }
   ],
   "source": [
    "X_train2_sc = pd.DataFrame(X_train2_sc, columns = ['tenure','MonthlyCharges','TotalCharges'])\n",
    "X_test2_sc = pd.DataFrame(X_test2_sc, columns = ['tenure','MonthlyCharges','TotalCharges'])\n",
    "X_train2_sc.head()"
   ]
  },
  {
   "cell_type": "code",
   "execution_count": 101,
   "metadata": {
    "scrolled": true
   },
   "outputs": [],
   "source": [
    "X_train1.reset_index(drop = True, inplace = True)\n",
    "X_test1.reset_index(drop = True, inplace = True)"
   ]
  },
  {
   "cell_type": "code",
   "execution_count": 102,
   "metadata": {
    "scrolled": false
   },
   "outputs": [
    {
     "data": {
      "text/html": [
       "<div>\n",
       "<style scoped>\n",
       "    .dataframe tbody tr th:only-of-type {\n",
       "        vertical-align: middle;\n",
       "    }\n",
       "\n",
       "    .dataframe tbody tr th {\n",
       "        vertical-align: top;\n",
       "    }\n",
       "\n",
       "    .dataframe thead tr th {\n",
       "        text-align: left;\n",
       "    }\n",
       "</style>\n",
       "<table border=\"1\" class=\"dataframe\">\n",
       "  <thead>\n",
       "    <tr>\n",
       "      <th></th>\n",
       "      <th>SeniorCitizen</th>\n",
       "      <th>gender_num</th>\n",
       "      <th>partner_num</th>\n",
       "      <th>dependents_num</th>\n",
       "      <th>phone_service_num</th>\n",
       "      <th>multipleLines_num</th>\n",
       "      <th>InternetService_num</th>\n",
       "      <th>Security_num</th>\n",
       "      <th>OnlineBackup_num</th>\n",
       "      <th>DeviceProtection_num</th>\n",
       "      <th>TechSupport_num</th>\n",
       "      <th>StreamingTV_num</th>\n",
       "      <th>StreamingMovie_num</th>\n",
       "      <th>Contract_num</th>\n",
       "      <th>PaperlessBill_num</th>\n",
       "      <th>PaymentMethod_num</th>\n",
       "    </tr>\n",
       "  </thead>\n",
       "  <tbody>\n",
       "    <tr>\n",
       "      <th>0</th>\n",
       "      <td>0</td>\n",
       "      <td>0</td>\n",
       "      <td>0</td>\n",
       "      <td>0</td>\n",
       "      <td>1</td>\n",
       "      <td>1</td>\n",
       "      <td>1</td>\n",
       "      <td>1</td>\n",
       "      <td>1</td>\n",
       "      <td>0</td>\n",
       "      <td>1</td>\n",
       "      <td>1</td>\n",
       "      <td>1</td>\n",
       "      <td>2</td>\n",
       "      <td>1</td>\n",
       "      <td>0</td>\n",
       "    </tr>\n",
       "    <tr>\n",
       "      <th>1</th>\n",
       "      <td>0</td>\n",
       "      <td>0</td>\n",
       "      <td>0</td>\n",
       "      <td>0</td>\n",
       "      <td>1</td>\n",
       "      <td>0</td>\n",
       "      <td>1</td>\n",
       "      <td>1</td>\n",
       "      <td>0</td>\n",
       "      <td>0</td>\n",
       "      <td>1</td>\n",
       "      <td>1</td>\n",
       "      <td>1</td>\n",
       "      <td>0</td>\n",
       "      <td>1</td>\n",
       "      <td>2</td>\n",
       "    </tr>\n",
       "    <tr>\n",
       "      <th>2</th>\n",
       "      <td>1</td>\n",
       "      <td>0</td>\n",
       "      <td>1</td>\n",
       "      <td>0</td>\n",
       "      <td>1</td>\n",
       "      <td>1</td>\n",
       "      <td>1</td>\n",
       "      <td>0</td>\n",
       "      <td>1</td>\n",
       "      <td>1</td>\n",
       "      <td>0</td>\n",
       "      <td>1</td>\n",
       "      <td>1</td>\n",
       "      <td>1</td>\n",
       "      <td>1</td>\n",
       "      <td>0</td>\n",
       "    </tr>\n",
       "    <tr>\n",
       "      <th>3</th>\n",
       "      <td>0</td>\n",
       "      <td>1</td>\n",
       "      <td>0</td>\n",
       "      <td>0</td>\n",
       "      <td>1</td>\n",
       "      <td>0</td>\n",
       "      <td>2</td>\n",
       "      <td>2</td>\n",
       "      <td>2</td>\n",
       "      <td>2</td>\n",
       "      <td>2</td>\n",
       "      <td>2</td>\n",
       "      <td>2</td>\n",
       "      <td>1</td>\n",
       "      <td>1</td>\n",
       "      <td>0</td>\n",
       "    </tr>\n",
       "    <tr>\n",
       "      <th>4</th>\n",
       "      <td>0</td>\n",
       "      <td>0</td>\n",
       "      <td>1</td>\n",
       "      <td>1</td>\n",
       "      <td>1</td>\n",
       "      <td>1</td>\n",
       "      <td>1</td>\n",
       "      <td>1</td>\n",
       "      <td>0</td>\n",
       "      <td>0</td>\n",
       "      <td>0</td>\n",
       "      <td>1</td>\n",
       "      <td>1</td>\n",
       "      <td>2</td>\n",
       "      <td>1</td>\n",
       "      <td>2</td>\n",
       "    </tr>\n",
       "  </tbody>\n",
       "</table>\n",
       "</div>"
      ],
      "text/plain": [
       "  SeniorCitizen gender_num partner_num dependents_num phone_service_num  \\\n",
       "0             0          0           0              0                 1   \n",
       "1             0          0           0              0                 1   \n",
       "2             1          0           1              0                 1   \n",
       "3             0          1           0              0                 1   \n",
       "4             0          0           1              1                 1   \n",
       "\n",
       "  multipleLines_num InternetService_num Security_num OnlineBackup_num  \\\n",
       "0                 1                   1            1                1   \n",
       "1                 0                   1            1                0   \n",
       "2                 1                   1            0                1   \n",
       "3                 0                   2            2                2   \n",
       "4                 1                   1            1                0   \n",
       "\n",
       "  DeviceProtection_num TechSupport_num StreamingTV_num StreamingMovie_num  \\\n",
       "0                    0               1               1                  1   \n",
       "1                    0               1               1                  1   \n",
       "2                    1               0               1                  1   \n",
       "3                    2               2               2                  2   \n",
       "4                    0               0               1                  1   \n",
       "\n",
       "  Contract_num PaperlessBill_num PaymentMethod_num  \n",
       "0            2                 1                 0  \n",
       "1            0                 1                 2  \n",
       "2            1                 1                 0  \n",
       "3            1                 1                 0  \n",
       "4            2                 1                 2  "
      ]
     },
     "execution_count": 102,
     "metadata": {},
     "output_type": "execute_result"
    }
   ],
   "source": [
    "X_train1.head()"
   ]
  },
  {
   "cell_type": "code",
   "execution_count": 116,
   "metadata": {},
   "outputs": [],
   "source": [
    "X_train_sc_full = X_train1.merge(X_train2_sc, left_index = True, right_index = True)\n",
    "X_test_sc_full = X_test1.merge(X_test2_sc, left_index = True, right_index = True)"
   ]
  },
  {
   "cell_type": "code",
   "execution_count": 119,
   "metadata": {
    "scrolled": true
   },
   "outputs": [
    {
     "data": {
      "text/html": [
       "<div>\n",
       "<style scoped>\n",
       "    .dataframe tbody tr th:only-of-type {\n",
       "        vertical-align: middle;\n",
       "    }\n",
       "\n",
       "    .dataframe tbody tr th {\n",
       "        vertical-align: top;\n",
       "    }\n",
       "\n",
       "    .dataframe thead th {\n",
       "        text-align: right;\n",
       "    }\n",
       "</style>\n",
       "<table border=\"1\" class=\"dataframe\">\n",
       "  <thead>\n",
       "    <tr style=\"text-align: right;\">\n",
       "      <th></th>\n",
       "      <th>SeniorCitizen</th>\n",
       "      <th>gender_num</th>\n",
       "      <th>partner_num</th>\n",
       "      <th>dependents_num</th>\n",
       "      <th>phone_service_num</th>\n",
       "      <th>multipleLines_num</th>\n",
       "      <th>InternetService_num</th>\n",
       "      <th>Security_num</th>\n",
       "      <th>OnlineBackup_num</th>\n",
       "      <th>DeviceProtection_num</th>\n",
       "      <th>TechSupport_num</th>\n",
       "      <th>StreamingTV_num</th>\n",
       "      <th>StreamingMovie_num</th>\n",
       "      <th>Contract_num</th>\n",
       "      <th>PaperlessBill_num</th>\n",
       "      <th>PaymentMethod_num</th>\n",
       "      <th>tenure</th>\n",
       "      <th>MonthlyCharges</th>\n",
       "      <th>TotalCharges</th>\n",
       "    </tr>\n",
       "  </thead>\n",
       "  <tbody>\n",
       "    <tr>\n",
       "      <th>0</th>\n",
       "      <td>0</td>\n",
       "      <td>0</td>\n",
       "      <td>0</td>\n",
       "      <td>0</td>\n",
       "      <td>1</td>\n",
       "      <td>1</td>\n",
       "      <td>1</td>\n",
       "      <td>1</td>\n",
       "      <td>1</td>\n",
       "      <td>0</td>\n",
       "      <td>1</td>\n",
       "      <td>1</td>\n",
       "      <td>1</td>\n",
       "      <td>2</td>\n",
       "      <td>1</td>\n",
       "      <td>0</td>\n",
       "      <td>0.723700</td>\n",
       "      <td>1.483236</td>\n",
       "      <td>1.441721</td>\n",
       "    </tr>\n",
       "    <tr>\n",
       "      <th>1</th>\n",
       "      <td>0</td>\n",
       "      <td>0</td>\n",
       "      <td>0</td>\n",
       "      <td>0</td>\n",
       "      <td>1</td>\n",
       "      <td>0</td>\n",
       "      <td>1</td>\n",
       "      <td>1</td>\n",
       "      <td>0</td>\n",
       "      <td>0</td>\n",
       "      <td>1</td>\n",
       "      <td>1</td>\n",
       "      <td>1</td>\n",
       "      <td>0</td>\n",
       "      <td>1</td>\n",
       "      <td>2</td>\n",
       "      <td>-0.829194</td>\n",
       "      <td>1.126921</td>\n",
       "      <td>-0.508566</td>\n",
       "    </tr>\n",
       "    <tr>\n",
       "      <th>2</th>\n",
       "      <td>1</td>\n",
       "      <td>0</td>\n",
       "      <td>1</td>\n",
       "      <td>0</td>\n",
       "      <td>1</td>\n",
       "      <td>1</td>\n",
       "      <td>1</td>\n",
       "      <td>0</td>\n",
       "      <td>1</td>\n",
       "      <td>1</td>\n",
       "      <td>0</td>\n",
       "      <td>1</td>\n",
       "      <td>1</td>\n",
       "      <td>1</td>\n",
       "      <td>1</td>\n",
       "      <td>0</td>\n",
       "      <td>0.805431</td>\n",
       "      <td>1.378827</td>\n",
       "      <td>1.472845</td>\n",
       "    </tr>\n",
       "    <tr>\n",
       "      <th>3</th>\n",
       "      <td>0</td>\n",
       "      <td>1</td>\n",
       "      <td>0</td>\n",
       "      <td>0</td>\n",
       "      <td>1</td>\n",
       "      <td>0</td>\n",
       "      <td>2</td>\n",
       "      <td>2</td>\n",
       "      <td>2</td>\n",
       "      <td>2</td>\n",
       "      <td>2</td>\n",
       "      <td>2</td>\n",
       "      <td>2</td>\n",
       "      <td>1</td>\n",
       "      <td>1</td>\n",
       "      <td>0</td>\n",
       "      <td>-0.951790</td>\n",
       "      <td>-1.491582</td>\n",
       "      <td>-0.929575</td>\n",
       "    </tr>\n",
       "    <tr>\n",
       "      <th>4</th>\n",
       "      <td>0</td>\n",
       "      <td>0</td>\n",
       "      <td>1</td>\n",
       "      <td>1</td>\n",
       "      <td>1</td>\n",
       "      <td>1</td>\n",
       "      <td>1</td>\n",
       "      <td>1</td>\n",
       "      <td>0</td>\n",
       "      <td>0</td>\n",
       "      <td>0</td>\n",
       "      <td>1</td>\n",
       "      <td>1</td>\n",
       "      <td>2</td>\n",
       "      <td>1</td>\n",
       "      <td>2</td>\n",
       "      <td>1.214088</td>\n",
       "      <td>1.201498</td>\n",
       "      <td>1.920335</td>\n",
       "    </tr>\n",
       "  </tbody>\n",
       "</table>\n",
       "</div>"
      ],
      "text/plain": [
       "   SeniorCitizen  gender_num  partner_num  dependents_num  phone_service_num  \\\n",
       "0              0           0            0               0                  1   \n",
       "1              0           0            0               0                  1   \n",
       "2              1           0            1               0                  1   \n",
       "3              0           1            0               0                  1   \n",
       "4              0           0            1               1                  1   \n",
       "\n",
       "   multipleLines_num  InternetService_num  Security_num  OnlineBackup_num  \\\n",
       "0                  1                    1             1                 1   \n",
       "1                  0                    1             1                 0   \n",
       "2                  1                    1             0                 1   \n",
       "3                  0                    2             2                 2   \n",
       "4                  1                    1             1                 0   \n",
       "\n",
       "   DeviceProtection_num  TechSupport_num  StreamingTV_num  StreamingMovie_num  \\\n",
       "0                     0                1                1                   1   \n",
       "1                     0                1                1                   1   \n",
       "2                     1                0                1                   1   \n",
       "3                     2                2                2                   2   \n",
       "4                     0                0                1                   1   \n",
       "\n",
       "   Contract_num  PaperlessBill_num  PaymentMethod_num    tenure  \\\n",
       "0             2                  1                  0  0.723700   \n",
       "1             0                  1                  2 -0.829194   \n",
       "2             1                  1                  0  0.805431   \n",
       "3             1                  1                  0 -0.951790   \n",
       "4             2                  1                  2  1.214088   \n",
       "\n",
       "   MonthlyCharges  TotalCharges  \n",
       "0        1.483236      1.441721  \n",
       "1        1.126921     -0.508566  \n",
       "2        1.378827      1.472845  \n",
       "3       -1.491582     -0.929575  \n",
       "4        1.201498      1.920335  "
      ]
     },
     "execution_count": 119,
     "metadata": {},
     "output_type": "execute_result"
    }
   ],
   "source": [
    "X_train_sc_full.apply(pd.to_numeric, errors = 'ignore')\n",
    "\n",
    "X_train_sc_full.columns = X_test_sc_full.columns\n",
    "X_train_sc_full.head()"
   ]
  },
  {
   "cell_type": "code",
   "execution_count": 120,
   "metadata": {
    "scrolled": false
   },
   "outputs": [
    {
     "data": {
      "text/html": [
       "<div>\n",
       "<style scoped>\n",
       "    .dataframe tbody tr th:only-of-type {\n",
       "        vertical-align: middle;\n",
       "    }\n",
       "\n",
       "    .dataframe tbody tr th {\n",
       "        vertical-align: top;\n",
       "    }\n",
       "\n",
       "    .dataframe thead th {\n",
       "        text-align: right;\n",
       "    }\n",
       "</style>\n",
       "<table border=\"1\" class=\"dataframe\">\n",
       "  <thead>\n",
       "    <tr style=\"text-align: right;\">\n",
       "      <th></th>\n",
       "      <th>SeniorCitizen</th>\n",
       "      <th>gender_num</th>\n",
       "      <th>partner_num</th>\n",
       "      <th>dependents_num</th>\n",
       "      <th>phone_service_num</th>\n",
       "      <th>multipleLines_num</th>\n",
       "      <th>InternetService_num</th>\n",
       "      <th>Security_num</th>\n",
       "      <th>OnlineBackup_num</th>\n",
       "      <th>DeviceProtection_num</th>\n",
       "      <th>TechSupport_num</th>\n",
       "      <th>StreamingTV_num</th>\n",
       "      <th>StreamingMovie_num</th>\n",
       "      <th>Contract_num</th>\n",
       "      <th>PaperlessBill_num</th>\n",
       "      <th>PaymentMethod_num</th>\n",
       "      <th>tenure</th>\n",
       "      <th>MonthlyCharges</th>\n",
       "      <th>TotalCharges</th>\n",
       "    </tr>\n",
       "  </thead>\n",
       "  <tbody>\n",
       "    <tr>\n",
       "      <th>0</th>\n",
       "      <td>0</td>\n",
       "      <td>1</td>\n",
       "      <td>1</td>\n",
       "      <td>1</td>\n",
       "      <td>1</td>\n",
       "      <td>1</td>\n",
       "      <td>1</td>\n",
       "      <td>0</td>\n",
       "      <td>0</td>\n",
       "      <td>1</td>\n",
       "      <td>0</td>\n",
       "      <td>1</td>\n",
       "      <td>0</td>\n",
       "      <td>0</td>\n",
       "      <td>1</td>\n",
       "      <td>0</td>\n",
       "      <td>-0.420537</td>\n",
       "      <td>0.790493</td>\n",
       "      <td>-0.172145</td>\n",
       "    </tr>\n",
       "    <tr>\n",
       "      <th>1</th>\n",
       "      <td>0</td>\n",
       "      <td>1</td>\n",
       "      <td>0</td>\n",
       "      <td>0</td>\n",
       "      <td>1</td>\n",
       "      <td>0</td>\n",
       "      <td>0</td>\n",
       "      <td>0</td>\n",
       "      <td>0</td>\n",
       "      <td>0</td>\n",
       "      <td>0</td>\n",
       "      <td>1</td>\n",
       "      <td>1</td>\n",
       "      <td>1</td>\n",
       "      <td>1</td>\n",
       "      <td>2</td>\n",
       "      <td>-0.011881</td>\n",
       "      <td>-0.001687</td>\n",
       "      <td>-0.116765</td>\n",
       "    </tr>\n",
       "    <tr>\n",
       "      <th>2</th>\n",
       "      <td>0</td>\n",
       "      <td>0</td>\n",
       "      <td>1</td>\n",
       "      <td>1</td>\n",
       "      <td>1</td>\n",
       "      <td>0</td>\n",
       "      <td>0</td>\n",
       "      <td>0</td>\n",
       "      <td>0</td>\n",
       "      <td>0</td>\n",
       "      <td>0</td>\n",
       "      <td>0</td>\n",
       "      <td>0</td>\n",
       "      <td>0</td>\n",
       "      <td>0</td>\n",
       "      <td>0</td>\n",
       "      <td>-0.706597</td>\n",
       "      <td>-0.616538</td>\n",
       "      <td>-0.720534</td>\n",
       "    </tr>\n",
       "    <tr>\n",
       "      <th>3</th>\n",
       "      <td>0</td>\n",
       "      <td>1</td>\n",
       "      <td>0</td>\n",
       "      <td>0</td>\n",
       "      <td>1</td>\n",
       "      <td>1</td>\n",
       "      <td>1</td>\n",
       "      <td>0</td>\n",
       "      <td>0</td>\n",
       "      <td>0</td>\n",
       "      <td>0</td>\n",
       "      <td>1</td>\n",
       "      <td>1</td>\n",
       "      <td>0</td>\n",
       "      <td>0</td>\n",
       "      <td>0</td>\n",
       "      <td>-1.033522</td>\n",
       "      <td>1.037427</td>\n",
       "      <td>-0.720424</td>\n",
       "    </tr>\n",
       "    <tr>\n",
       "      <th>4</th>\n",
       "      <td>0</td>\n",
       "      <td>0</td>\n",
       "      <td>0</td>\n",
       "      <td>0</td>\n",
       "      <td>1</td>\n",
       "      <td>0</td>\n",
       "      <td>1</td>\n",
       "      <td>0</td>\n",
       "      <td>0</td>\n",
       "      <td>1</td>\n",
       "      <td>1</td>\n",
       "      <td>1</td>\n",
       "      <td>1</td>\n",
       "      <td>2</td>\n",
       "      <td>0</td>\n",
       "      <td>3</td>\n",
       "      <td>0.682834</td>\n",
       "      <td>1.184925</td>\n",
       "      <td>1.162883</td>\n",
       "    </tr>\n",
       "  </tbody>\n",
       "</table>\n",
       "</div>"
      ],
      "text/plain": [
       "   SeniorCitizen  gender_num  partner_num  dependents_num  phone_service_num  \\\n",
       "0              0           1            1               1                  1   \n",
       "1              0           1            0               0                  1   \n",
       "2              0           0            1               1                  1   \n",
       "3              0           1            0               0                  1   \n",
       "4              0           0            0               0                  1   \n",
       "\n",
       "   multipleLines_num  InternetService_num  Security_num  OnlineBackup_num  \\\n",
       "0                  1                    1             0                 0   \n",
       "1                  0                    0             0                 0   \n",
       "2                  0                    0             0                 0   \n",
       "3                  1                    1             0                 0   \n",
       "4                  0                    1             0                 0   \n",
       "\n",
       "   DeviceProtection_num  TechSupport_num  StreamingTV_num  StreamingMovie_num  \\\n",
       "0                     1                0                1                   0   \n",
       "1                     0                0                1                   1   \n",
       "2                     0                0                0                   0   \n",
       "3                     0                0                1                   1   \n",
       "4                     1                1                1                   1   \n",
       "\n",
       "   Contract_num  PaperlessBill_num  PaymentMethod_num    tenure  \\\n",
       "0             0                  1                  0 -0.420537   \n",
       "1             1                  1                  2 -0.011881   \n",
       "2             0                  0                  0 -0.706597   \n",
       "3             0                  0                  0 -1.033522   \n",
       "4             2                  0                  3  0.682834   \n",
       "\n",
       "   MonthlyCharges  TotalCharges  \n",
       "0        0.790493     -0.172145  \n",
       "1       -0.001687     -0.116765  \n",
       "2       -0.616538     -0.720534  \n",
       "3        1.037427     -0.720424  \n",
       "4        1.184925      1.162883  "
      ]
     },
     "execution_count": 120,
     "metadata": {},
     "output_type": "execute_result"
    }
   ],
   "source": [
    "X_test_sc_full.head()"
   ]
  },
  {
   "cell_type": "markdown",
   "metadata": {},
   "source": [
    "# K-Mean"
   ]
  },
  {
   "cell_type": "code",
   "execution_count": 37,
   "metadata": {},
   "outputs": [],
   "source": [
    "X_train_sc_full = X_train1.merge(X_train2_sc, left_index = True, right_index = True)\n",
    "X_test_sc_full = X_test1.merge(X_test2_sc, left_index = True, right_index = True)\n",
    "\n",
    "X_all_sc_full = X_train_sc_full.merge(y_test, left_index = True, right_index = True)"
   ]
  },
  {
   "cell_type": "code",
   "execution_count": 186,
   "metadata": {},
   "outputs": [
    {
     "data": {
      "text/plain": [
       "Index([       ('SeniorCitizen',),           ('gender_num',),\n",
       "                ('partner_num',),       ('dependents_num',),\n",
       "          ('phone_service_num',),    ('multipleLines_num',),\n",
       "        ('InternetService_num',),         ('Security_num',),\n",
       "           ('OnlineBackup_num',), ('DeviceProtection_num',),\n",
       "            ('TechSupport_num',),      ('StreamingTV_num',),\n",
       "         ('StreamingMovie_num',),         ('Contract_num',),\n",
       "          ('PaperlessBill_num',),    ('PaymentMethod_num',),\n",
       "                        'tenure',          'MonthlyCharges',\n",
       "                  'TotalCharges',               'Churn_num'],\n",
       "      dtype='object')"
      ]
     },
     "execution_count": 186,
     "metadata": {},
     "output_type": "execute_result"
    }
   ],
   "source": [
    "X_all_sc_full.columns"
   ]
  },
  {
   "cell_type": "code",
   "execution_count": 187,
   "metadata": {},
   "outputs": [],
   "source": [
    "from sklearn.cluster import KMeans\n",
    "score = []\n",
    "n_list = list(range(2,40))\n",
    "\n",
    "for n in n_list:\n",
    "    kmeans = KMeans(n_clusters=n, random_state=42)\n",
    "    kmeans.fit(X_train_sc_full)\n",
    "    score.append(kmeans.inertia_)"
   ]
  },
  {
   "cell_type": "code",
   "execution_count": 188,
   "metadata": {
    "scrolled": true
   },
   "outputs": [
    {
     "data": {
      "text/plain": [
       "Text(0, 0.5, 'Error')"
      ]
     },
     "execution_count": 188,
     "metadata": {},
     "output_type": "execute_result"
    },
    {
     "data": {
      "image/png": "[encoded data removed]",
      "text/plain": [
       "<Figure size 720x432 with 1 Axes>"
      ]
     },
     "metadata": {
      "needs_background": "light"
     },
     "output_type": "display_data"
    }
   ],
   "source": [
    "plt.figure(figsize=(10,6))\n",
    "plt.plot(n_list,score)\n",
    "plt.title('The Elbow Method')\n",
    "plt.xlabel('Number of Cluster')\n",
    "plt.ylabel('Error')"
   ]
  },
  {
   "cell_type": "code",
   "execution_count": 189,
   "metadata": {},
   "outputs": [
    {
     "data": {
      "text/plain": [
       "KMeans(algorithm='auto', copy_x=True, init='k-means++', max_iter=300,\n",
       "       n_clusters=7, n_init=10, n_jobs=None, precompute_distances='auto',\n",
       "       random_state=42, tol=0.0001, verbose=0)"
      ]
     },
     "execution_count": 189,
     "metadata": {},
     "output_type": "execute_result"
    }
   ],
   "source": [
    "kmeans = KMeans(n_clusters=7, random_state=42)\n",
    "kmeans.fit(X_train_sc_full)"
   ]
  },
  {
   "cell_type": "code",
   "execution_count": 190,
   "metadata": {},
   "outputs": [
    {
     "data": {
      "text/plain": [
       "array([4, 6, 4, ..., 2, 0, 2], dtype=int32)"
      ]
     },
     "execution_count": 190,
     "metadata": {},
     "output_type": "execute_result"
    }
   ],
   "source": [
    "kmeans.labels_"
   ]
  },
  {
   "cell_type": "code",
   "execution_count": 191,
   "metadata": {
    "scrolled": true
   },
   "outputs": [
    {
     "data": {
      "text/plain": [
       "18632.220777607537"
      ]
     },
     "execution_count": 191,
     "metadata": {},
     "output_type": "execute_result"
    }
   ],
   "source": [
    "kmeans.inertia_"
   ]
  },
  {
   "cell_type": "code",
   "execution_count": 192,
   "metadata": {},
   "outputs": [],
   "source": [
    "data_result = X_train_sc_full.copy()\n",
    "data_result['cluster'] = kmeans.labels_"
   ]
  },
  {
   "cell_type": "code",
   "execution_count": 193,
   "metadata": {},
   "outputs": [
    {
     "data": {
      "text/html": [
       "<div>\n",
       "<style scoped>\n",
       "    .dataframe tbody tr th:only-of-type {\n",
       "        vertical-align: middle;\n",
       "    }\n",
       "\n",
       "    .dataframe tbody tr th {\n",
       "        vertical-align: top;\n",
       "    }\n",
       "\n",
       "    .dataframe thead th {\n",
       "        text-align: right;\n",
       "    }\n",
       "</style>\n",
       "<table border=\"1\" class=\"dataframe\">\n",
       "  <thead>\n",
       "    <tr style=\"text-align: right;\">\n",
       "      <th></th>\n",
       "      <th>(SeniorCitizen,)</th>\n",
       "      <th>(gender_num,)</th>\n",
       "      <th>(partner_num,)</th>\n",
       "      <th>(dependents_num,)</th>\n",
       "      <th>(phone_service_num,)</th>\n",
       "      <th>(multipleLines_num,)</th>\n",
       "      <th>(InternetService_num,)</th>\n",
       "      <th>(Security_num,)</th>\n",
       "      <th>(OnlineBackup_num,)</th>\n",
       "      <th>(DeviceProtection_num,)</th>\n",
       "      <th>(TechSupport_num,)</th>\n",
       "      <th>(StreamingTV_num,)</th>\n",
       "      <th>(StreamingMovie_num,)</th>\n",
       "      <th>(Contract_num,)</th>\n",
       "      <th>(PaperlessBill_num,)</th>\n",
       "      <th>(PaymentMethod_num,)</th>\n",
       "      <th>tenure</th>\n",
       "      <th>MonthlyCharges</th>\n",
       "      <th>TotalCharges</th>\n",
       "      <th>cluster</th>\n",
       "    </tr>\n",
       "  </thead>\n",
       "  <tbody>\n",
       "    <tr>\n",
       "      <th>0</th>\n",
       "      <td>0</td>\n",
       "      <td>0</td>\n",
       "      <td>0</td>\n",
       "      <td>0</td>\n",
       "      <td>1</td>\n",
       "      <td>1</td>\n",
       "      <td>1</td>\n",
       "      <td>1</td>\n",
       "      <td>1</td>\n",
       "      <td>0</td>\n",
       "      <td>1</td>\n",
       "      <td>1</td>\n",
       "      <td>1</td>\n",
       "      <td>2</td>\n",
       "      <td>1</td>\n",
       "      <td>0</td>\n",
       "      <td>0.723700</td>\n",
       "      <td>1.483236</td>\n",
       "      <td>1.441721</td>\n",
       "      <td>4</td>\n",
       "    </tr>\n",
       "    <tr>\n",
       "      <th>1</th>\n",
       "      <td>0</td>\n",
       "      <td>0</td>\n",
       "      <td>0</td>\n",
       "      <td>0</td>\n",
       "      <td>1</td>\n",
       "      <td>0</td>\n",
       "      <td>1</td>\n",
       "      <td>1</td>\n",
       "      <td>0</td>\n",
       "      <td>0</td>\n",
       "      <td>1</td>\n",
       "      <td>1</td>\n",
       "      <td>1</td>\n",
       "      <td>0</td>\n",
       "      <td>1</td>\n",
       "      <td>2</td>\n",
       "      <td>-0.829194</td>\n",
       "      <td>1.126921</td>\n",
       "      <td>-0.508566</td>\n",
       "      <td>6</td>\n",
       "    </tr>\n",
       "    <tr>\n",
       "      <th>2</th>\n",
       "      <td>1</td>\n",
       "      <td>0</td>\n",
       "      <td>1</td>\n",
       "      <td>0</td>\n",
       "      <td>1</td>\n",
       "      <td>1</td>\n",
       "      <td>1</td>\n",
       "      <td>0</td>\n",
       "      <td>1</td>\n",
       "      <td>1</td>\n",
       "      <td>0</td>\n",
       "      <td>1</td>\n",
       "      <td>1</td>\n",
       "      <td>1</td>\n",
       "      <td>1</td>\n",
       "      <td>0</td>\n",
       "      <td>0.805431</td>\n",
       "      <td>1.378827</td>\n",
       "      <td>1.472845</td>\n",
       "      <td>4</td>\n",
       "    </tr>\n",
       "    <tr>\n",
       "      <th>3</th>\n",
       "      <td>0</td>\n",
       "      <td>1</td>\n",
       "      <td>0</td>\n",
       "      <td>0</td>\n",
       "      <td>1</td>\n",
       "      <td>0</td>\n",
       "      <td>2</td>\n",
       "      <td>2</td>\n",
       "      <td>2</td>\n",
       "      <td>2</td>\n",
       "      <td>2</td>\n",
       "      <td>2</td>\n",
       "      <td>2</td>\n",
       "      <td>1</td>\n",
       "      <td>1</td>\n",
       "      <td>0</td>\n",
       "      <td>-0.951790</td>\n",
       "      <td>-1.491582</td>\n",
       "      <td>-0.929575</td>\n",
       "      <td>1</td>\n",
       "    </tr>\n",
       "    <tr>\n",
       "      <th>4</th>\n",
       "      <td>0</td>\n",
       "      <td>0</td>\n",
       "      <td>1</td>\n",
       "      <td>1</td>\n",
       "      <td>1</td>\n",
       "      <td>1</td>\n",
       "      <td>1</td>\n",
       "      <td>1</td>\n",
       "      <td>0</td>\n",
       "      <td>0</td>\n",
       "      <td>0</td>\n",
       "      <td>1</td>\n",
       "      <td>1</td>\n",
       "      <td>2</td>\n",
       "      <td>1</td>\n",
       "      <td>2</td>\n",
       "      <td>1.214088</td>\n",
       "      <td>1.201498</td>\n",
       "      <td>1.920335</td>\n",
       "      <td>0</td>\n",
       "    </tr>\n",
       "    <tr>\n",
       "      <th>5</th>\n",
       "      <td>1</td>\n",
       "      <td>1</td>\n",
       "      <td>0</td>\n",
       "      <td>0</td>\n",
       "      <td>1</td>\n",
       "      <td>0</td>\n",
       "      <td>1</td>\n",
       "      <td>0</td>\n",
       "      <td>0</td>\n",
       "      <td>0</td>\n",
       "      <td>0</td>\n",
       "      <td>0</td>\n",
       "      <td>0</td>\n",
       "      <td>0</td>\n",
       "      <td>1</td>\n",
       "      <td>2</td>\n",
       "      <td>-1.278715</td>\n",
       "      <td>0.152440</td>\n",
       "      <td>-0.971441</td>\n",
       "      <td>6</td>\n",
       "    </tr>\n",
       "    <tr>\n",
       "      <th>6</th>\n",
       "      <td>0</td>\n",
       "      <td>1</td>\n",
       "      <td>1</td>\n",
       "      <td>1</td>\n",
       "      <td>1</td>\n",
       "      <td>0</td>\n",
       "      <td>0</td>\n",
       "      <td>0</td>\n",
       "      <td>1</td>\n",
       "      <td>0</td>\n",
       "      <td>1</td>\n",
       "      <td>1</td>\n",
       "      <td>1</td>\n",
       "      <td>2</td>\n",
       "      <td>0</td>\n",
       "      <td>2</td>\n",
       "      <td>1.132356</td>\n",
       "      <td>0.399375</td>\n",
       "      <td>0.998326</td>\n",
       "      <td>0</td>\n",
       "    </tr>\n",
       "    <tr>\n",
       "      <th>7</th>\n",
       "      <td>0</td>\n",
       "      <td>1</td>\n",
       "      <td>1</td>\n",
       "      <td>0</td>\n",
       "      <td>1</td>\n",
       "      <td>0</td>\n",
       "      <td>2</td>\n",
       "      <td>2</td>\n",
       "      <td>2</td>\n",
       "      <td>2</td>\n",
       "      <td>2</td>\n",
       "      <td>2</td>\n",
       "      <td>2</td>\n",
       "      <td>2</td>\n",
       "      <td>0</td>\n",
       "      <td>1</td>\n",
       "      <td>1.050625</td>\n",
       "      <td>-1.463408</td>\n",
       "      <td>-0.479951</td>\n",
       "      <td>5</td>\n",
       "    </tr>\n",
       "    <tr>\n",
       "      <th>8</th>\n",
       "      <td>0</td>\n",
       "      <td>0</td>\n",
       "      <td>1</td>\n",
       "      <td>0</td>\n",
       "      <td>1</td>\n",
       "      <td>1</td>\n",
       "      <td>0</td>\n",
       "      <td>1</td>\n",
       "      <td>1</td>\n",
       "      <td>1</td>\n",
       "      <td>1</td>\n",
       "      <td>1</td>\n",
       "      <td>1</td>\n",
       "      <td>2</td>\n",
       "      <td>1</td>\n",
       "      <td>3</td>\n",
       "      <td>1.541013</td>\n",
       "      <td>0.991024</td>\n",
       "      <td>2.017492</td>\n",
       "      <td>0</td>\n",
       "    </tr>\n",
       "    <tr>\n",
       "      <th>9</th>\n",
       "      <td>0</td>\n",
       "      <td>0</td>\n",
       "      <td>0</td>\n",
       "      <td>0</td>\n",
       "      <td>1</td>\n",
       "      <td>0</td>\n",
       "      <td>0</td>\n",
       "      <td>0</td>\n",
       "      <td>0</td>\n",
       "      <td>0</td>\n",
       "      <td>1</td>\n",
       "      <td>1</td>\n",
       "      <td>0</td>\n",
       "      <td>0</td>\n",
       "      <td>1</td>\n",
       "      <td>2</td>\n",
       "      <td>-0.951790</td>\n",
       "      <td>-0.179016</td>\n",
       "      <td>-0.768695</td>\n",
       "      <td>6</td>\n",
       "    </tr>\n",
       "  </tbody>\n",
       "</table>\n",
       "</div>"
      ],
      "text/plain": [
       "   (SeniorCitizen,)  (gender_num,)  (partner_num,)  (dependents_num,)  \\\n",
       "0                 0              0               0                  0   \n",
       "1                 0              0               0                  0   \n",
       "2                 1              0               1                  0   \n",
       "3                 0              1               0                  0   \n",
       "4                 0              0               1                  1   \n",
       "5                 1              1               0                  0   \n",
       "6                 0              1               1                  1   \n",
       "7                 0              1               1                  0   \n",
       "8                 0              0               1                  0   \n",
       "9                 0              0               0                  0   \n",
       "\n",
       "   (phone_service_num,)  (multipleLines_num,)  (InternetService_num,)  \\\n",
       "0                     1                     1                       1   \n",
       "1                     1                     0                       1   \n",
       "2                     1                     1                       1   \n",
       "3                     1                     0                       2   \n",
       "4                     1                     1                       1   \n",
       "5                     1                     0                       1   \n",
       "6                     1                     0                       0   \n",
       "7                     1                     0                       2   \n",
       "8                     1                     1                       0   \n",
       "9                     1                     0                       0   \n",
       "\n",
       "   (Security_num,)  (OnlineBackup_num,)  (DeviceProtection_num,)  \\\n",
       "0                1                    1                        0   \n",
       "1                1                    0                        0   \n",
       "2                0                    1                        1   \n",
       "3                2                    2                        2   \n",
       "4                1                    0                        0   \n",
       "5                0                    0                        0   \n",
       "6                0                    1                        0   \n",
       "7                2                    2                        2   \n",
       "8                1                    1                        1   \n",
       "9                0                    0                        0   \n",
       "\n",
       "   (TechSupport_num,)  (StreamingTV_num,)  (StreamingMovie_num,)  \\\n",
       "0                   1                   1                      1   \n",
       "1                   1                   1                      1   \n",
       "2                   0                   1                      1   \n",
       "3                   2                   2                      2   \n",
       "4                   0                   1                      1   \n",
       "5                   0                   0                      0   \n",
       "6                   1                   1                      1   \n",
       "7                   2                   2                      2   \n",
       "8                   1                   1                      1   \n",
       "9                   1                   1                      0   \n",
       "\n",
       "   (Contract_num,)  (PaperlessBill_num,)  (PaymentMethod_num,)    tenure  \\\n",
       "0                2                     1                     0  0.723700   \n",
       "1                0                     1                     2 -0.829194   \n",
       "2                1                     1                     0  0.805431   \n",
       "3                1                     1                     0 -0.951790   \n",
       "4                2                     1                     2  1.214088   \n",
       "5                0                     1                     2 -1.278715   \n",
       "6                2                     0                     2  1.132356   \n",
       "7                2                     0                     1  1.050625   \n",
       "8                2                     1                     3  1.541013   \n",
       "9                0                     1                     2 -0.951790   \n",
       "\n",
       "   MonthlyCharges  TotalCharges  cluster  \n",
       "0        1.483236      1.441721        4  \n",
       "1        1.126921     -0.508566        6  \n",
       "2        1.378827      1.472845        4  \n",
       "3       -1.491582     -0.929575        1  \n",
       "4        1.201498      1.920335        0  \n",
       "5        0.152440     -0.971441        6  \n",
       "6        0.399375      0.998326        0  \n",
       "7       -1.463408     -0.479951        5  \n",
       "8        0.991024      2.017492        0  \n",
       "9       -0.179016     -0.768695        6  "
      ]
     },
     "execution_count": 193,
     "metadata": {},
     "output_type": "execute_result"
    }
   ],
   "source": [
    "data_result.head(10)"
   ]
  },
  {
   "cell_type": "markdown",
   "metadata": {},
   "source": [
    "# Modeling"
   ]
  },
  {
   "cell_type": "code",
   "execution_count": 38,
   "metadata": {},
   "outputs": [],
   "source": [
    "from sklearn.metrics import accuracy_score\n",
    "from sklearn.model_selection import cross_val_score, cross_val_predict\n",
    "def print_score(clf, X, y, cv=0):\n",
    "    \n",
    "    y_pred = clf.predict(X)\n",
    "    acc_score = accuracy_score(y, y_pred)\n",
    "    clf_report = classification_report(y, y_pred)\n",
    "    conf_matrix = confusion_matrix(y, y_pred)\n",
    "                 \n",
    "    print(f\"Results:\\n\")\n",
    "    print(f\"accuracy score: {acc_score:.4f}\\n\")\n",
    "    print(f\"Classification Report: \\n {clf_report}\\n\")\n",
    "    print(f\"Confusion Matrix: \\n {conf_matrix}\\n\")\n",
    "\n",
    "    if cv > 1:\n",
    "        res = cross_val_score(clf, X, y, cv=cv, scoring='accuracy')\n",
    "        print(f\"Average Accuracy: \\t {np.mean(res):.4f}\")\n",
    "        print(f\"Accuracy SD: \\t\\t {np.std(res):.4f}\")\n",
    "        \n",
    " "
   ]
  },
  {
   "cell_type": "markdown",
   "metadata": {},
   "source": [
    "## Random Forest"
   ]
  },
  {
   "cell_type": "code",
   "execution_count": 39,
   "metadata": {
    "scrolled": true
   },
   "outputs": [
    {
     "name": "stdout",
     "output_type": "stream",
     "text": [
      "Results:\n",
      "\n",
      "accuracy score: 0.9897\n",
      "\n",
      "Classification Report: \n",
      "               precision    recall  f1-score   support\n",
      "\n",
      "           0       0.99      0.99      0.99      3583\n",
      "           1       0.99      0.99      0.99      3583\n",
      "\n",
      "    accuracy                           0.99      7166\n",
      "   macro avg       0.99      0.99      0.99      7166\n",
      "weighted avg       0.99      0.99      0.99      7166\n",
      "\n",
      "\n",
      "Confusion Matrix: \n",
      " [[3560   23]\n",
      " [  51 3532]]\n",
      "\n",
      "Average Accuracy: \t 0.8265\n",
      "Accuracy SD: \t\t 0.0736\n"
     ]
    }
   ],
   "source": [
    "rf = RandomForestClassifier(random_state = rs)\n",
    "rf.fit(X_train_res1, y_train_res1)\n",
    "print_score(rf, X_train_res1,y_train_res1, cv=10)"
   ]
  },
  {
   "cell_type": "code",
   "execution_count": 40,
   "metadata": {
    "scrolled": false
   },
   "outputs": [
    {
     "name": "stdout",
     "output_type": "stream",
     "text": [
      "Results:\n",
      "\n",
      "accuracy score: 0.7701\n",
      "\n",
      "Classification Report: \n",
      "               precision    recall  f1-score   support\n",
      "\n",
      "           0       0.84      0.85      0.85      1580\n",
      "           1       0.54      0.54      0.54       530\n",
      "\n",
      "    accuracy                           0.77      2110\n",
      "   macro avg       0.69      0.69      0.69      2110\n",
      "weighted avg       0.77      0.77      0.77      2110\n",
      "\n",
      "\n",
      "Confusion Matrix: \n",
      " [[1341  239]\n",
      " [ 246  284]]\n",
      "\n"
     ]
    }
   ],
   "source": [
    "print_score(rf, X_test,y_test)"
   ]
  },
  {
   "cell_type": "markdown",
   "metadata": {},
   "source": [
    "## Random forest with oversampling data"
   ]
  },
  {
   "cell_type": "code",
   "execution_count": 197,
   "metadata": {
    "scrolled": false
   },
   "outputs": [
    {
     "name": "stdout",
     "output_type": "stream",
     "text": [
      "Results:\n",
      "\n",
      "accuracy score: 0.7701\n",
      "\n",
      "Classification Report: \n",
      "               precision    recall  f1-score   support\n",
      "\n",
      "           0       0.84      0.85      0.85      1580\n",
      "           1       0.54      0.54      0.54       530\n",
      "\n",
      "    accuracy                           0.77      2110\n",
      "   macro avg       0.69      0.69      0.69      2110\n",
      "weighted avg       0.77      0.77      0.77      2110\n",
      "\n",
      "\n",
      "Confusion Matrix: \n",
      " [[1341  239]\n",
      " [ 246  284]]\n",
      "\n",
      "Average Accuracy: \t 0.7744\n",
      "Accuracy SD: \t\t 0.0259\n"
     ]
    }
   ],
   "source": [
    "rf_res = rf.fit(X_train_res1, y_train_res1)\n",
    "print_score(rf_res, X_test,y_test, cv=10)"
   ]
  },
  {
   "cell_type": "markdown",
   "metadata": {},
   "source": [
    "## Random forest with scaled data"
   ]
  },
  {
   "cell_type": "code",
   "execution_count": 198,
   "metadata": {
    "scrolled": false
   },
   "outputs": [
    {
     "name": "stdout",
     "output_type": "stream",
     "text": [
      "Results:\n",
      "\n",
      "accuracy score: 0.8005\n",
      "\n",
      "Classification Report: \n",
      "               precision    recall  f1-score   support\n",
      "\n",
      "           0       0.84      0.91      0.87      1580\n",
      "           1       0.63      0.48      0.55       530\n",
      "\n",
      "    accuracy                           0.80      2110\n",
      "   macro avg       0.74      0.70      0.71      2110\n",
      "weighted avg       0.79      0.80      0.79      2110\n",
      "\n",
      "\n",
      "Confusion Matrix: \n",
      " [[1432  148]\n",
      " [ 273  257]]\n",
      "\n"
     ]
    }
   ],
   "source": [
    "rf_sc = rf.fit(X_train_sc_full,y_train)\n",
    "print_score(rf_sc, X_test_sc_full,y_test)"
   ]
  },
  {
   "cell_type": "markdown",
   "metadata": {},
   "source": [
    "### Logistic Regression"
   ]
  },
  {
   "cell_type": "code",
   "execution_count": 199,
   "metadata": {},
   "outputs": [
    {
     "name": "stdout",
     "output_type": "stream",
     "text": [
      "Results:\n",
      "\n",
      "accuracy score: 0.8094\n",
      "\n",
      "Classification Report: \n",
      "               precision    recall  f1-score   support\n",
      "\n",
      "           0       0.83      0.77      0.80      3583\n",
      "           1       0.79      0.85      0.82      3583\n",
      "\n",
      "    accuracy                           0.81      7166\n",
      "   macro avg       0.81      0.81      0.81      7166\n",
      "weighted avg       0.81      0.81      0.81      7166\n",
      "\n",
      "\n",
      "Confusion Matrix: \n",
      " [[2764  819]\n",
      " [ 547 3036]]\n",
      "\n",
      "Average Accuracy: \t 0.8037\n",
      "Accuracy SD: \t\t 0.0431\n"
     ]
    }
   ],
   "source": [
    "from sklearn.linear_model import LogisticRegression\n",
    "log = LogisticRegression(C=1.0, class_weight=None, dual=False, fit_intercept=True,\n",
    "          intercept_scaling=1, max_iter=100, multi_class='ovr', n_jobs=1,\n",
    "          penalty='l2', random_state= rs, solver='liblinear', tol=0.0001,\n",
    "          verbose=0, warm_start=False)\n",
    "log.fit(X_train_res1, y_train_res1)\n",
    "print_score(log, X_train_res1,y_train_res1, cv=10)"
   ]
  },
  {
   "cell_type": "code",
   "execution_count": 200,
   "metadata": {},
   "outputs": [
    {
     "name": "stdout",
     "output_type": "stream",
     "text": [
      "Results:\n",
      "\n",
      "accuracy score: 0.7602\n",
      "\n",
      "Classification Report: \n",
      "               precision    recall  f1-score   support\n",
      "\n",
      "           0       0.88      0.78      0.83      1580\n",
      "           1       0.52      0.69      0.59       530\n",
      "\n",
      "    accuracy                           0.76      2110\n",
      "   macro avg       0.70      0.74      0.71      2110\n",
      "weighted avg       0.79      0.76      0.77      2110\n",
      "\n",
      "\n",
      "Confusion Matrix: \n",
      " [[1236  344]\n",
      " [ 162  368]]\n",
      "\n"
     ]
    }
   ],
   "source": [
    "print_score(log, X_test,y_test)"
   ]
  },
  {
   "cell_type": "code",
   "execution_count": 201,
   "metadata": {
    "scrolled": true
   },
   "outputs": [
    {
     "name": "stdout",
     "output_type": "stream",
     "text": [
      "Results:\n",
      "\n",
      "accuracy score: 0.7602\n",
      "\n",
      "Classification Report: \n",
      "               precision    recall  f1-score   support\n",
      "\n",
      "           0       0.88      0.78      0.83      1580\n",
      "           1       0.52      0.69      0.59       530\n",
      "\n",
      "    accuracy                           0.76      2110\n",
      "   macro avg       0.70      0.74      0.71      2110\n",
      "weighted avg       0.79      0.76      0.77      2110\n",
      "\n",
      "\n",
      "Confusion Matrix: \n",
      " [[1236  344]\n",
      " [ 162  368]]\n",
      "\n"
     ]
    }
   ],
   "source": [
    "log_res = log.fit(X_train_res1, y_train_res1)\n",
    "print_score(log_res,X_test, y_test)"
   ]
  },
  {
   "cell_type": "markdown",
   "metadata": {},
   "source": [
    "# Logistic Regression with scaled data"
   ]
  },
  {
   "cell_type": "code",
   "execution_count": 202,
   "metadata": {},
   "outputs": [
    {
     "name": "stdout",
     "output_type": "stream",
     "text": [
      "Results:\n",
      "\n",
      "accuracy score: 0.8043\n",
      "\n",
      "Classification Report: \n",
      "               precision    recall  f1-score   support\n",
      "\n",
      "           0       0.85      0.89      0.87      1580\n",
      "           1       0.63      0.54      0.58       530\n",
      "\n",
      "    accuracy                           0.80      2110\n",
      "   macro avg       0.74      0.72      0.73      2110\n",
      "weighted avg       0.80      0.80      0.80      2110\n",
      "\n",
      "\n",
      "Confusion Matrix: \n",
      " [[1411  169]\n",
      " [ 244  286]]\n",
      "\n"
     ]
    }
   ],
   "source": [
    "log_sc = log.fit(X_train_sc_full, y_train)\n",
    "print_score(log,X_test_sc_full, y_test)"
   ]
  },
  {
   "cell_type": "markdown",
   "metadata": {},
   "source": [
    "### KNeighbors"
   ]
  },
  {
   "cell_type": "code",
   "execution_count": 203,
   "metadata": {},
   "outputs": [],
   "source": [
    "from sklearn.neighbors import KNeighborsClassifier\n",
    "knn = KNeighborsClassifier(n_neighbors = 5)"
   ]
  },
  {
   "cell_type": "code",
   "execution_count": 204,
   "metadata": {},
   "outputs": [
    {
     "name": "stdout",
     "output_type": "stream",
     "text": [
      "Results:\n",
      "\n",
      "accuracy score: 0.8426\n",
      "\n",
      "Classification Report: \n",
      "               precision    recall  f1-score   support\n",
      "\n",
      "           0       0.88      0.79      0.83      3583\n",
      "           1       0.81      0.89      0.85      3583\n",
      "\n",
      "    accuracy                           0.84      7166\n",
      "   macro avg       0.85      0.84      0.84      7166\n",
      "weighted avg       0.85      0.84      0.84      7166\n",
      "\n",
      "\n",
      "Confusion Matrix: \n",
      " [[2834  749]\n",
      " [ 379 3204]]\n",
      "\n",
      "Average Accuracy: \t 0.7721\n",
      "Accuracy SD: \t\t 0.0194\n"
     ]
    }
   ],
   "source": [
    "knn.fit(X_train_res1, y_train_res1)\n",
    "print_score(knn,X_train_res1, y_train_res1, cv=10)"
   ]
  },
  {
   "cell_type": "code",
   "execution_count": 205,
   "metadata": {
    "scrolled": true
   },
   "outputs": [
    {
     "name": "stdout",
     "output_type": "stream",
     "text": [
      "Results:\n",
      "\n",
      "accuracy score: 0.6957\n",
      "\n",
      "Classification Report: \n",
      "               precision    recall  f1-score   support\n",
      "\n",
      "           0       0.86      0.71      0.78      1580\n",
      "           1       0.43      0.65      0.52       530\n",
      "\n",
      "    accuracy                           0.70      2110\n",
      "   macro avg       0.64      0.68      0.65      2110\n",
      "weighted avg       0.75      0.70      0.71      2110\n",
      "\n",
      "\n",
      "Confusion Matrix: \n",
      " [[1122  458]\n",
      " [ 184  346]]\n",
      "\n"
     ]
    }
   ],
   "source": [
    "print_score(knn,X_test, y_test)"
   ]
  },
  {
   "cell_type": "code",
   "execution_count": 206,
   "metadata": {
    "scrolled": false
   },
   "outputs": [
    {
     "name": "stdout",
     "output_type": "stream",
     "text": [
      "Results:\n",
      "\n",
      "accuracy score: 0.6957\n",
      "\n",
      "Classification Report: \n",
      "               precision    recall  f1-score   support\n",
      "\n",
      "           0       0.86      0.71      0.78      1580\n",
      "           1       0.43      0.65      0.52       530\n",
      "\n",
      "    accuracy                           0.70      2110\n",
      "   macro avg       0.64      0.68      0.65      2110\n",
      "weighted avg       0.75      0.70      0.71      2110\n",
      "\n",
      "\n",
      "Confusion Matrix: \n",
      " [[1122  458]\n",
      " [ 184  346]]\n",
      "\n"
     ]
    }
   ],
   "source": [
    "knn_res = knn.fit(X_train_res1, y_train_res1)\n",
    "print_score(knn_res, X_test, y_test)"
   ]
  },
  {
   "cell_type": "markdown",
   "metadata": {},
   "source": [
    "# KNN with scaled data"
   ]
  },
  {
   "cell_type": "code",
   "execution_count": 207,
   "metadata": {},
   "outputs": [
    {
     "name": "stdout",
     "output_type": "stream",
     "text": [
      "Results:\n",
      "\n",
      "accuracy score: 0.7678\n",
      "\n",
      "Classification Report: \n",
      "               precision    recall  f1-score   support\n",
      "\n",
      "           0       0.84      0.85      0.85      1580\n",
      "           1       0.54      0.52      0.53       530\n",
      "\n",
      "    accuracy                           0.77      2110\n",
      "   macro avg       0.69      0.69      0.69      2110\n",
      "weighted avg       0.77      0.77      0.77      2110\n",
      "\n",
      "\n",
      "Confusion Matrix: \n",
      " [[1342  238]\n",
      " [ 252  278]]\n",
      "\n"
     ]
    }
   ],
   "source": [
    "knn_sc = knn.fit(X_train_sc_full, y_train)\n",
    "print_score(knn_sc, X_test_sc_full, y_test)"
   ]
  },
  {
   "cell_type": "markdown",
   "metadata": {},
   "source": [
    "## SVM"
   ]
  },
  {
   "cell_type": "code",
   "execution_count": 208,
   "metadata": {},
   "outputs": [],
   "source": [
    "from sklearn import svm\n",
    "C = 0.1\n",
    "svm = svm.SVC(kernel='linear', C=C)"
   ]
  },
  {
   "cell_type": "code",
   "execution_count": 209,
   "metadata": {
    "scrolled": true
   },
   "outputs": [
    {
     "name": "stdout",
     "output_type": "stream",
     "text": [
      "Results:\n",
      "\n",
      "accuracy score: 0.7950\n",
      "\n",
      "Classification Report: \n",
      "               precision    recall  f1-score   support\n",
      "\n",
      "           0       0.84      0.89      0.86      3583\n",
      "           1       0.65      0.55      0.59      1339\n",
      "\n",
      "    accuracy                           0.80      4922\n",
      "   macro avg       0.74      0.72      0.73      4922\n",
      "weighted avg       0.79      0.80      0.79      4922\n",
      "\n",
      "\n",
      "Confusion Matrix: \n",
      " [[3182  401]\n",
      " [ 608  731]]\n",
      "\n",
      "Average Accuracy: \t 0.7928\n",
      "Accuracy SD: \t\t 0.0158\n"
     ]
    }
   ],
   "source": [
    "svm.fit(X_train_sc_full, y_train)\n",
    "print_score(svm, X_train_sc_full, y_train, cv=10)"
   ]
  },
  {
   "cell_type": "markdown",
   "metadata": {},
   "source": [
    "# Linear SVM with scaled data"
   ]
  },
  {
   "cell_type": "code",
   "execution_count": 210,
   "metadata": {},
   "outputs": [
    {
     "name": "stdout",
     "output_type": "stream",
     "text": [
      "Results:\n",
      "\n",
      "accuracy score: 0.7981\n",
      "\n",
      "Classification Report: \n",
      "               precision    recall  f1-score   support\n",
      "\n",
      "           0       0.84      0.90      0.87      1580\n",
      "           1       0.62      0.51      0.56       530\n",
      "\n",
      "    accuracy                           0.80      2110\n",
      "   macro avg       0.73      0.70      0.71      2110\n",
      "weighted avg       0.79      0.80      0.79      2110\n",
      "\n",
      "\n",
      "Confusion Matrix: \n",
      " [[1415  165]\n",
      " [ 261  269]]\n",
      "\n"
     ]
    }
   ],
   "source": [
    "svm.fit(X_train_sc_full, y_train)\n",
    "print_score(svm, X_test_sc_full, y_test)"
   ]
  },
  {
   "cell_type": "markdown",
   "metadata": {},
   "source": [
    "## Extra Tree"
   ]
  },
  {
   "cell_type": "code",
   "execution_count": 45,
   "metadata": {},
   "outputs": [],
   "source": [
    "from sklearn.ensemble import ExtraTreesClassifier\n",
    "xt = ExtraTreesClassifier(random_state=rs)"
   ]
  },
  {
   "cell_type": "code",
   "execution_count": 212,
   "metadata": {},
   "outputs": [
    {
     "name": "stdout",
     "output_type": "stream",
     "text": [
      "Results:\n",
      "\n",
      "accuracy score: 0.9986\n",
      "\n",
      "Classification Report: \n",
      "               precision    recall  f1-score   support\n",
      "\n",
      "           0       1.00      1.00      1.00      3583\n",
      "           1       1.00      1.00      1.00      3583\n",
      "\n",
      "    accuracy                           1.00      7166\n",
      "   macro avg       1.00      1.00      1.00      7166\n",
      "weighted avg       1.00      1.00      1.00      7166\n",
      "\n",
      "\n",
      "Confusion Matrix: \n",
      " [[3582    1]\n",
      " [   9 3574]]\n",
      "\n",
      "Average Accuracy: \t 0.8217\n",
      "Accuracy SD: \t\t 0.0770\n"
     ]
    }
   ],
   "source": [
    "xt.fit(X_train_res1, y_train_res1)\n",
    "print_score(xt, X_train_res1, y_train_res1, cv=10)"
   ]
  },
  {
   "cell_type": "code",
   "execution_count": 213,
   "metadata": {},
   "outputs": [
    {
     "name": "stdout",
     "output_type": "stream",
     "text": [
      "Results:\n",
      "\n",
      "accuracy score: 0.7725\n",
      "\n",
      "Classification Report: \n",
      "               precision    recall  f1-score   support\n",
      "\n",
      "           0       0.85      0.85      0.85      1580\n",
      "           1       0.55      0.54      0.54       530\n",
      "\n",
      "    accuracy                           0.77      2110\n",
      "   macro avg       0.70      0.69      0.70      2110\n",
      "weighted avg       0.77      0.77      0.77      2110\n",
      "\n",
      "\n",
      "Confusion Matrix: \n",
      " [[1345  235]\n",
      " [ 245  285]]\n",
      "\n"
     ]
    }
   ],
   "source": [
    "xt.fit(X_train_res1, y_train_res1)\n",
    "print_score(xt, X_test, y_test)"
   ]
  },
  {
   "cell_type": "code",
   "execution_count": 214,
   "metadata": {},
   "outputs": [
    {
     "name": "stdout",
     "output_type": "stream",
     "text": [
      "Results:\n",
      "\n",
      "accuracy score: 0.7863\n",
      "\n",
      "Classification Report: \n",
      "               precision    recall  f1-score   support\n",
      "\n",
      "           0       0.84      0.89      0.86      1580\n",
      "           1       0.59      0.48      0.53       530\n",
      "\n",
      "    accuracy                           0.79      2110\n",
      "   macro avg       0.71      0.68      0.69      2110\n",
      "weighted avg       0.77      0.79      0.78      2110\n",
      "\n",
      "\n",
      "Confusion Matrix: \n",
      " [[1407  173]\n",
      " [ 278  252]]\n",
      "\n"
     ]
    }
   ],
   "source": [
    "xt_sc = xt.fit(X_train_sc_full, y_train)\n",
    "print_score(xt_sc, X_test_sc_full,y_test)"
   ]
  },
  {
   "cell_type": "markdown",
   "metadata": {},
   "source": [
    "## GridSearchCV"
   ]
  },
  {
   "cell_type": "code",
   "execution_count": 136,
   "metadata": {},
   "outputs": [],
   "source": [
    "from sklearn.model_selection import GridSearchCV"
   ]
  },
  {
   "cell_type": "markdown",
   "metadata": {},
   "source": [
    "### Logistic GridSearch"
   ]
  },
  {
   "cell_type": "code",
   "execution_count": 216,
   "metadata": {},
   "outputs": [
    {
     "name": "stdout",
     "output_type": "stream",
     "text": [
      "Fitting 3 folds for each of 2 candidates, totalling 6 fits\n"
     ]
    },
    {
     "name": "stderr",
     "output_type": "stream",
     "text": [
      "[Parallel(n_jobs=-1)]: Using backend LokyBackend with 12 concurrent workers.\n",
      "[Parallel(n_jobs=-1)]: Done   4 out of   6 | elapsed:    0.1s remaining:    0.0s\n",
      "[Parallel(n_jobs=-1)]: Done   6 out of   6 | elapsed:    0.1s finished\n"
     ]
    },
    {
     "data": {
      "text/plain": [
       "GridSearchCV(cv='warn', error_score='raise-deprecating',\n",
       "             estimator=LogisticRegression(C=1.0, class_weight=None, dual=False,\n",
       "                                          fit_intercept=True,\n",
       "                                          intercept_scaling=1, l1_ratio=None,\n",
       "                                          max_iter=100, multi_class='warn',\n",
       "                                          n_jobs=None, penalty='l2',\n",
       "                                          random_state=101, solver='warn',\n",
       "                                          tol=0.0001, verbose=0,\n",
       "                                          warm_start=False),\n",
       "             iid='warn', n_jobs=-1,\n",
       "             param_grid={'penalty': ['l1', 'l2'], 'solver': ['liblinear']},\n",
       "             pre_dispatch='2*n_jobs', refit=True, return_train_score=False,\n",
       "             scoring=None, verbose=1)"
      ]
     },
     "execution_count": 216,
     "metadata": {},
     "output_type": "execute_result"
    }
   ],
   "source": [
    "params = {'penalty': ['l1', 'l2'],\n",
    "          'solver': ['liblinear']}\n",
    "cv_log = GridSearchCV(LogisticRegression(random_state=rs), \n",
    "                      params, n_jobs=-1, verbose=1)\n",
    "\n",
    "cv_log.fit(X_train_res1, y_train_res1)"
   ]
  },
  {
   "cell_type": "code",
   "execution_count": 217,
   "metadata": {},
   "outputs": [
    {
     "data": {
      "text/plain": [
       "{'penalty': 'l2', 'solver': 'liblinear'}"
      ]
     },
     "execution_count": 217,
     "metadata": {},
     "output_type": "execute_result"
    }
   ],
   "source": [
    "cv_log.best_estimator_\n",
    "cv_log.best_params_"
   ]
  },
  {
   "cell_type": "code",
   "execution_count": 218,
   "metadata": {
    "scrolled": false
   },
   "outputs": [
    {
     "name": "stdout",
     "output_type": "stream",
     "text": [
      "Results:\n",
      "\n",
      "accuracy score: 0.7602\n",
      "\n",
      "Classification Report: \n",
      "               precision    recall  f1-score   support\n",
      "\n",
      "           0       0.88      0.78      0.83      1580\n",
      "           1       0.52      0.69      0.59       530\n",
      "\n",
      "    accuracy                           0.76      2110\n",
      "   macro avg       0.70      0.74      0.71      2110\n",
      "weighted avg       0.79      0.76      0.77      2110\n",
      "\n",
      "\n",
      "Confusion Matrix: \n",
      " [[1236  344]\n",
      " [ 162  368]]\n",
      "\n"
     ]
    }
   ],
   "source": [
    "y_pred = cv_log.predict(X_test)\n",
    "print_score(cv_log, X_test, y_test)"
   ]
  },
  {
   "cell_type": "markdown",
   "metadata": {},
   "source": [
    "# ใช้ตัวนี้ดีสุด"
   ]
  },
  {
   "cell_type": "markdown",
   "metadata": {},
   "source": [
    "# Logistic Regression with GridSearch"
   ]
  },
  {
   "cell_type": "code",
   "execution_count": 219,
   "metadata": {},
   "outputs": [
    {
     "name": "stdout",
     "output_type": "stream",
     "text": [
      "Fitting 3 folds for each of 3 candidates, totalling 9 fits\n"
     ]
    },
    {
     "name": "stderr",
     "output_type": "stream",
     "text": [
      "[Parallel(n_jobs=-1)]: Using backend LokyBackend with 12 concurrent workers.\n",
      "[Parallel(n_jobs=-1)]: Done   6 out of   9 | elapsed:    0.2s remaining:    0.1s\n",
      "[Parallel(n_jobs=-1)]: Done   9 out of   9 | elapsed:    0.9s finished\n"
     ]
    },
    {
     "data": {
      "text/plain": [
       "{'penalty': 'l2', 'solver': 'newton-cg'}"
      ]
     },
     "execution_count": 219,
     "metadata": {},
     "output_type": "execute_result"
    }
   ],
   "source": [
    "params = {'penalty': ['l2'],\n",
    "          'solver': ['newton-cg', 'lbfgs','sag']}\n",
    "cv_log_2 = GridSearchCV(LogisticRegression(random_state=rs), params, n_jobs=-1, verbose=1)\n",
    "\n",
    "cv_log_2.fit(X_train_res1, y_train_res1)\n",
    "\n",
    "cv_log_2.best_estimator_\n",
    "cv_log_2.best_params_"
   ]
  },
  {
   "cell_type": "code",
   "execution_count": 220,
   "metadata": {
    "scrolled": true
   },
   "outputs": [
    {
     "data": {
      "text/plain": [
       "{'penalty': 'l2', 'solver': 'newton-cg'}"
      ]
     },
     "execution_count": 220,
     "metadata": {},
     "output_type": "execute_result"
    }
   ],
   "source": [
    "d\n",
    "cv_log_2.best_params_"
   ]
  },
  {
   "cell_type": "markdown",
   "metadata": {},
   "source": [
    "# Logistic Regression with GridSearchCV"
   ]
  },
  {
   "cell_type": "code",
   "execution_count": 221,
   "metadata": {
    "scrolled": true
   },
   "outputs": [
    {
     "name": "stdout",
     "output_type": "stream",
     "text": [
      "Results:\n",
      "\n",
      "accuracy score: 0.7626\n",
      "\n",
      "Classification Report: \n",
      "               precision    recall  f1-score   support\n",
      "\n",
      "           0       0.89      0.78      0.83      1580\n",
      "           1       0.52      0.70      0.60       530\n",
      "\n",
      "    accuracy                           0.76      2110\n",
      "   macro avg       0.70      0.74      0.71      2110\n",
      "weighted avg       0.79      0.76      0.77      2110\n",
      "\n",
      "\n",
      "Confusion Matrix: \n",
      " [[1240  340]\n",
      " [ 161  369]]\n",
      "\n"
     ]
    }
   ],
   "source": [
    "y_pred = cv_log_2.predict(X_test)\n",
    "print_score(cv_log_2, X_test, y_test)"
   ]
  },
  {
   "cell_type": "code",
   "execution_count": 73,
   "metadata": {},
   "outputs": [
    {
     "name": "stdout",
     "output_type": "stream",
     "text": [
      "Fitting 3 folds for each of 10 candidates, totalling 30 fits\n"
     ]
    },
    {
     "name": "stderr",
     "output_type": "stream",
     "text": [
      "[Parallel(n_jobs=-1)]: Using backend LokyBackend with 12 concurrent workers.\n",
      "[Parallel(n_jobs=-1)]: Done  30 out of  30 | elapsed:    1.1s finished\n"
     ]
    },
    {
     "data": {
      "text/plain": [
       "{'l1_ratio': 0.1, 'penalty': 'l1', 'solver': 'saga'}"
      ]
     },
     "execution_count": 73,
     "metadata": {},
     "output_type": "execute_result"
    }
   ],
   "source": [
    "params = {'penalty': ['l1','elasticnet'],\n",
    "          'solver': ['saga'],\n",
    "         'l1_ratio': [0.1,0.3,0.5,0.7,1.0]\n",
    "         }\n",
    "cv_log_3 = GridSearchCV(LogisticRegression(random_state=rs), params, n_jobs=-1, verbose=1)\n",
    "\n",
    "cv_log_3.fit(X_train_res1, y_train_res1)\n",
    "\n",
    "cv_log_3.best_estimator_\n",
    "cv_log_3.best_params_"
   ]
  },
  {
   "cell_type": "code",
   "execution_count": 74,
   "metadata": {
    "scrolled": true
   },
   "outputs": [
    {
     "name": "stdout",
     "output_type": "stream",
     "text": [
      "Results:\n",
      "\n",
      "accuracy score: 0.6559\n",
      "\n",
      "Classification Report: \n",
      "               precision    recall  f1-score   support\n",
      "\n",
      "           0       0.90      0.61      0.73      1580\n",
      "           1       0.40      0.79      0.53       530\n",
      "\n",
      "    accuracy                           0.66      2110\n",
      "   macro avg       0.65      0.70      0.63      2110\n",
      "weighted avg       0.77      0.66      0.68      2110\n",
      "\n",
      "\n",
      "Confusion Matrix: \n",
      " [[967 613]\n",
      " [113 417]]\n",
      "\n"
     ]
    }
   ],
   "source": [
    "y_pred = cv_log_3.predict(X_test)\n",
    "print_score(cv_log_3, X_test, y_test)"
   ]
  },
  {
   "cell_type": "markdown",
   "metadata": {},
   "source": [
    "## KNN GridSearch"
   ]
  },
  {
   "cell_type": "code",
   "execution_count": 75,
   "metadata": {
    "scrolled": true
   },
   "outputs": [
    {
     "name": "stdout",
     "output_type": "stream",
     "text": [
      "Fitting 3 folds for each of 225 candidates, totalling 675 fits\n"
     ]
    },
    {
     "name": "stderr",
     "output_type": "stream",
     "text": [
      "[Parallel(n_jobs=-1)]: Using backend LokyBackend with 12 concurrent workers.\n",
      "[Parallel(n_jobs=-1)]: Done  26 tasks      | elapsed:    0.7s\n",
      "[Parallel(n_jobs=-1)]: Done 176 tasks      | elapsed:    4.0s\n",
      "[Parallel(n_jobs=-1)]: Done 426 tasks      | elapsed:    9.4s\n",
      "[Parallel(n_jobs=-1)]: Done 675 out of 675 | elapsed:   16.6s finished\n"
     ]
    },
    {
     "data": {
      "text/plain": [
       "{'algorithm': 'ball_tree', 'metric': 'minkowski', 'n_neighbors': 35}"
      ]
     },
     "execution_count": 75,
     "metadata": {},
     "output_type": "execute_result"
    }
   ],
   "source": [
    "params = {'n_neighbors': list(range(1,50,2)),\n",
    "          'algorithm': ['ball_tree', 'kd_tree', 'brute'],\n",
    "         'metric': ['minkowski','manhattan','euclidean']\n",
    "         }\n",
    "cv_knn_1 = GridSearchCV(KNeighborsClassifier(), params, n_jobs=-1, verbose=1)\n",
    "\n",
    "cv_knn_1.fit(X_train_sc_full, y_train)\n",
    "\n",
    "cv_knn_1.best_estimator_\n",
    "cv_knn_1.best_params_"
   ]
  },
  {
   "cell_type": "markdown",
   "metadata": {},
   "source": [
    "# KNN with GridSearchCV"
   ]
  },
  {
   "cell_type": "code",
   "execution_count": 76,
   "metadata": {
    "scrolled": true
   },
   "outputs": [
    {
     "name": "stdout",
     "output_type": "stream",
     "text": [
      "Results:\n",
      "\n",
      "accuracy score: 0.7934\n",
      "\n",
      "Classification Report: \n",
      "               precision    recall  f1-score   support\n",
      "\n",
      "           0       0.85      0.88      0.86      1580\n",
      "           1       0.60      0.55      0.57       530\n",
      "\n",
      "    accuracy                           0.79      2110\n",
      "   macro avg       0.72      0.71      0.72      2110\n",
      "weighted avg       0.79      0.79      0.79      2110\n",
      "\n",
      "\n",
      "Confusion Matrix: \n",
      " [[1384  196]\n",
      " [ 240  290]]\n",
      "\n"
     ]
    }
   ],
   "source": [
    "y_pred = cv_knn_1.predict(X_test_sc_full)\n",
    "print_score(cv_knn_1, X_test_sc_full, y_test)"
   ]
  },
  {
   "cell_type": "markdown",
   "metadata": {},
   "source": [
    "## ExtraRandomForest GridSearch"
   ]
  },
  {
   "cell_type": "code",
   "execution_count": 169,
   "metadata": {
    "scrolled": true
   },
   "outputs": [
    {
     "name": "stdout",
     "output_type": "stream",
     "text": [
      "Fitting 3 folds for each of 256 candidates, totalling 768 fits\n"
     ]
    },
    {
     "name": "stderr",
     "output_type": "stream",
     "text": [
      "[Parallel(n_jobs=-1)]: Using backend LokyBackend with 12 concurrent workers.\n",
      "[Parallel(n_jobs=-1)]: Done  26 tasks      | elapsed:    4.2s\n",
      "[Parallel(n_jobs=-1)]: Done 176 tasks      | elapsed:   11.8s\n",
      "[Parallel(n_jobs=-1)]: Done 426 tasks      | elapsed:   27.1s\n",
      "[Parallel(n_jobs=-1)]: Done 768 out of 768 | elapsed:   50.0s finished\n"
     ]
    },
    {
     "data": {
      "text/plain": [
       "{'bootstrap': True,\n",
       " 'criterion': 'entropy',\n",
       " 'min_samples_leaf': 1,\n",
       " 'min_samples_split': 2,\n",
       " 'n_estimators': 200}"
      ]
     },
     "execution_count": 169,
     "metadata": {},
     "output_type": "execute_result"
    }
   ],
   "source": [
    "params = {'n_estimators': [50,100,150,200],\n",
    "               \"min_samples_split\": [2, 3, 5, 10],\n",
    "               \"min_samples_leaf\": [1, 3, 5, 10],\n",
    "               \"bootstrap\": [True, False],\n",
    "               \"criterion\": ['gini', 'entropy']\n",
    "         }\n",
    "cv_et_1 = GridSearchCV(ExtraTreesClassifier(), params, n_jobs=-1, verbose=1)\n",
    "\n",
    "cv_et_1.fit(X_train_res1, y_train_res1)\n",
    "\n",
    "cv_et_1.best_estimator_\n",
    "cv_et_1.best_params_"
   ]
  },
  {
   "cell_type": "markdown",
   "metadata": {},
   "source": [
    "# ExtraTree with GridSearchCV"
   ]
  },
  {
   "cell_type": "code",
   "execution_count": 170,
   "metadata": {
    "scrolled": true
   },
   "outputs": [
    {
     "name": "stdout",
     "output_type": "stream",
     "text": [
      "Results:\n",
      "\n",
      "accuracy score: 0.7673\n",
      "\n",
      "Classification Report: \n",
      "               precision    recall  f1-score   support\n",
      "\n",
      "           0       0.86      0.83      0.84      1580\n",
      "           1       0.53      0.59      0.56       530\n",
      "\n",
      "    accuracy                           0.77      2110\n",
      "   macro avg       0.70      0.71      0.70      2110\n",
      "weighted avg       0.78      0.77      0.77      2110\n",
      "\n",
      "\n",
      "Confusion Matrix: \n",
      " [[1304  276]\n",
      " [ 215  315]]\n",
      "\n"
     ]
    }
   ],
   "source": [
    "y_pred = cv_et_1.predict(X_test)\n",
    "print_score(cv_et_1, X_test, y_test)"
   ]
  },
  {
   "cell_type": "markdown",
   "metadata": {},
   "source": [
    "## SVM GridSearch"
   ]
  },
  {
   "cell_type": "code",
   "execution_count": 134,
   "metadata": {},
   "outputs": [],
   "source": [
    "from sklearn import svm\n",
    "clf = svm.SVC()"
   ]
  },
  {
   "cell_type": "code",
   "execution_count": 137,
   "metadata": {
    "scrolled": false
   },
   "outputs": [
    {
     "name": "stdout",
     "output_type": "stream",
     "text": [
      "Fitting 3 folds for each of 144 candidates, totalling 432 fits\n"
     ]
    },
    {
     "name": "stderr",
     "output_type": "stream",
     "text": [
      "[Parallel(n_jobs=-1)]: Using backend LokyBackend with 12 concurrent workers.\n",
      "[Parallel(n_jobs=-1)]: Done  26 tasks      | elapsed:    4.4s\n",
      "[Parallel(n_jobs=-1)]: Done 176 tasks      | elapsed:   29.6s\n",
      "[Parallel(n_jobs=-1)]: Done 432 out of 432 | elapsed:  7.9min finished\n"
     ]
    },
    {
     "data": {
      "text/plain": [
       "{'C': 10, 'gamma': 0.01, 'kernel': 'rbf'}"
      ]
     },
     "execution_count": 137,
     "metadata": {},
     "output_type": "execute_result"
    }
   ],
   "source": [
    "params = [{'kernel': ['rbf'], 'gamma': [1e-1,1e-2,1e-3, 1e-4],'C': [0.1,1, 10, 100, 1000,2000]},\n",
    "          {'kernel': ['linear'], 'C': [0.1,1, 10, 100, 1000,2000]},\n",
    "          {'kernel': ['poly'], 'degree': range(1,20),'C': [0.1,1, 10, 100, 1000,2000]}]\n",
    "         \n",
    "cv_svm_1 = GridSearchCV(clf, params, n_jobs=-1, verbose=1)\n",
    "\n",
    "cv_svm_1.fit(X_train_sc_full, y_train) \n",
    "\n",
    "cv_svm_1.best_estimator_\n",
    "cv_svm_1.best_params_"
   ]
  },
  {
   "cell_type": "markdown",
   "metadata": {},
   "source": [
    "# SVM GridSearchCV"
   ]
  },
  {
   "cell_type": "code",
   "execution_count": 139,
   "metadata": {
    "scrolled": false
   },
   "outputs": [
    {
     "name": "stdout",
     "output_type": "stream",
     "text": [
      "Results:\n",
      "\n",
      "accuracy score: 0.8071\n",
      "\n",
      "Classification Report: \n",
      "               precision    recall  f1-score   support\n",
      "\n",
      "           0       0.84      0.92      0.88      1580\n",
      "           1       0.66      0.47      0.55       530\n",
      "\n",
      "    accuracy                           0.81      2110\n",
      "   macro avg       0.75      0.70      0.71      2110\n",
      "weighted avg       0.79      0.81      0.80      2110\n",
      "\n",
      "\n",
      "Confusion Matrix: \n",
      " [[1452  128]\n",
      " [ 279  251]]\n",
      "\n"
     ]
    }
   ],
   "source": [
    "y_pred = cv_svm_1.predict(X_test_sc_full)\n",
    "print_score(cv_svm_1, X_test_sc_full, y_test)"
   ]
  },
  {
   "cell_type": "markdown",
   "metadata": {},
   "source": [
    "# Logistic Regression with GridSearch"
   ]
  },
  {
   "cell_type": "code",
   "execution_count": 248,
   "metadata": {},
   "outputs": [],
   "source": [
    "from sklearn.linear_model import LogisticRegression\n",
    "from sklearn.pipeline import Pipeline\n",
    "# clf = LogisticRegression(random_state = rs)"
   ]
  },
  {
   "cell_type": "code",
   "execution_count": 249,
   "metadata": {},
   "outputs": [
    {
     "name": "stdout",
     "output_type": "stream",
     "text": [
      "Fitting 3 folds for each of 40 candidates, totalling 120 fits\n"
     ]
    },
    {
     "name": "stderr",
     "output_type": "stream",
     "text": [
      "[Parallel(n_jobs=-1)]: Using backend LokyBackend with 12 concurrent workers.\n",
      "[Parallel(n_jobs=-1)]: Done 120 out of 120 | elapsed:    0.6s finished\n"
     ]
    }
   ],
   "source": [
    "# pipe = Pipeline([('classifier' , RandomForestClassifier(random_state=rs))])\n",
    "\n",
    "param_grid = {'classifier' : [LogisticRegression(random_state = rs)],\n",
    "     'classifier__penalty' : ['l1', 'l2'],\n",
    "    'classifier__C' : np.logspace(-4, 4, 20),\n",
    "    'classifier__solver' : ['liblinear']}\n",
    "\n",
    "\n",
    "clf = GridSearchCV(pipe, param_grid = param_grid, verbose=True, n_jobs=-1) \n",
    "\n",
    "cv_log= clf.fit(X_train_sc_full, y_train)"
   ]
  },
  {
   "cell_type": "code",
   "execution_count": 250,
   "metadata": {
    "scrolled": false
   },
   "outputs": [
    {
     "data": {
      "text/plain": [
       "{'classifier': LogisticRegression(C=1.623776739188721, class_weight=None, dual=False,\n",
       "                    fit_intercept=True, intercept_scaling=1, l1_ratio=None,\n",
       "                    max_iter=100, multi_class='warn', n_jobs=None, penalty='l2',\n",
       "                    random_state=101, solver='liblinear', tol=0.0001, verbose=0,\n",
       "                    warm_start=False),\n",
       " 'classifier__C': 1.623776739188721,\n",
       " 'classifier__penalty': 'l2',\n",
       " 'classifier__solver': 'liblinear'}"
      ]
     },
     "execution_count": 250,
     "metadata": {},
     "output_type": "execute_result"
    }
   ],
   "source": [
    "cv_log.best_estimator_\n",
    "cv_log.best_params_"
   ]
  },
  {
   "cell_type": "code",
   "execution_count": null,
   "metadata": {},
   "outputs": [],
   "source": []
  },
  {
   "cell_type": "markdown",
   "metadata": {},
   "source": [
    "# Logistic Regression with GridSearch"
   ]
  },
  {
   "cell_type": "code",
   "execution_count": 251,
   "metadata": {
    "scrolled": true
   },
   "outputs": [
    {
     "name": "stdout",
     "output_type": "stream",
     "text": [
      "Results:\n",
      "\n",
      "accuracy score: 0.8043\n",
      "\n",
      "Classification Report: \n",
      "               precision    recall  f1-score   support\n",
      "\n",
      "           0       0.85      0.89      0.87      1580\n",
      "           1       0.63      0.54      0.58       530\n",
      "\n",
      "    accuracy                           0.80      2110\n",
      "   macro avg       0.74      0.72      0.73      2110\n",
      "weighted avg       0.80      0.80      0.80      2110\n",
      "\n",
      "\n",
      "Confusion Matrix: \n",
      " [[1410  170]\n",
      " [ 243  287]]\n",
      "\n"
     ]
    }
   ],
   "source": [
    "print_score(cv_log, X_test_sc_full, y_test)"
   ]
  },
  {
   "cell_type": "markdown",
   "metadata": {},
   "source": [
    "## Ensemble"
   ]
  },
  {
   "cell_type": "markdown",
   "metadata": {},
   "source": [
    "## XGboosting"
   ]
  },
  {
   "cell_type": "code",
   "execution_count": 46,
   "metadata": {},
   "outputs": [],
   "source": [
    "import xgboost as xgb\n",
    "from xgboost import XGBClassifier"
   ]
  },
  {
   "cell_type": "code",
   "execution_count": 46,
   "metadata": {},
   "outputs": [],
   "source": [
    "xgb = xgb.XGBClassifier(max_depth=5, n_estimators=50, learning_rate=0.3,\n",
    "                            n_jobs=-1, random_state = rs)"
   ]
  },
  {
   "cell_type": "code",
   "execution_count": 47,
   "metadata": {
    "scrolled": true
   },
   "outputs": [
    {
     "data": {
      "text/plain": [
       "XGBClassifier(base_score=0.5, booster='gbtree', colsample_bylevel=1,\n",
       "              colsample_bynode=1, colsample_bytree=1, gamma=0,\n",
       "              learning_rate=0.3, max_delta_step=0, max_depth=5,\n",
       "              min_child_weight=1, missing=None, n_estimators=50, n_jobs=-1,\n",
       "              nthread=None, objective='binary:logistic', random_state=101,\n",
       "              reg_alpha=0, reg_lambda=1, scale_pos_weight=1, seed=None,\n",
       "              silent=None, subsample=1, verbosity=1)"
      ]
     },
     "execution_count": 47,
     "metadata": {},
     "output_type": "execute_result"
    }
   ],
   "source": [
    "xgb.fit(X_train_res1, y_train_res1)"
   ]
  },
  {
   "cell_type": "markdown",
   "metadata": {},
   "source": [
    "# XGBoosting"
   ]
  },
  {
   "cell_type": "code",
   "execution_count": 48,
   "metadata": {
    "scrolled": true
   },
   "outputs": [
    {
     "name": "stdout",
     "output_type": "stream",
     "text": [
      "Results:\n",
      "\n",
      "accuracy score: 0.7787\n",
      "\n",
      "Classification Report: \n",
      "               precision    recall  f1-score   support\n",
      "\n",
      "           0       0.87      0.83      0.85      1580\n",
      "           1       0.55      0.63      0.59       530\n",
      "\n",
      "    accuracy                           0.78      2110\n",
      "   macro avg       0.71      0.73      0.72      2110\n",
      "weighted avg       0.79      0.78      0.78      2110\n",
      "\n",
      "\n",
      "Confusion Matrix: \n",
      " [[1309  271]\n",
      " [ 196  334]]\n",
      "\n"
     ]
    }
   ],
   "source": [
    "y_pred = xgb.predict(X_train_res1)\n",
    "print_score(xgb, X_test, y_test)"
   ]
  },
  {
   "cell_type": "markdown",
   "metadata": {},
   "source": [
    "# XGBoosting with GridSearch"
   ]
  },
  {
   "cell_type": "code",
   "execution_count": 49,
   "metadata": {},
   "outputs": [],
   "source": [
    "# estimator = XGBClassifier(\n",
    "#     objective= 'binary:logistic',\n",
    "#     nthread=4,\n",
    "#     seed=rs\n",
    "# )"
   ]
  },
  {
   "cell_type": "code",
   "execution_count": 50,
   "metadata": {},
   "outputs": [],
   "source": [
    "# parameters = {\n",
    "#     'max_depth': range (2, 30, 1),\n",
    "#     'n_estimators': range(60, 220, 20),\n",
    "#     'learning_rate': [0.5,0.1, 0.01, 0.05]\n",
    "# }"
   ]
  },
  {
   "cell_type": "code",
   "execution_count": 56,
   "metadata": {},
   "outputs": [],
   "source": [
    "# grid_search = GridSearchCV(\n",
    "#     estimator=estimator,\n",
    "#     param_grid=parameters,\n",
    "#     scoring = 'roc_auc',\n",
    "#     n_jobs = 10,\n",
    "#     cv = 5,\n",
    "#     verbose=True\n",
    "# )"
   ]
  },
  {
   "cell_type": "code",
   "execution_count": 52,
   "metadata": {
    "scrolled": true
   },
   "outputs": [
    {
     "name": "stdout",
     "output_type": "stream",
     "text": [
      "Fitting 5 folds for each of 896 candidates, totalling 4480 fits\n"
     ]
    },
    {
     "name": "stderr",
     "output_type": "stream",
     "text": [
      "[Parallel(n_jobs=10)]: Using backend LokyBackend with 10 concurrent workers.\n",
      "[Parallel(n_jobs=10)]: Done  30 tasks      | elapsed:    4.0s\n",
      "[Parallel(n_jobs=10)]: Done 180 tasks      | elapsed:   25.7s\n",
      "[Parallel(n_jobs=10)]: Done 430 tasks      | elapsed:  1.6min\n",
      "[Parallel(n_jobs=10)]: Done 780 tasks      | elapsed:  4.0min\n",
      "[Parallel(n_jobs=10)]: Done 1230 tasks      | elapsed:  6.7min\n",
      "[Parallel(n_jobs=10)]: Done 1780 tasks      | elapsed:  9.9min\n",
      "[Parallel(n_jobs=10)]: Done 2430 tasks      | elapsed: 14.4min\n",
      "[Parallel(n_jobs=10)]: Done 3180 tasks      | elapsed: 19.5min\n",
      "[Parallel(n_jobs=10)]: Done 4030 tasks      | elapsed: 24.3min\n",
      "[Parallel(n_jobs=10)]: Done 4480 out of 4480 | elapsed: 28.2min finished\n"
     ]
    },
    {
     "data": {
      "text/plain": [
       "GridSearchCV(cv=5, error_score='raise-deprecating',\n",
       "             estimator=XGBClassifier(base_score=0.5, booster='gbtree',\n",
       "                                     colsample_bylevel=1, colsample_bynode=1,\n",
       "                                     colsample_bytree=1, gamma=0,\n",
       "                                     learning_rate=0.1, max_delta_step=0,\n",
       "                                     max_depth=3, min_child_weight=1,\n",
       "                                     missing=None, n_estimators=100, n_jobs=1,\n",
       "                                     nthread=4, objective='binary:logistic',\n",
       "                                     random_state=0, reg_alpha=0, reg_lambda=1,\n",
       "                                     scale_pos_weight=1, seed=101, silent=None,\n",
       "                                     subsample=1, verbosity=1),\n",
       "             iid='warn', n_jobs=10,\n",
       "             param_grid={'learning_rate': [0.5, 0.1, 0.01, 0.05],\n",
       "                         'max_depth': range(2, 30),\n",
       "                         'n_estimators': range(60, 220, 20)},\n",
       "             pre_dispatch='2*n_jobs', refit=True, return_train_score=False,\n",
       "             scoring='roc_auc', verbose=True)"
      ]
     },
     "execution_count": 52,
     "metadata": {},
     "output_type": "execute_result"
    }
   ],
   "source": [
    "# grid_search.fit(X_train_res1, y_train_res1)"
   ]
  },
  {
   "cell_type": "code",
   "execution_count": 54,
   "metadata": {},
   "outputs": [
    {
     "data": {
      "text/plain": [
       "XGBClassifier(base_score=0.5, booster='gbtree', colsample_bylevel=1,\n",
       "              colsample_bynode=1, colsample_bytree=1, gamma=0,\n",
       "              learning_rate=0.1, max_delta_step=0, max_depth=9,\n",
       "              min_child_weight=1, missing=None, n_estimators=200, n_jobs=1,\n",
       "              nthread=4, objective='binary:logistic', random_state=0,\n",
       "              reg_alpha=0, reg_lambda=1, scale_pos_weight=1, seed=101,\n",
       "              silent=None, subsample=1, verbosity=1)"
      ]
     },
     "execution_count": 54,
     "metadata": {},
     "output_type": "execute_result"
    }
   ],
   "source": [
    "# grid_search.best_estimator_"
   ]
  },
  {
   "cell_type": "code",
   "execution_count": 53,
   "metadata": {
    "scrolled": true
   },
   "outputs": [
    {
     "name": "stdout",
     "output_type": "stream",
     "text": [
      "Results:\n",
      "\n",
      "accuracy score: 0.7768\n",
      "\n",
      "Classification Report: \n",
      "               precision    recall  f1-score   support\n",
      "\n",
      "           0       0.86      0.84      0.85      1580\n",
      "           1       0.55      0.59      0.57       530\n",
      "\n",
      "    accuracy                           0.78      2110\n",
      "   macro avg       0.71      0.71      0.71      2110\n",
      "weighted avg       0.78      0.78      0.78      2110\n",
      "\n",
      "\n",
      "Confusion Matrix: \n",
      " [[1326  254]\n",
      " [ 217  313]]\n",
      "\n"
     ]
    }
   ],
   "source": [
    "# print_score(grid_search, X_test, y_test)"
   ]
  },
  {
   "cell_type": "code",
   "execution_count": null,
   "metadata": {},
   "outputs": [],
   "source": []
  },
  {
   "cell_type": "markdown",
   "metadata": {},
   "source": [
    "# Voting"
   ]
  },
  {
   "cell_type": "code",
   "execution_count": 140,
   "metadata": {},
   "outputs": [],
   "source": [
    "from sklearn.linear_model import SGDClassifier\n",
    "from sklearn.ensemble import VotingClassifier"
   ]
  },
  {
   "cell_type": "code",
   "execution_count": 141,
   "metadata": {},
   "outputs": [],
   "source": [
    "svm_clf = SVC(C= 10, gamma= 0.01, kernel= 'rbf', random_state=rs)\n",
    "knn_clf = KNeighborsClassifier(algorithm= 'ball_tree', metric= 'minkowski', n_neighbors= 35)\n",
    "et_clf = ExtraTreesClassifier(bootstrap= True,\n",
    " criterion= 'gini',\n",
    " min_samples_leaf= 1,\n",
    " min_samples_split= 3,\n",
    " n_estimators= 150, random_state = rs)\n",
    "xgb_clf = XGBClassifier(base_score=0.5, booster='gbtree', colsample_bylevel=1,\n",
    "              colsample_bynode=1, colsample_bytree=1, gamma=0,\n",
    "              learning_rate=0.1, max_delta_step=0, max_depth=9,\n",
    "              min_child_weight=1, missing=None, n_estimators=200, n_jobs=1,\n",
    "              nthread=4, objective='binary:logistic', random_state=rs,\n",
    "              reg_alpha=0, reg_lambda=1, scale_pos_weight=1, seed=101,\n",
    "              silent=None, subsample=1, verbosity=1)\n",
    "\n",
    "\n",
    "voting_clf = VotingClassifier(\n",
    "                estimators=[('svm', svm_clf), ('knn', knn_clf), \n",
    "                            ('et', et_clf), ('xgb', xgb_clf)],\n",
    "                             voting='hard'   \n",
    "                            )"
   ]
  },
  {
   "cell_type": "code",
   "execution_count": 145,
   "metadata": {
    "scrolled": false
   },
   "outputs": [
    {
     "data": {
      "text/plain": [
       "VotingClassifier(estimators=[('svm',\n",
       "                              SVC(C=10, cache_size=200, class_weight=None,\n",
       "                                  coef0=0.0, decision_function_shape='ovr',\n",
       "                                  degree=3, gamma=0.01, kernel='rbf',\n",
       "                                  max_iter=-1, probability=False,\n",
       "                                  random_state=101, shrinking=True, tol=0.001,\n",
       "                                  verbose=False)),\n",
       "                             ('knn',\n",
       "                              KNeighborsClassifier(algorithm='ball_tree',\n",
       "                                                   leaf_size=30,\n",
       "                                                   metric='minkowski',\n",
       "                                                   metric_params=None,\n",
       "                                                   n_jobs=Non...\n",
       "                                            colsample_bynode=1,\n",
       "                                            colsample_bytree=1, gamma=0,\n",
       "                                            learning_rate=0.1, max_delta_step=0,\n",
       "                                            max_depth=9, min_child_weight=1,\n",
       "                                            missing=None, n_estimators=200,\n",
       "                                            n_jobs=1, nthread=4,\n",
       "                                            objective='binary:logistic',\n",
       "                                            random_state=101, reg_alpha=0,\n",
       "                                            reg_lambda=1, scale_pos_weight=1,\n",
       "                                            seed=101, silent=None, subsample=1,\n",
       "                                            verbosity=1))],\n",
       "                 flatten_transform=True, n_jobs=None, voting='hard',\n",
       "                 weights=None)"
      ]
     },
     "execution_count": 145,
     "metadata": {},
     "output_type": "execute_result"
    }
   ],
   "source": [
    "voting_clf.fit(X_train_sc_full, y_train)"
   ]
  },
  {
   "cell_type": "markdown",
   "metadata": {},
   "source": [
    "# Voting"
   ]
  },
  {
   "cell_type": "code",
   "execution_count": 146,
   "metadata": {},
   "outputs": [
    {
     "name": "stdout",
     "output_type": "stream",
     "text": [
      "Results:\n",
      "\n",
      "accuracy score: 0.8062\n",
      "\n",
      "Classification Report: \n",
      "               precision    recall  f1-score   support\n",
      "\n",
      "           0       0.84      0.92      0.88      1580\n",
      "           1       0.66      0.47      0.55       530\n",
      "\n",
      "    accuracy                           0.81      2110\n",
      "   macro avg       0.75      0.69      0.71      2110\n",
      "weighted avg       0.79      0.81      0.79      2110\n",
      "\n",
      "\n",
      "Confusion Matrix: \n",
      " [[1454  126]\n",
      " [ 283  247]]\n",
      "\n"
     ]
    }
   ],
   "source": [
    "print_score(voting_clf, X_test_sc_full, y_test)"
   ]
  },
  {
   "cell_type": "markdown",
   "metadata": {},
   "source": [
    "## Stacking Model"
   ]
  },
  {
   "cell_type": "code",
   "execution_count": 253,
   "metadata": {},
   "outputs": [],
   "source": [
    "X_train_all, X_test, y_train_all, y_test = train_test_split(X, y, test_size=0.3,random_state=rs)\n",
    "train_all = X_train_all\n",
    "train_all['churn_num'] = y_train_all"
   ]
  },
  {
   "cell_type": "code",
   "execution_count": 254,
   "metadata": {},
   "outputs": [],
   "source": [
    "X_train = train_all.drop(['churn_num'],axis=1)\n",
    "y_train = train_all['churn_num']"
   ]
  },
  {
   "cell_type": "code",
   "execution_count": 255,
   "metadata": {},
   "outputs": [],
   "source": [
    "X_train_1, X_train_2, y_train_1, y_train_2 = train_test_split(X_train, y_train, test_size=0.5,random_state=rs)"
   ]
  },
  {
   "cell_type": "code",
   "execution_count": 283,
   "metadata": {},
   "outputs": [],
   "source": [
    "clf1 = LogisticRegression(C=1.623776739188721, class_weight=None, dual=False,\n",
    "                    fit_intercept=True, intercept_scaling=1, l1_ratio=None,\n",
    "                    max_iter=100, multi_class='warn', n_jobs=None, penalty='l2',\n",
    "                    random_state=101, solver='liblinear', tol=0.0001, verbose=0,\n",
    "                    warm_start=False)\n",
    "# clf2 = RandomForestClassifier(random_state=rs)\n",
    "# clf3 = SVC(random_state=rs)\n",
    "# clf4 = KNeighborsClassifier(n_neighbors=5)\n",
    "clf3 = SVC(C= 10, gamma= 0.01, kernel= 'rbf',random_state=rs)\n",
    "clf4 = KNeighborsClassifier(algorithm= 'ball_tree', metric= 'minkowski', n_neighbors= 35)\n",
    "clf2 = ExtraTreesClassifier(bootstrap= True,\n",
    " criterion= 'gini',\n",
    " min_samples_leaf= 1,\n",
    " min_samples_split= 3,\n",
    " n_estimators= 150, random_state =rs)\n",
    "clf5 = XGBClassifier(base_score=0.5, booster='gbtree', colsample_bylevel=1,\n",
    "              colsample_bynode=1, colsample_bytree=1, gamma=0,\n",
    "              learning_rate=0.1, max_delta_step=0, max_depth=9,\n",
    "              min_child_weight=1, missing=None, n_estimators=200, n_jobs=1,\n",
    "              nthread=4, objective='binary:logistic', random_state=101,\n",
    "              reg_alpha=0, reg_lambda=1, scale_pos_weight=1, seed=101,\n",
    "              silent=None, subsample=1, verbosity=1)\n",
    "\n",
    "clf1.fit(X_train_1, y_train_1)\n",
    "clf2.fit(X_train_1, y_train_1)\n",
    "clf3.fit(X_train_1, y_train_1)\n",
    "clf4.fit(X_train_1, y_train_1)\n",
    "clf5.fit(X_train_1, y_train_1)\n",
    "\n",
    "y_pred_clf1 = clf1.predict(X_train_2)\n",
    "y_pred_clf2 = clf2.predict(X_train_2)\n",
    "y_pred_clf3 = clf3.predict(X_train_2)\n",
    "y_pred_clf4 = clf4.predict(X_train_2)ช\n",
    "y_pred_clf5 = clf4.predict(X_train_2)"
   ]
  },
  {
   "cell_type": "code",
   "execution_count": 284,
   "metadata": {},
   "outputs": [
    {
     "name": "stdout",
     "output_type": "stream",
     "text": [
      "   clf1  clf2  clf3  clf4  clf5\n",
      "0     0     0     0     0     0\n",
      "1     0     0     0     0     0\n",
      "2     0     0     0     0     0\n",
      "3     0     0     0     0     0\n",
      "4     0     0     0     0     0\n",
      "5     0     0     0     0     0\n",
      "6     0     0     0     0     0\n",
      "7     0     0     0     0     0\n",
      "8     1     1     1     1     1\n",
      "9     1     0     1     0     0\n",
      "   clf1  clf2  clf3  clf4  clf5\n",
      "0     0     0     0     0     0\n",
      "1     0     0     0     0     0\n",
      "2     0     0     0     0     0\n",
      "3     0     0     0     0     0\n",
      "4     0     0     0     0     0\n",
      "5     0     0     0     0     0\n",
      "6     0     0     0     0     0\n",
      "7     0     0     0     0     0\n",
      "8     1     1     1     1     1\n",
      "9     1     0     1     0     0\n"
     ]
    }
   ],
   "source": [
    "x_for_level_2 = pd.DataFrame(data={'clf1': y_pred_clf1, 'clf2': y_pred_clf2,'clf3': y_pred_clf3,'clf4': y_pred_clf4,'clf5': y_pred_clf5})\n",
    "print(x_for_level_2.head(10))\n",
    "x_for_level_2 = pd.get_dummies(x_for_level_2,drop_first = True)\n",
    "print(x_for_level_2.head(10))"
   ]
  },
  {
   "cell_type": "code",
   "execution_count": 285,
   "metadata": {
    "scrolled": true
   },
   "outputs": [
    {
     "data": {
      "text/plain": [
       "RandomForestClassifier(bootstrap=True, class_weight=None, criterion='gini',\n",
       "                       max_depth=None, max_features='auto', max_leaf_nodes=None,\n",
       "                       min_impurity_decrease=0.0, min_impurity_split=None,\n",
       "                       min_samples_leaf=1, min_samples_split=2,\n",
       "                       min_weight_fraction_leaf=0.0, n_estimators=10,\n",
       "                       n_jobs=None, oob_score=False, random_state=101,\n",
       "                       verbose=0, warm_start=False)"
      ]
     },
     "execution_count": 285,
     "metadata": {},
     "output_type": "execute_result"
    }
   ],
   "source": [
    "clf_blen = RandomForestClassifier(random_state=rs)\n",
    "clf_blen.fit(x_for_level_2, y_train_2)"
   ]
  },
  {
   "cell_type": "code",
   "execution_count": 286,
   "metadata": {},
   "outputs": [
    {
     "name": "stdout",
     "output_type": "stream",
     "text": [
      "Results:\n",
      "\n",
      "accuracy score: 0.8038\n",
      "\n",
      "Classification Report: \n",
      "               precision    recall  f1-score   support\n",
      "\n",
      "           0       0.86      0.88      0.87      1580\n",
      "           1       0.62      0.58      0.60       530\n",
      "\n",
      "    accuracy                           0.80      2110\n",
      "   macro avg       0.74      0.73      0.73      2110\n",
      "weighted avg       0.80      0.80      0.80      2110\n",
      "\n",
      "\n",
      "Confusion Matrix: \n",
      " [[1391  189]\n",
      " [ 225  305]]\n",
      "\n"
     ]
    }
   ],
   "source": [
    "y_pred_clf1 = clf1.predict(X_test)\n",
    "y_pred_clf2 = clf2.predict(X_test)\n",
    "y_pred_clf3 = clf3.predict(X_test)\n",
    "y_pred_clf4 = clf4.predict(X_test)\n",
    "y_pred_clf5 = clf5.predict(X_test)\n",
    "\n",
    "\n",
    "x_for_level_2_test = pd.DataFrame(data={'clf1': y_pred_clf1, 'clf2': y_pred_clf2,'clf3': \n",
    "                                        y_pred_clf3,'clf4': y_pred_clf4, 'clf5': y_pred_clf5})\n",
    "x_for_level_2_test = pd.get_dummies(x_for_level_2_test,drop_first = True)\n",
    "\n",
    "#print(x_for_level_2_test.head())\n",
    "y_pred = clf_blen.predict(x_for_level_2_test)\n",
    "\n",
    "print_score(clf_blen, x_for_level_2_test, y_test)"
   ]
  },
  {
   "cell_type": "markdown",
   "metadata": {},
   "source": [
    "# PCA with Stacking"
   ]
  },
  {
   "cell_type": "code",
   "execution_count": 287,
   "metadata": {},
   "outputs": [],
   "source": [
    "from sklearn.decomposition import PCA\n",
    "# Make an instance of the Model\n",
    "pca = PCA(.95)"
   ]
  },
  {
   "cell_type": "code",
   "execution_count": 288,
   "metadata": {},
   "outputs": [
    {
     "data": {
      "text/plain": [
       "PCA(copy=True, iterated_power='auto', n_components=0.95, random_state=None,\n",
       "    svd_solver='auto', tol=0.0, whiten=False)"
      ]
     },
     "execution_count": 288,
     "metadata": {},
     "output_type": "execute_result"
    }
   ],
   "source": [
    "X_train_all, X_test, y_train_all, y_test = train_test_split(X, y, test_size=0.3,random_state=rs)\n",
    "train_all = X_train_all\n",
    "train_all['churn_num'] = y_train_all\n",
    "\n",
    "X_train = train_all.drop(['churn_num'],axis=1)\n",
    "y_train = train_all['churn_num']\n",
    "\n",
    "\n",
    "pca.fit(X_train)"
   ]
  },
  {
   "cell_type": "code",
   "execution_count": 289,
   "metadata": {},
   "outputs": [],
   "source": [
    "X_train_1, X_train_2, y_train_1, y_train_2 = train_test_split(X_train, y_train, test_size=0.5,random_state=rs)"
   ]
  },
  {
   "cell_type": "code",
   "execution_count": 290,
   "metadata": {},
   "outputs": [],
   "source": [
    "clf1 = LogisticRegression(C=1.623776739188721, class_weight=None, dual=False,\n",
    "                    fit_intercept=True, intercept_scaling=1, l1_ratio=None,\n",
    "                    max_iter=100, multi_class='warn', n_jobs=None, penalty='l2',\n",
    "                    random_state=101, solver='liblinear', tol=0.0001, verbose=0,\n",
    "                    warm_start=False)\n",
    "# clf2 = RandomForestClassifier(random_state=rs)\n",
    "# clf3 = SVC(random_state=rs)\n",
    "# clf4 = KNeighborsClassifier(n_neighbors=5)\n",
    "clf3 = SVC(C= 10, gamma= 0.01, kernel= 'rbf',random_state=rs)\n",
    "clf4 = KNeighborsClassifier(algorithm= 'ball_tree', metric= 'minkowski', n_neighbors= 35)\n",
    "clf2 = ExtraTreesClassifier(bootstrap= True,\n",
    " criterion= 'gini',\n",
    " min_samples_leaf= 1,\n",
    " min_samples_split= 3,\n",
    " n_estimators= 150, random_state =rs)\n",
    "clf5 = XGBClassifier(base_score=0.5, booster='gbtree', colsample_bylevel=1,\n",
    "              colsample_bynode=1, colsample_bytree=1, gamma=0,\n",
    "              learning_rate=0.1, max_delta_step=0, max_depth=9,\n",
    "              min_child_weight=1, missing=None, n_estimators=200, n_jobs=1,\n",
    "              nthread=4, objective='binary:logistic', random_state=101,\n",
    "              reg_alpha=0, reg_lambda=1, scale_pos_weight=1, seed=101,\n",
    "              silent=None, subsample=1, verbosity=1)\n",
    "\n",
    "clf1.fit(X_train_1, y_train_1)\n",
    "clf2.fit(X_train_1, y_train_1)\n",
    "clf3.fit(X_train_1, y_train_1)\n",
    "clf4.fit(X_train_1, y_train_1)\n",
    "clf5.fit(X_train_1, y_train_1)\n",
    "\n",
    "y_pred_clf1 = clf1.predict(X_train_2)\n",
    "y_pred_clf2 = clf2.predict(X_train_2)\n",
    "y_pred_clf3 = clf3.predict(X_train_2)\n",
    "y_pred_clf4 = clf4.predict(X_train_2)\n",
    "y_pred_clf5 = clf4.predict(X_train_2)"
   ]
  },
  {
   "cell_type": "code",
   "execution_count": 291,
   "metadata": {},
   "outputs": [
    {
     "name": "stdout",
     "output_type": "stream",
     "text": [
      "   clf1  clf2  clf3  clf4  clf5\n",
      "0     0     0     0     0     0\n",
      "1     0     0     0     0     0\n",
      "2     0     0     0     0     0\n",
      "3     0     0     0     0     0\n",
      "4     0     0     0     0     0\n",
      "5     0     0     0     0     0\n",
      "6     0     0     0     0     0\n",
      "7     0     0     0     0     0\n",
      "8     1     1     1     1     1\n",
      "9     1     0     1     0     0\n",
      "   clf1  clf2  clf3  clf4  clf5\n",
      "0     0     0     0     0     0\n",
      "1     0     0     0     0     0\n",
      "2     0     0     0     0     0\n",
      "3     0     0     0     0     0\n",
      "4     0     0     0     0     0\n",
      "5     0     0     0     0     0\n",
      "6     0     0     0     0     0\n",
      "7     0     0     0     0     0\n",
      "8     1     1     1     1     1\n",
      "9     1     0     1     0     0\n"
     ]
    }
   ],
   "source": [
    "x_for_level_2 = pd.DataFrame(data={'clf1': y_pred_clf1, 'clf2': y_pred_clf2,'clf3': y_pred_clf3,'clf4': y_pred_clf4,'clf5': y_pred_clf5})\n",
    "print(x_for_level_2.head(10))\n",
    "x_for_level_2 = pd.get_dummies(x_for_level_2,drop_first = True)\n",
    "print(x_for_level_2.head(10))"
   ]
  },
  {
   "cell_type": "code",
   "execution_count": 267,
   "metadata": {},
   "outputs": [
    {
     "data": {
      "text/plain": [
       "RandomForestClassifier(bootstrap=True, class_weight=None, criterion='gini',\n",
       "                       max_depth=None, max_features='auto', max_leaf_nodes=None,\n",
       "                       min_impurity_decrease=0.0, min_impurity_split=None,\n",
       "                       min_samples_leaf=1, min_samples_split=2,\n",
       "                       min_weight_fraction_leaf=0.0, n_estimators=10,\n",
       "                       n_jobs=None, oob_score=False, random_state=101,\n",
       "                       verbose=0, warm_start=False)"
      ]
     },
     "execution_count": 267,
     "metadata": {},
     "output_type": "execute_result"
    }
   ],
   "source": [
    "clf_blen = RandomForestClassifier(random_state=rs)\n",
    "clf_blen.fit(x_for_level_2, y_train_2)"
   ]
  },
  {
   "cell_type": "code",
   "execution_count": 292,
   "metadata": {},
   "outputs": [
    {
     "name": "stdout",
     "output_type": "stream",
     "text": [
      "Results:\n",
      "\n",
      "accuracy score: 0.8038\n",
      "\n",
      "Classification Report: \n",
      "               precision    recall  f1-score   support\n",
      "\n",
      "           0       0.86      0.88      0.87      1580\n",
      "           1       0.62      0.58      0.60       530\n",
      "\n",
      "    accuracy                           0.80      2110\n",
      "   macro avg       0.74      0.73      0.73      2110\n",
      "weighted avg       0.80      0.80      0.80      2110\n",
      "\n",
      "\n",
      "Confusion Matrix: \n",
      " [[1391  189]\n",
      " [ 225  305]]\n",
      "\n"
     ]
    }
   ],
   "source": [
    "y_pred_clf1 = clf1.predict(X_test)\n",
    "y_pred_clf2 = clf2.predict(X_test)\n",
    "y_pred_clf3 = clf3.predict(X_test)\n",
    "y_pred_clf4 = clf4.predict(X_test)\n",
    "y_pred_clf5 = clf5.predict(X_test)\n",
    "\n",
    "\n",
    "x_for_level_2_test = pd.DataFrame(data={'clf1': y_pred_clf1, 'clf2': y_pred_clf2,'clf3': y_pred_clf3,'clf4': y_pred_clf4, 'clf5': y_pred_clf5})\n",
    "x_for_level_2_test = pd.get_dummies(x_for_level_2_test,drop_first = True)\n",
    "\n",
    "#print(x_for_level_2_test.head())\n",
    "y_pred = clf_blen.predict(x_for_level_2_test)\n",
    "\n",
    "print_score(clf_blen, x_for_level_2_test, y_test)"
   ]
  },
  {
   "cell_type": "markdown",
   "metadata": {},
   "source": [
    "# K-Mean"
   ]
  },
  {
   "cell_type": "code",
   "execution_count": 104,
   "metadata": {},
   "outputs": [],
   "source": [
    "X_train_sc_full = X_train1.merge(X_train2_sc, left_index = True, right_index = True)\n",
    "X_train_sc_full.reset_index(drop = True, inplace = True)\n",
    "X_test_sc_full = X_test1.merge(X_test2_sc, left_index = True, right_index = True)\n",
    "X_test_sc_full.reset_index(drop = True, inplace = True)\n",
    "X_train_sc_full.columns = X_test_sc_full.columns.str.replace('$','')\n",
    "\n",
    "X_all_sc_full = X_train_sc_full.append(X_test_sc_full, ignore_index = True)"
   ]
  },
  {
   "cell_type": "code",
   "execution_count": 105,
   "metadata": {
    "scrolled": true
   },
   "outputs": [
    {
     "data": {
      "text/plain": [
       "Index(['SeniorCitizen', 'gender_num', 'partner_num', 'dependents_num',\n",
       "       'phone_service_num', 'multipleLines_num', 'InternetService_num',\n",
       "       'Security_num', 'OnlineBackup_num', 'DeviceProtection_num',\n",
       "       'TechSupport_num', 'StreamingTV_num', 'StreamingMovie_num',\n",
       "       'Contract_num', 'PaperlessBill_num', 'PaymentMethod_num', 'tenure',\n",
       "       'MonthlyCharges', 'TotalCharges'],\n",
       "      dtype='object')"
      ]
     },
     "execution_count": 105,
     "metadata": {},
     "output_type": "execute_result"
    }
   ],
   "source": [
    "X_train_sc_full.columns"
   ]
  },
  {
   "cell_type": "code",
   "execution_count": 106,
   "metadata": {
    "scrolled": true
   },
   "outputs": [
    {
     "data": {
      "text/html": [
       "<div>\n",
       "<style scoped>\n",
       "    .dataframe tbody tr th:only-of-type {\n",
       "        vertical-align: middle;\n",
       "    }\n",
       "\n",
       "    .dataframe tbody tr th {\n",
       "        vertical-align: top;\n",
       "    }\n",
       "\n",
       "    .dataframe thead th {\n",
       "        text-align: right;\n",
       "    }\n",
       "</style>\n",
       "<table border=\"1\" class=\"dataframe\">\n",
       "  <thead>\n",
       "    <tr style=\"text-align: right;\">\n",
       "      <th></th>\n",
       "      <th>SeniorCitizen</th>\n",
       "      <th>gender_num</th>\n",
       "      <th>partner_num</th>\n",
       "      <th>dependents_num</th>\n",
       "      <th>phone_service_num</th>\n",
       "      <th>multipleLines_num</th>\n",
       "      <th>InternetService_num</th>\n",
       "      <th>Security_num</th>\n",
       "      <th>OnlineBackup_num</th>\n",
       "      <th>DeviceProtection_num</th>\n",
       "      <th>TechSupport_num</th>\n",
       "      <th>StreamingTV_num</th>\n",
       "      <th>StreamingMovie_num</th>\n",
       "      <th>Contract_num</th>\n",
       "      <th>PaperlessBill_num</th>\n",
       "      <th>PaymentMethod_num</th>\n",
       "      <th>tenure</th>\n",
       "      <th>MonthlyCharges</th>\n",
       "      <th>TotalCharges</th>\n",
       "    </tr>\n",
       "  </thead>\n",
       "  <tbody>\n",
       "    <tr>\n",
       "      <th>0</th>\n",
       "      <td>0</td>\n",
       "      <td>0</td>\n",
       "      <td>0</td>\n",
       "      <td>0</td>\n",
       "      <td>1</td>\n",
       "      <td>1</td>\n",
       "      <td>1</td>\n",
       "      <td>1</td>\n",
       "      <td>1</td>\n",
       "      <td>0</td>\n",
       "      <td>1</td>\n",
       "      <td>1</td>\n",
       "      <td>1</td>\n",
       "      <td>2</td>\n",
       "      <td>1</td>\n",
       "      <td>0</td>\n",
       "      <td>0.723700</td>\n",
       "      <td>1.483236</td>\n",
       "      <td>1.441721</td>\n",
       "    </tr>\n",
       "    <tr>\n",
       "      <th>1</th>\n",
       "      <td>0</td>\n",
       "      <td>0</td>\n",
       "      <td>0</td>\n",
       "      <td>0</td>\n",
       "      <td>1</td>\n",
       "      <td>0</td>\n",
       "      <td>1</td>\n",
       "      <td>1</td>\n",
       "      <td>0</td>\n",
       "      <td>0</td>\n",
       "      <td>1</td>\n",
       "      <td>1</td>\n",
       "      <td>1</td>\n",
       "      <td>0</td>\n",
       "      <td>1</td>\n",
       "      <td>2</td>\n",
       "      <td>-0.829194</td>\n",
       "      <td>1.126921</td>\n",
       "      <td>-0.508566</td>\n",
       "    </tr>\n",
       "    <tr>\n",
       "      <th>2</th>\n",
       "      <td>1</td>\n",
       "      <td>0</td>\n",
       "      <td>1</td>\n",
       "      <td>0</td>\n",
       "      <td>1</td>\n",
       "      <td>1</td>\n",
       "      <td>1</td>\n",
       "      <td>0</td>\n",
       "      <td>1</td>\n",
       "      <td>1</td>\n",
       "      <td>0</td>\n",
       "      <td>1</td>\n",
       "      <td>1</td>\n",
       "      <td>1</td>\n",
       "      <td>1</td>\n",
       "      <td>0</td>\n",
       "      <td>0.805431</td>\n",
       "      <td>1.378827</td>\n",
       "      <td>1.472845</td>\n",
       "    </tr>\n",
       "    <tr>\n",
       "      <th>3</th>\n",
       "      <td>0</td>\n",
       "      <td>1</td>\n",
       "      <td>0</td>\n",
       "      <td>0</td>\n",
       "      <td>1</td>\n",
       "      <td>0</td>\n",
       "      <td>2</td>\n",
       "      <td>2</td>\n",
       "      <td>2</td>\n",
       "      <td>2</td>\n",
       "      <td>2</td>\n",
       "      <td>2</td>\n",
       "      <td>2</td>\n",
       "      <td>1</td>\n",
       "      <td>1</td>\n",
       "      <td>0</td>\n",
       "      <td>-0.951790</td>\n",
       "      <td>-1.491582</td>\n",
       "      <td>-0.929575</td>\n",
       "    </tr>\n",
       "    <tr>\n",
       "      <th>4</th>\n",
       "      <td>0</td>\n",
       "      <td>0</td>\n",
       "      <td>1</td>\n",
       "      <td>1</td>\n",
       "      <td>1</td>\n",
       "      <td>1</td>\n",
       "      <td>1</td>\n",
       "      <td>1</td>\n",
       "      <td>0</td>\n",
       "      <td>0</td>\n",
       "      <td>0</td>\n",
       "      <td>1</td>\n",
       "      <td>1</td>\n",
       "      <td>2</td>\n",
       "      <td>1</td>\n",
       "      <td>2</td>\n",
       "      <td>1.214088</td>\n",
       "      <td>1.201498</td>\n",
       "      <td>1.920335</td>\n",
       "    </tr>\n",
       "  </tbody>\n",
       "</table>\n",
       "</div>"
      ],
      "text/plain": [
       "  SeniorCitizen  gender_num  partner_num  dependents_num  phone_service_num  \\\n",
       "0             0           0            0               0                  1   \n",
       "1             0           0            0               0                  1   \n",
       "2             1           0            1               0                  1   \n",
       "3             0           1            0               0                  1   \n",
       "4             0           0            1               1                  1   \n",
       "\n",
       "   multipleLines_num  InternetService_num  Security_num  OnlineBackup_num  \\\n",
       "0                  1                    1             1                 1   \n",
       "1                  0                    1             1                 0   \n",
       "2                  1                    1             0                 1   \n",
       "3                  0                    2             2                 2   \n",
       "4                  1                    1             1                 0   \n",
       "\n",
       "   DeviceProtection_num  TechSupport_num  StreamingTV_num  StreamingMovie_num  \\\n",
       "0                     0                1                1                   1   \n",
       "1                     0                1                1                   1   \n",
       "2                     1                0                1                   1   \n",
       "3                     2                2                2                   2   \n",
       "4                     0                0                1                   1   \n",
       "\n",
       "   Contract_num  PaperlessBill_num  PaymentMethod_num    tenure  \\\n",
       "0             2                  1                  0  0.723700   \n",
       "1             0                  1                  2 -0.829194   \n",
       "2             1                  1                  0  0.805431   \n",
       "3             1                  1                  0 -0.951790   \n",
       "4             2                  1                  2  1.214088   \n",
       "\n",
       "   MonthlyCharges  TotalCharges  \n",
       "0        1.483236      1.441721  \n",
       "1        1.126921     -0.508566  \n",
       "2        1.378827      1.472845  \n",
       "3       -1.491582     -0.929575  \n",
       "4        1.201498      1.920335  "
      ]
     },
     "execution_count": 106,
     "metadata": {},
     "output_type": "execute_result"
    }
   ],
   "source": [
    "X_all_sc_full.head()"
   ]
  },
  {
   "cell_type": "code",
   "execution_count": 107,
   "metadata": {
    "scrolled": true
   },
   "outputs": [
    {
     "name": "stdout",
     "output_type": "stream",
     "text": [
      "<class 'pandas.core.frame.DataFrame'>\n",
      "RangeIndex: 7032 entries, 0 to 7031\n",
      "Data columns (total 19 columns):\n",
      "SeniorCitizen           7032 non-null object\n",
      "gender_num              7032 non-null int64\n",
      "partner_num             7032 non-null int64\n",
      "dependents_num          7032 non-null int64\n",
      "phone_service_num       7032 non-null int64\n",
      "multipleLines_num       7032 non-null int64\n",
      "InternetService_num     7032 non-null int64\n",
      "Security_num            7032 non-null int64\n",
      "OnlineBackup_num        7032 non-null int64\n",
      "DeviceProtection_num    7032 non-null int64\n",
      "TechSupport_num         7032 non-null int64\n",
      "StreamingTV_num         7032 non-null int64\n",
      "StreamingMovie_num      7032 non-null int64\n",
      "Contract_num            7032 non-null int64\n",
      "PaperlessBill_num       7032 non-null int64\n",
      "PaymentMethod_num       7032 non-null int64\n",
      "tenure                  7032 non-null float64\n",
      "MonthlyCharges          7032 non-null float64\n",
      "TotalCharges            7032 non-null float64\n",
      "dtypes: float64(3), int64(15), object(1)\n",
      "memory usage: 1.0+ MB\n"
     ]
    }
   ],
   "source": [
    "X_all_sc_full.info()"
   ]
  },
  {
   "cell_type": "code",
   "execution_count": 108,
   "metadata": {},
   "outputs": [
    {
     "name": "stdout",
     "output_type": "stream",
     "text": [
      "0    1\n",
      "1    1\n",
      "2    0\n",
      "3    0\n",
      "4    0\n",
      "dtype: int64\n"
     ]
    }
   ],
   "source": [
    "y_all = y_train.append(y_test, ignore_index = True)\n",
    "print(y_all.head())"
   ]
  },
  {
   "cell_type": "code",
   "execution_count": 109,
   "metadata": {
    "scrolled": true
   },
   "outputs": [
    {
     "data": {
      "text/plain": [
       "0    5163\n",
       "1    1869\n",
       "dtype: int64"
      ]
     },
     "execution_count": 109,
     "metadata": {},
     "output_type": "execute_result"
    }
   ],
   "source": [
    "y_all.value_counts()"
   ]
  },
  {
   "cell_type": "code",
   "execution_count": 110,
   "metadata": {},
   "outputs": [
    {
     "name": "stdout",
     "output_type": "stream",
     "text": [
      "7032\n"
     ]
    }
   ],
   "source": [
    "print(len(y_all))"
   ]
  },
  {
   "cell_type": "code",
   "execution_count": 111,
   "metadata": {},
   "outputs": [],
   "source": [
    "col = ['Churn_num']\n",
    "y_pd = pd.DataFrame(y_all, columns = col)\n",
    "y_pd.reset_index(drop = True, inplace = True)"
   ]
  },
  {
   "cell_type": "code",
   "execution_count": 112,
   "metadata": {},
   "outputs": [
    {
     "data": {
      "text/html": [
       "<div>\n",
       "<style scoped>\n",
       "    .dataframe tbody tr th:only-of-type {\n",
       "        vertical-align: middle;\n",
       "    }\n",
       "\n",
       "    .dataframe tbody tr th {\n",
       "        vertical-align: top;\n",
       "    }\n",
       "\n",
       "    .dataframe thead th {\n",
       "        text-align: right;\n",
       "    }\n",
       "</style>\n",
       "<table border=\"1\" class=\"dataframe\">\n",
       "  <thead>\n",
       "    <tr style=\"text-align: right;\">\n",
       "      <th></th>\n",
       "      <th>Churn_num</th>\n",
       "    </tr>\n",
       "  </thead>\n",
       "  <tbody>\n",
       "    <tr>\n",
       "      <th>0</th>\n",
       "      <td>1</td>\n",
       "    </tr>\n",
       "    <tr>\n",
       "      <th>1</th>\n",
       "      <td>1</td>\n",
       "    </tr>\n",
       "    <tr>\n",
       "      <th>2</th>\n",
       "      <td>0</td>\n",
       "    </tr>\n",
       "    <tr>\n",
       "      <th>3</th>\n",
       "      <td>0</td>\n",
       "    </tr>\n",
       "    <tr>\n",
       "      <th>4</th>\n",
       "      <td>0</td>\n",
       "    </tr>\n",
       "  </tbody>\n",
       "</table>\n",
       "</div>"
      ],
      "text/plain": [
       "   Churn_num\n",
       "0          1\n",
       "1          1\n",
       "2          0\n",
       "3          0\n",
       "4          0"
      ]
     },
     "execution_count": 112,
     "metadata": {},
     "output_type": "execute_result"
    }
   ],
   "source": [
    "y_pd.head()"
   ]
  },
  {
   "cell_type": "code",
   "execution_count": 113,
   "metadata": {},
   "outputs": [],
   "source": [
    "data_all = X_all_sc_full.merge(y_pd, left_index = True, right_index = True)"
   ]
  },
  {
   "cell_type": "code",
   "execution_count": 114,
   "metadata": {
    "scrolled": true
   },
   "outputs": [
    {
     "name": "stdout",
     "output_type": "stream",
     "text": [
      "<class 'pandas.core.frame.DataFrame'>\n",
      "RangeIndex: 7032 entries, 0 to 7031\n",
      "Data columns (total 20 columns):\n",
      "SeniorCitizen           7032 non-null object\n",
      "gender_num              7032 non-null int64\n",
      "partner_num             7032 non-null int64\n",
      "dependents_num          7032 non-null int64\n",
      "phone_service_num       7032 non-null int64\n",
      "multipleLines_num       7032 non-null int64\n",
      "InternetService_num     7032 non-null int64\n",
      "Security_num            7032 non-null int64\n",
      "OnlineBackup_num        7032 non-null int64\n",
      "DeviceProtection_num    7032 non-null int64\n",
      "TechSupport_num         7032 non-null int64\n",
      "StreamingTV_num         7032 non-null int64\n",
      "StreamingMovie_num      7032 non-null int64\n",
      "Contract_num            7032 non-null int64\n",
      "PaperlessBill_num       7032 non-null int64\n",
      "PaymentMethod_num       7032 non-null int64\n",
      "tenure                  7032 non-null float64\n",
      "MonthlyCharges          7032 non-null float64\n",
      "TotalCharges            7032 non-null float64\n",
      "Churn_num               7032 non-null int64\n",
      "dtypes: float64(3), int64(16), object(1)\n",
      "memory usage: 1.1+ MB\n"
     ]
    }
   ],
   "source": [
    "data_all.info()"
   ]
  },
  {
   "cell_type": "code",
   "execution_count": 115,
   "metadata": {
    "scrolled": true
   },
   "outputs": [
    {
     "data": {
      "text/html": [
       "<div>\n",
       "<style scoped>\n",
       "    .dataframe tbody tr th:only-of-type {\n",
       "        vertical-align: middle;\n",
       "    }\n",
       "\n",
       "    .dataframe tbody tr th {\n",
       "        vertical-align: top;\n",
       "    }\n",
       "\n",
       "    .dataframe thead th {\n",
       "        text-align: right;\n",
       "    }\n",
       "</style>\n",
       "<table border=\"1\" class=\"dataframe\">\n",
       "  <thead>\n",
       "    <tr style=\"text-align: right;\">\n",
       "      <th></th>\n",
       "      <th>SeniorCitizen</th>\n",
       "      <th>gender_num</th>\n",
       "      <th>partner_num</th>\n",
       "      <th>dependents_num</th>\n",
       "      <th>phone_service_num</th>\n",
       "      <th>multipleLines_num</th>\n",
       "      <th>InternetService_num</th>\n",
       "      <th>Security_num</th>\n",
       "      <th>OnlineBackup_num</th>\n",
       "      <th>DeviceProtection_num</th>\n",
       "      <th>TechSupport_num</th>\n",
       "      <th>StreamingTV_num</th>\n",
       "      <th>StreamingMovie_num</th>\n",
       "      <th>Contract_num</th>\n",
       "      <th>PaperlessBill_num</th>\n",
       "      <th>PaymentMethod_num</th>\n",
       "      <th>tenure</th>\n",
       "      <th>MonthlyCharges</th>\n",
       "      <th>TotalCharges</th>\n",
       "      <th>Churn_num</th>\n",
       "    </tr>\n",
       "  </thead>\n",
       "  <tbody>\n",
       "    <tr>\n",
       "      <th>0</th>\n",
       "      <td>0</td>\n",
       "      <td>0</td>\n",
       "      <td>0</td>\n",
       "      <td>0</td>\n",
       "      <td>1</td>\n",
       "      <td>1</td>\n",
       "      <td>1</td>\n",
       "      <td>1</td>\n",
       "      <td>1</td>\n",
       "      <td>0</td>\n",
       "      <td>1</td>\n",
       "      <td>1</td>\n",
       "      <td>1</td>\n",
       "      <td>2</td>\n",
       "      <td>1</td>\n",
       "      <td>0</td>\n",
       "      <td>0.723700</td>\n",
       "      <td>1.483236</td>\n",
       "      <td>1.441721</td>\n",
       "      <td>1</td>\n",
       "    </tr>\n",
       "    <tr>\n",
       "      <th>1</th>\n",
       "      <td>0</td>\n",
       "      <td>0</td>\n",
       "      <td>0</td>\n",
       "      <td>0</td>\n",
       "      <td>1</td>\n",
       "      <td>0</td>\n",
       "      <td>1</td>\n",
       "      <td>1</td>\n",
       "      <td>0</td>\n",
       "      <td>0</td>\n",
       "      <td>1</td>\n",
       "      <td>1</td>\n",
       "      <td>1</td>\n",
       "      <td>0</td>\n",
       "      <td>1</td>\n",
       "      <td>2</td>\n",
       "      <td>-0.829194</td>\n",
       "      <td>1.126921</td>\n",
       "      <td>-0.508566</td>\n",
       "      <td>1</td>\n",
       "    </tr>\n",
       "    <tr>\n",
       "      <th>2</th>\n",
       "      <td>1</td>\n",
       "      <td>0</td>\n",
       "      <td>1</td>\n",
       "      <td>0</td>\n",
       "      <td>1</td>\n",
       "      <td>1</td>\n",
       "      <td>1</td>\n",
       "      <td>0</td>\n",
       "      <td>1</td>\n",
       "      <td>1</td>\n",
       "      <td>0</td>\n",
       "      <td>1</td>\n",
       "      <td>1</td>\n",
       "      <td>1</td>\n",
       "      <td>1</td>\n",
       "      <td>0</td>\n",
       "      <td>0.805431</td>\n",
       "      <td>1.378827</td>\n",
       "      <td>1.472845</td>\n",
       "      <td>0</td>\n",
       "    </tr>\n",
       "    <tr>\n",
       "      <th>3</th>\n",
       "      <td>0</td>\n",
       "      <td>1</td>\n",
       "      <td>0</td>\n",
       "      <td>0</td>\n",
       "      <td>1</td>\n",
       "      <td>0</td>\n",
       "      <td>2</td>\n",
       "      <td>2</td>\n",
       "      <td>2</td>\n",
       "      <td>2</td>\n",
       "      <td>2</td>\n",
       "      <td>2</td>\n",
       "      <td>2</td>\n",
       "      <td>1</td>\n",
       "      <td>1</td>\n",
       "      <td>0</td>\n",
       "      <td>-0.951790</td>\n",
       "      <td>-1.491582</td>\n",
       "      <td>-0.929575</td>\n",
       "      <td>0</td>\n",
       "    </tr>\n",
       "    <tr>\n",
       "      <th>4</th>\n",
       "      <td>0</td>\n",
       "      <td>0</td>\n",
       "      <td>1</td>\n",
       "      <td>1</td>\n",
       "      <td>1</td>\n",
       "      <td>1</td>\n",
       "      <td>1</td>\n",
       "      <td>1</td>\n",
       "      <td>0</td>\n",
       "      <td>0</td>\n",
       "      <td>0</td>\n",
       "      <td>1</td>\n",
       "      <td>1</td>\n",
       "      <td>2</td>\n",
       "      <td>1</td>\n",
       "      <td>2</td>\n",
       "      <td>1.214088</td>\n",
       "      <td>1.201498</td>\n",
       "      <td>1.920335</td>\n",
       "      <td>0</td>\n",
       "    </tr>\n",
       "  </tbody>\n",
       "</table>\n",
       "</div>"
      ],
      "text/plain": [
       "  SeniorCitizen  gender_num  partner_num  dependents_num  phone_service_num  \\\n",
       "0             0           0            0               0                  1   \n",
       "1             0           0            0               0                  1   \n",
       "2             1           0            1               0                  1   \n",
       "3             0           1            0               0                  1   \n",
       "4             0           0            1               1                  1   \n",
       "\n",
       "   multipleLines_num  InternetService_num  Security_num  OnlineBackup_num  \\\n",
       "0                  1                    1             1                 1   \n",
       "1                  0                    1             1                 0   \n",
       "2                  1                    1             0                 1   \n",
       "3                  0                    2             2                 2   \n",
       "4                  1                    1             1                 0   \n",
       "\n",
       "   DeviceProtection_num  TechSupport_num  StreamingTV_num  StreamingMovie_num  \\\n",
       "0                     0                1                1                   1   \n",
       "1                     0                1                1                   1   \n",
       "2                     1                0                1                   1   \n",
       "3                     2                2                2                   2   \n",
       "4                     0                0                1                   1   \n",
       "\n",
       "   Contract_num  PaperlessBill_num  PaymentMethod_num    tenure  \\\n",
       "0             2                  1                  0  0.723700   \n",
       "1             0                  1                  2 -0.829194   \n",
       "2             1                  1                  0  0.805431   \n",
       "3             1                  1                  0 -0.951790   \n",
       "4             2                  1                  2  1.214088   \n",
       "\n",
       "   MonthlyCharges  TotalCharges  Churn_num  \n",
       "0        1.483236      1.441721          1  \n",
       "1        1.126921     -0.508566          1  \n",
       "2        1.378827      1.472845          0  \n",
       "3       -1.491582     -0.929575          0  \n",
       "4        1.201498      1.920335          0  "
      ]
     },
     "execution_count": 115,
     "metadata": {},
     "output_type": "execute_result"
    }
   ],
   "source": [
    "data_all.head()"
   ]
  },
  {
   "cell_type": "code",
   "execution_count": 116,
   "metadata": {},
   "outputs": [],
   "source": [
    "from sklearn.cluster import KMeans\n",
    "score = []\n",
    "n_list = list(range(2,40))\n",
    "\n",
    "for n in n_list:\n",
    "    kmeans = KMeans(n_clusters=n, random_state=42)\n",
    "    kmeans.fit(X_all_sc_full)\n",
    "    score.append(kmeans.inertia_)"
   ]
  },
  {
   "cell_type": "code",
   "execution_count": 117,
   "metadata": {
    "scrolled": true
   },
   "outputs": [
    {
     "data": {
      "text/plain": [
       "Text(0, 0.5, 'Error')"
      ]
     },
     "execution_count": 117,
     "metadata": {},
     "output_type": "execute_result"
    },
    {
     "data": {
      "image/png": "[encoded data removed]",
      "text/plain": [
       "<Figure size 720x432 with 1 Axes>"
      ]
     },
     "metadata": {
      "needs_background": "light"
     },
     "output_type": "display_data"
    }
   ],
   "source": [
    "plt.figure(figsize=(10,6))\n",
    "plt.plot(n_list,score)\n",
    "plt.title('The Elbow Method')\n",
    "plt.xlabel('Number of Cluster')\n",
    "plt.ylabel('Error')"
   ]
  },
  {
   "cell_type": "code",
   "execution_count": 118,
   "metadata": {},
   "outputs": [
    {
     "data": {
      "text/plain": [
       "KMeans(algorithm='auto', copy_x=True, init='k-means++', max_iter=300,\n",
       "       n_clusters=7, n_init=10, n_jobs=None, precompute_distances='auto',\n",
       "       random_state=42, tol=0.0001, verbose=0)"
      ]
     },
     "execution_count": 118,
     "metadata": {},
     "output_type": "execute_result"
    }
   ],
   "source": [
    "kmeans = KMeans(n_clusters=7, random_state=42)\n",
    "kmeans.fit(X_all_sc_full)"
   ]
  },
  {
   "cell_type": "code",
   "execution_count": 119,
   "metadata": {},
   "outputs": [
    {
     "data": {
      "text/plain": [
       "array([[ 2.77051130e-01,  5.23186683e-01,  6.46848989e-01,\n",
       "         2.75862069e-01,  9.79785969e-01,  7.75267539e-01,\n",
       "         8.02615933e-01,  3.86444709e-01,  6.06420927e-01,\n",
       "         6.29013080e-01,  4.13793103e-01,  7.56242568e-01,\n",
       "         7.47919144e-01,  7.33650416e-01,  7.58620690e-01,\n",
       "         1.30796671e-01,  7.64711519e-01,  9.46712522e-01,\n",
       "         1.09602075e+00],\n",
       "       [ 1.73359452e-01,  4.93633692e-01,  4.24094025e-01,\n",
       "         2.59549461e-01,  1.00000000e+00,  4.35847209e-01,\n",
       "         5.52399608e-01,  3.13418217e-01,  3.56513222e-01,\n",
       "         3.50636631e-01,  3.13418217e-01,  3.55533790e-01,\n",
       "         3.58472086e-01,  2.58570029e-01,  6.59157689e-01,\n",
       "         2.42213516e+00, -3.49732918e-01,  3.26954173e-01,\n",
       "        -2.17348378e-01],\n",
       "       [ 2.64817150e-02,  5.15762926e-01,  3.20302648e-01,\n",
       "         3.20302648e-01,  1.00000000e+00,  8.95334174e-02,\n",
       "         2.00000000e+00,  2.00000000e+00,  2.00000000e+00,\n",
       "         2.00000000e+00,  2.00000000e+00,  2.00000000e+00,\n",
       "         2.00000000e+00,  4.11097100e-01,  2.91298865e-01,\n",
       "         1.22572509e+00, -8.46147876e-01, -1.47471675e+00,\n",
       "        -8.97244638e-01],\n",
       "       [ 2.05602241e-01,  5.01960784e-01,  2.87955182e-01,\n",
       "         1.72549020e-01,  1.00000000e+00,  3.70868347e-01,\n",
       "         6.50980392e-01,  1.83753501e-01,  2.28011204e-01,\n",
       "         2.07282913e-01,  1.70308123e-01,  3.29971989e-01,\n",
       "         3.28291317e-01,  5.93837535e-02,  7.01960784e-01,\n",
       "         2.70588235e-01, -8.84230489e-01,  2.89744313e-01,\n",
       "        -6.50417342e-01],\n",
       "       [ 4.26409904e-02,  5.02063274e-01,  6.58872077e-01,\n",
       "         5.26822558e-01,  1.00000000e+00,  3.70013755e-01,\n",
       "         2.00000000e+00,  2.00000000e+00,  2.00000000e+00,\n",
       "         2.00000000e+00,  2.00000000e+00,  2.00000000e+00,\n",
       "         2.00000000e+00,  1.79229711e+00,  2.94360385e-01,\n",
       "         1.95323246e+00,  7.84295913e-01, -1.42846187e+00,\n",
       "        -5.04062008e-01],\n",
       "       [ 1.71850700e-01,  4.93779160e-01,  7.32503888e-01,\n",
       "         3.88024883e-01,  9.24572317e-01,  8.42146190e-01,\n",
       "         5.40435459e-01,  6.46189736e-01,  7.28615863e-01,\n",
       "         7.40279938e-01,  6.71850700e-01,  7.16951788e-01,\n",
       "         7.37169518e-01,  1.52721617e+00,  6.46967341e-01,\n",
       "         2.42301711e+00,  1.24516580e+00,  7.96476158e-01,\n",
       "         1.45353327e+00],\n",
       "       [ 1.58894646e-01,  5.18134715e-01,  3.92055268e-01,\n",
       "         2.72884283e-01,  2.24525043e-02,  1.97754750e+00,\n",
       "         5.55111512e-16,  3.64421416e-01,  3.57512953e-01,\n",
       "         3.60967185e-01,  3.52331606e-01,  3.33333333e-01,\n",
       "         3.48877375e-01,  4.52504318e-01,  5.64766839e-01,\n",
       "         1.16925734e+00, -2.94482041e-01, -8.41902540e-01,\n",
       "        -5.32136156e-01]])"
      ]
     },
     "execution_count": 119,
     "metadata": {},
     "output_type": "execute_result"
    }
   ],
   "source": [
    "kmeans.cluster_centers_"
   ]
  },
  {
   "cell_type": "code",
   "execution_count": 120,
   "metadata": {},
   "outputs": [
    {
     "data": {
      "text/plain": [
       "array([0, 1, 0, ..., 2, 4, 3], dtype=int32)"
      ]
     },
     "execution_count": 120,
     "metadata": {},
     "output_type": "execute_result"
    }
   ],
   "source": [
    "kmeans.labels_"
   ]
  },
  {
   "cell_type": "code",
   "execution_count": 121,
   "metadata": {},
   "outputs": [
    {
     "data": {
      "text/plain": [
       "26732.76833165368"
      ]
     },
     "execution_count": 121,
     "metadata": {},
     "output_type": "execute_result"
    }
   ],
   "source": [
    "kmeans.inertia_"
   ]
  },
  {
   "cell_type": "code",
   "execution_count": 122,
   "metadata": {},
   "outputs": [],
   "source": [
    "data_result = data_all.copy()\n",
    "data_result['cluster'] = kmeans.labels_"
   ]
  },
  {
   "cell_type": "code",
   "execution_count": 123,
   "metadata": {},
   "outputs": [
    {
     "data": {
      "text/plain": [
       "Index(['SeniorCitizen', 'gender_num', 'partner_num', 'dependents_num',\n",
       "       'phone_service_num', 'multipleLines_num', 'InternetService_num',\n",
       "       'Security_num', 'OnlineBackup_num', 'DeviceProtection_num',\n",
       "       'TechSupport_num', 'StreamingTV_num', 'StreamingMovie_num',\n",
       "       'Contract_num', 'PaperlessBill_num', 'PaymentMethod_num', 'tenure',\n",
       "       'MonthlyCharges', 'TotalCharges', 'Churn_num', 'cluster'],\n",
       "      dtype='object')"
      ]
     },
     "execution_count": 123,
     "metadata": {},
     "output_type": "execute_result"
    }
   ],
   "source": [
    "data_result.columns"
   ]
  },
  {
   "cell_type": "code",
   "execution_count": 124,
   "metadata": {
    "scrolled": true
   },
   "outputs": [
    {
     "data": {
      "text/html": [
       "<div>\n",
       "<style scoped>\n",
       "    .dataframe tbody tr th:only-of-type {\n",
       "        vertical-align: middle;\n",
       "    }\n",
       "\n",
       "    .dataframe tbody tr th {\n",
       "        vertical-align: top;\n",
       "    }\n",
       "\n",
       "    .dataframe thead th {\n",
       "        text-align: right;\n",
       "    }\n",
       "</style>\n",
       "<table border=\"1\" class=\"dataframe\">\n",
       "  <thead>\n",
       "    <tr style=\"text-align: right;\">\n",
       "      <th></th>\n",
       "      <th>SeniorCitizen</th>\n",
       "      <th>gender_num</th>\n",
       "      <th>partner_num</th>\n",
       "      <th>dependents_num</th>\n",
       "      <th>phone_service_num</th>\n",
       "      <th>multipleLines_num</th>\n",
       "      <th>InternetService_num</th>\n",
       "      <th>Security_num</th>\n",
       "      <th>OnlineBackup_num</th>\n",
       "      <th>DeviceProtection_num</th>\n",
       "      <th>...</th>\n",
       "      <th>StreamingTV_num</th>\n",
       "      <th>StreamingMovie_num</th>\n",
       "      <th>Contract_num</th>\n",
       "      <th>PaperlessBill_num</th>\n",
       "      <th>PaymentMethod_num</th>\n",
       "      <th>tenure</th>\n",
       "      <th>MonthlyCharges</th>\n",
       "      <th>TotalCharges</th>\n",
       "      <th>Churn_num</th>\n",
       "      <th>cluster</th>\n",
       "    </tr>\n",
       "  </thead>\n",
       "  <tbody>\n",
       "    <tr>\n",
       "      <th>0</th>\n",
       "      <td>0</td>\n",
       "      <td>0</td>\n",
       "      <td>0</td>\n",
       "      <td>0</td>\n",
       "      <td>1</td>\n",
       "      <td>1</td>\n",
       "      <td>1</td>\n",
       "      <td>1</td>\n",
       "      <td>1</td>\n",
       "      <td>0</td>\n",
       "      <td>...</td>\n",
       "      <td>1</td>\n",
       "      <td>1</td>\n",
       "      <td>2</td>\n",
       "      <td>1</td>\n",
       "      <td>0</td>\n",
       "      <td>0.723700</td>\n",
       "      <td>1.483236</td>\n",
       "      <td>1.441721</td>\n",
       "      <td>1</td>\n",
       "      <td>0</td>\n",
       "    </tr>\n",
       "    <tr>\n",
       "      <th>1</th>\n",
       "      <td>0</td>\n",
       "      <td>0</td>\n",
       "      <td>0</td>\n",
       "      <td>0</td>\n",
       "      <td>1</td>\n",
       "      <td>0</td>\n",
       "      <td>1</td>\n",
       "      <td>1</td>\n",
       "      <td>0</td>\n",
       "      <td>0</td>\n",
       "      <td>...</td>\n",
       "      <td>1</td>\n",
       "      <td>1</td>\n",
       "      <td>0</td>\n",
       "      <td>1</td>\n",
       "      <td>2</td>\n",
       "      <td>-0.829194</td>\n",
       "      <td>1.126921</td>\n",
       "      <td>-0.508566</td>\n",
       "      <td>1</td>\n",
       "      <td>1</td>\n",
       "    </tr>\n",
       "    <tr>\n",
       "      <th>2</th>\n",
       "      <td>1</td>\n",
       "      <td>0</td>\n",
       "      <td>1</td>\n",
       "      <td>0</td>\n",
       "      <td>1</td>\n",
       "      <td>1</td>\n",
       "      <td>1</td>\n",
       "      <td>0</td>\n",
       "      <td>1</td>\n",
       "      <td>1</td>\n",
       "      <td>...</td>\n",
       "      <td>1</td>\n",
       "      <td>1</td>\n",
       "      <td>1</td>\n",
       "      <td>1</td>\n",
       "      <td>0</td>\n",
       "      <td>0.805431</td>\n",
       "      <td>1.378827</td>\n",
       "      <td>1.472845</td>\n",
       "      <td>0</td>\n",
       "      <td>0</td>\n",
       "    </tr>\n",
       "    <tr>\n",
       "      <th>3</th>\n",
       "      <td>0</td>\n",
       "      <td>1</td>\n",
       "      <td>0</td>\n",
       "      <td>0</td>\n",
       "      <td>1</td>\n",
       "      <td>0</td>\n",
       "      <td>2</td>\n",
       "      <td>2</td>\n",
       "      <td>2</td>\n",
       "      <td>2</td>\n",
       "      <td>...</td>\n",
       "      <td>2</td>\n",
       "      <td>2</td>\n",
       "      <td>1</td>\n",
       "      <td>1</td>\n",
       "      <td>0</td>\n",
       "      <td>-0.951790</td>\n",
       "      <td>-1.491582</td>\n",
       "      <td>-0.929575</td>\n",
       "      <td>0</td>\n",
       "      <td>2</td>\n",
       "    </tr>\n",
       "    <tr>\n",
       "      <th>4</th>\n",
       "      <td>0</td>\n",
       "      <td>0</td>\n",
       "      <td>1</td>\n",
       "      <td>1</td>\n",
       "      <td>1</td>\n",
       "      <td>1</td>\n",
       "      <td>1</td>\n",
       "      <td>1</td>\n",
       "      <td>0</td>\n",
       "      <td>0</td>\n",
       "      <td>...</td>\n",
       "      <td>1</td>\n",
       "      <td>1</td>\n",
       "      <td>2</td>\n",
       "      <td>1</td>\n",
       "      <td>2</td>\n",
       "      <td>1.214088</td>\n",
       "      <td>1.201498</td>\n",
       "      <td>1.920335</td>\n",
       "      <td>0</td>\n",
       "      <td>5</td>\n",
       "    </tr>\n",
       "    <tr>\n",
       "      <th>5</th>\n",
       "      <td>1</td>\n",
       "      <td>1</td>\n",
       "      <td>0</td>\n",
       "      <td>0</td>\n",
       "      <td>1</td>\n",
       "      <td>0</td>\n",
       "      <td>1</td>\n",
       "      <td>0</td>\n",
       "      <td>0</td>\n",
       "      <td>0</td>\n",
       "      <td>...</td>\n",
       "      <td>0</td>\n",
       "      <td>0</td>\n",
       "      <td>0</td>\n",
       "      <td>1</td>\n",
       "      <td>2</td>\n",
       "      <td>-1.278715</td>\n",
       "      <td>0.152440</td>\n",
       "      <td>-0.971441</td>\n",
       "      <td>1</td>\n",
       "      <td>1</td>\n",
       "    </tr>\n",
       "    <tr>\n",
       "      <th>6</th>\n",
       "      <td>0</td>\n",
       "      <td>1</td>\n",
       "      <td>1</td>\n",
       "      <td>1</td>\n",
       "      <td>1</td>\n",
       "      <td>0</td>\n",
       "      <td>0</td>\n",
       "      <td>0</td>\n",
       "      <td>1</td>\n",
       "      <td>0</td>\n",
       "      <td>...</td>\n",
       "      <td>1</td>\n",
       "      <td>1</td>\n",
       "      <td>2</td>\n",
       "      <td>0</td>\n",
       "      <td>2</td>\n",
       "      <td>1.132356</td>\n",
       "      <td>0.399375</td>\n",
       "      <td>0.998326</td>\n",
       "      <td>0</td>\n",
       "      <td>5</td>\n",
       "    </tr>\n",
       "    <tr>\n",
       "      <th>7</th>\n",
       "      <td>0</td>\n",
       "      <td>1</td>\n",
       "      <td>1</td>\n",
       "      <td>0</td>\n",
       "      <td>1</td>\n",
       "      <td>0</td>\n",
       "      <td>2</td>\n",
       "      <td>2</td>\n",
       "      <td>2</td>\n",
       "      <td>2</td>\n",
       "      <td>...</td>\n",
       "      <td>2</td>\n",
       "      <td>2</td>\n",
       "      <td>2</td>\n",
       "      <td>0</td>\n",
       "      <td>1</td>\n",
       "      <td>1.050625</td>\n",
       "      <td>-1.463408</td>\n",
       "      <td>-0.479951</td>\n",
       "      <td>0</td>\n",
       "      <td>4</td>\n",
       "    </tr>\n",
       "    <tr>\n",
       "      <th>8</th>\n",
       "      <td>0</td>\n",
       "      <td>0</td>\n",
       "      <td>1</td>\n",
       "      <td>0</td>\n",
       "      <td>1</td>\n",
       "      <td>1</td>\n",
       "      <td>0</td>\n",
       "      <td>1</td>\n",
       "      <td>1</td>\n",
       "      <td>1</td>\n",
       "      <td>...</td>\n",
       "      <td>1</td>\n",
       "      <td>1</td>\n",
       "      <td>2</td>\n",
       "      <td>1</td>\n",
       "      <td>3</td>\n",
       "      <td>1.541013</td>\n",
       "      <td>0.991024</td>\n",
       "      <td>2.017492</td>\n",
       "      <td>0</td>\n",
       "      <td>5</td>\n",
       "    </tr>\n",
       "    <tr>\n",
       "      <th>9</th>\n",
       "      <td>0</td>\n",
       "      <td>0</td>\n",
       "      <td>0</td>\n",
       "      <td>0</td>\n",
       "      <td>1</td>\n",
       "      <td>0</td>\n",
       "      <td>0</td>\n",
       "      <td>0</td>\n",
       "      <td>0</td>\n",
       "      <td>0</td>\n",
       "      <td>...</td>\n",
       "      <td>1</td>\n",
       "      <td>0</td>\n",
       "      <td>0</td>\n",
       "      <td>1</td>\n",
       "      <td>2</td>\n",
       "      <td>-0.951790</td>\n",
       "      <td>-0.179016</td>\n",
       "      <td>-0.768695</td>\n",
       "      <td>0</td>\n",
       "      <td>1</td>\n",
       "    </tr>\n",
       "    <tr>\n",
       "      <th>10</th>\n",
       "      <td>0</td>\n",
       "      <td>0</td>\n",
       "      <td>1</td>\n",
       "      <td>1</td>\n",
       "      <td>1</td>\n",
       "      <td>1</td>\n",
       "      <td>2</td>\n",
       "      <td>2</td>\n",
       "      <td>2</td>\n",
       "      <td>2</td>\n",
       "      <td>...</td>\n",
       "      <td>2</td>\n",
       "      <td>2</td>\n",
       "      <td>2</td>\n",
       "      <td>0</td>\n",
       "      <td>3</td>\n",
       "      <td>-0.910925</td>\n",
       "      <td>-1.286079</td>\n",
       "      <td>-0.902744</td>\n",
       "      <td>0</td>\n",
       "      <td>4</td>\n",
       "    </tr>\n",
       "    <tr>\n",
       "      <th>11</th>\n",
       "      <td>0</td>\n",
       "      <td>1</td>\n",
       "      <td>0</td>\n",
       "      <td>0</td>\n",
       "      <td>1</td>\n",
       "      <td>1</td>\n",
       "      <td>1</td>\n",
       "      <td>0</td>\n",
       "      <td>0</td>\n",
       "      <td>0</td>\n",
       "      <td>...</td>\n",
       "      <td>1</td>\n",
       "      <td>1</td>\n",
       "      <td>0</td>\n",
       "      <td>1</td>\n",
       "      <td>0</td>\n",
       "      <td>0.928028</td>\n",
       "      <td>1.057315</td>\n",
       "      <td>1.324093</td>\n",
       "      <td>1</td>\n",
       "      <td>0</td>\n",
       "    </tr>\n",
       "    <tr>\n",
       "      <th>12</th>\n",
       "      <td>0</td>\n",
       "      <td>0</td>\n",
       "      <td>1</td>\n",
       "      <td>1</td>\n",
       "      <td>1</td>\n",
       "      <td>0</td>\n",
       "      <td>2</td>\n",
       "      <td>2</td>\n",
       "      <td>2</td>\n",
       "      <td>2</td>\n",
       "      <td>...</td>\n",
       "      <td>2</td>\n",
       "      <td>2</td>\n",
       "      <td>2</td>\n",
       "      <td>0</td>\n",
       "      <td>2</td>\n",
       "      <td>0.151581</td>\n",
       "      <td>-1.479981</td>\n",
       "      <td>-0.685977</td>\n",
       "      <td>0</td>\n",
       "      <td>4</td>\n",
       "    </tr>\n",
       "    <tr>\n",
       "      <th>13</th>\n",
       "      <td>0</td>\n",
       "      <td>0</td>\n",
       "      <td>0</td>\n",
       "      <td>0</td>\n",
       "      <td>1</td>\n",
       "      <td>1</td>\n",
       "      <td>0</td>\n",
       "      <td>1</td>\n",
       "      <td>1</td>\n",
       "      <td>1</td>\n",
       "      <td>...</td>\n",
       "      <td>1</td>\n",
       "      <td>1</td>\n",
       "      <td>2</td>\n",
       "      <td>0</td>\n",
       "      <td>1</td>\n",
       "      <td>1.541013</td>\n",
       "      <td>0.656253</td>\n",
       "      <td>1.635377</td>\n",
       "      <td>0</td>\n",
       "      <td>5</td>\n",
       "    </tr>\n",
       "    <tr>\n",
       "      <th>14</th>\n",
       "      <td>0</td>\n",
       "      <td>0</td>\n",
       "      <td>1</td>\n",
       "      <td>1</td>\n",
       "      <td>1</td>\n",
       "      <td>0</td>\n",
       "      <td>2</td>\n",
       "      <td>2</td>\n",
       "      <td>2</td>\n",
       "      <td>2</td>\n",
       "      <td>...</td>\n",
       "      <td>2</td>\n",
       "      <td>2</td>\n",
       "      <td>0</td>\n",
       "      <td>1</td>\n",
       "      <td>1</td>\n",
       "      <td>-1.278715</td>\n",
       "      <td>-1.508155</td>\n",
       "      <td>-0.993496</td>\n",
       "      <td>0</td>\n",
       "      <td>2</td>\n",
       "    </tr>\n",
       "    <tr>\n",
       "      <th>15</th>\n",
       "      <td>0</td>\n",
       "      <td>1</td>\n",
       "      <td>0</td>\n",
       "      <td>0</td>\n",
       "      <td>1</td>\n",
       "      <td>0</td>\n",
       "      <td>1</td>\n",
       "      <td>0</td>\n",
       "      <td>0</td>\n",
       "      <td>0</td>\n",
       "      <td>...</td>\n",
       "      <td>0</td>\n",
       "      <td>0</td>\n",
       "      <td>0</td>\n",
       "      <td>1</td>\n",
       "      <td>0</td>\n",
       "      <td>-1.115253</td>\n",
       "      <td>0.159069</td>\n",
       "      <td>-0.862529</td>\n",
       "      <td>1</td>\n",
       "      <td>3</td>\n",
       "    </tr>\n",
       "    <tr>\n",
       "      <th>16</th>\n",
       "      <td>1</td>\n",
       "      <td>1</td>\n",
       "      <td>0</td>\n",
       "      <td>0</td>\n",
       "      <td>0</td>\n",
       "      <td>2</td>\n",
       "      <td>0</td>\n",
       "      <td>0</td>\n",
       "      <td>1</td>\n",
       "      <td>1</td>\n",
       "      <td>...</td>\n",
       "      <td>0</td>\n",
       "      <td>1</td>\n",
       "      <td>0</td>\n",
       "      <td>1</td>\n",
       "      <td>0</td>\n",
       "      <td>-1.278715</td>\n",
       "      <td>-0.715975</td>\n",
       "      <td>-0.982975</td>\n",
       "      <td>1</td>\n",
       "      <td>6</td>\n",
       "    </tr>\n",
       "    <tr>\n",
       "      <th>17</th>\n",
       "      <td>0</td>\n",
       "      <td>1</td>\n",
       "      <td>1</td>\n",
       "      <td>1</td>\n",
       "      <td>1</td>\n",
       "      <td>0</td>\n",
       "      <td>0</td>\n",
       "      <td>1</td>\n",
       "      <td>0</td>\n",
       "      <td>1</td>\n",
       "      <td>...</td>\n",
       "      <td>1</td>\n",
       "      <td>1</td>\n",
       "      <td>1</td>\n",
       "      <td>1</td>\n",
       "      <td>3</td>\n",
       "      <td>1.295819</td>\n",
       "      <td>0.270107</td>\n",
       "      <td>1.062027</td>\n",
       "      <td>0</td>\n",
       "      <td>5</td>\n",
       "    </tr>\n",
       "    <tr>\n",
       "      <th>18</th>\n",
       "      <td>0</td>\n",
       "      <td>1</td>\n",
       "      <td>0</td>\n",
       "      <td>0</td>\n",
       "      <td>1</td>\n",
       "      <td>0</td>\n",
       "      <td>2</td>\n",
       "      <td>2</td>\n",
       "      <td>2</td>\n",
       "      <td>2</td>\n",
       "      <td>...</td>\n",
       "      <td>2</td>\n",
       "      <td>2</td>\n",
       "      <td>1</td>\n",
       "      <td>0</td>\n",
       "      <td>1</td>\n",
       "      <td>-1.074387</td>\n",
       "      <td>-1.468380</td>\n",
       "      <td>-0.950706</td>\n",
       "      <td>0</td>\n",
       "      <td>2</td>\n",
       "    </tr>\n",
       "    <tr>\n",
       "      <th>19</th>\n",
       "      <td>1</td>\n",
       "      <td>0</td>\n",
       "      <td>0</td>\n",
       "      <td>0</td>\n",
       "      <td>1</td>\n",
       "      <td>1</td>\n",
       "      <td>1</td>\n",
       "      <td>0</td>\n",
       "      <td>1</td>\n",
       "      <td>1</td>\n",
       "      <td>...</td>\n",
       "      <td>1</td>\n",
       "      <td>1</td>\n",
       "      <td>1</td>\n",
       "      <td>1</td>\n",
       "      <td>2</td>\n",
       "      <td>0.968894</td>\n",
       "      <td>1.320822</td>\n",
       "      <td>1.423892</td>\n",
       "      <td>1</td>\n",
       "      <td>5</td>\n",
       "    </tr>\n",
       "    <tr>\n",
       "      <th>20</th>\n",
       "      <td>1</td>\n",
       "      <td>0</td>\n",
       "      <td>0</td>\n",
       "      <td>0</td>\n",
       "      <td>1</td>\n",
       "      <td>1</td>\n",
       "      <td>1</td>\n",
       "      <td>0</td>\n",
       "      <td>1</td>\n",
       "      <td>0</td>\n",
       "      <td>...</td>\n",
       "      <td>1</td>\n",
       "      <td>1</td>\n",
       "      <td>0</td>\n",
       "      <td>1</td>\n",
       "      <td>0</td>\n",
       "      <td>-0.052747</td>\n",
       "      <td>1.161723</td>\n",
       "      <td>0.400808</td>\n",
       "      <td>1</td>\n",
       "      <td>0</td>\n",
       "    </tr>\n",
       "    <tr>\n",
       "      <th>21</th>\n",
       "      <td>0</td>\n",
       "      <td>1</td>\n",
       "      <td>0</td>\n",
       "      <td>0</td>\n",
       "      <td>1</td>\n",
       "      <td>1</td>\n",
       "      <td>1</td>\n",
       "      <td>0</td>\n",
       "      <td>0</td>\n",
       "      <td>1</td>\n",
       "      <td>...</td>\n",
       "      <td>0</td>\n",
       "      <td>0</td>\n",
       "      <td>0</td>\n",
       "      <td>1</td>\n",
       "      <td>0</td>\n",
       "      <td>-0.379672</td>\n",
       "      <td>0.533614</td>\n",
       "      <td>-0.158080</td>\n",
       "      <td>1</td>\n",
       "      <td>3</td>\n",
       "    </tr>\n",
       "    <tr>\n",
       "      <th>22</th>\n",
       "      <td>0</td>\n",
       "      <td>1</td>\n",
       "      <td>0</td>\n",
       "      <td>0</td>\n",
       "      <td>1</td>\n",
       "      <td>1</td>\n",
       "      <td>0</td>\n",
       "      <td>0</td>\n",
       "      <td>0</td>\n",
       "      <td>1</td>\n",
       "      <td>...</td>\n",
       "      <td>0</td>\n",
       "      <td>1</td>\n",
       "      <td>2</td>\n",
       "      <td>0</td>\n",
       "      <td>2</td>\n",
       "      <td>0.723700</td>\n",
       "      <td>0.152440</td>\n",
       "      <td>0.502742</td>\n",
       "      <td>0</td>\n",
       "      <td>5</td>\n",
       "    </tr>\n",
       "    <tr>\n",
       "      <th>23</th>\n",
       "      <td>0</td>\n",
       "      <td>1</td>\n",
       "      <td>1</td>\n",
       "      <td>0</td>\n",
       "      <td>1</td>\n",
       "      <td>0</td>\n",
       "      <td>1</td>\n",
       "      <td>0</td>\n",
       "      <td>0</td>\n",
       "      <td>0</td>\n",
       "      <td>...</td>\n",
       "      <td>1</td>\n",
       "      <td>1</td>\n",
       "      <td>0</td>\n",
       "      <td>1</td>\n",
       "      <td>0</td>\n",
       "      <td>-1.237850</td>\n",
       "      <td>0.971136</td>\n",
       "      <td>-0.928299</td>\n",
       "      <td>1</td>\n",
       "      <td>3</td>\n",
       "    </tr>\n",
       "    <tr>\n",
       "      <th>24</th>\n",
       "      <td>0</td>\n",
       "      <td>1</td>\n",
       "      <td>1</td>\n",
       "      <td>0</td>\n",
       "      <td>1</td>\n",
       "      <td>0</td>\n",
       "      <td>1</td>\n",
       "      <td>1</td>\n",
       "      <td>0</td>\n",
       "      <td>0</td>\n",
       "      <td>...</td>\n",
       "      <td>0</td>\n",
       "      <td>0</td>\n",
       "      <td>0</td>\n",
       "      <td>0</td>\n",
       "      <td>0</td>\n",
       "      <td>-0.992656</td>\n",
       "      <td>0.334741</td>\n",
       "      <td>-0.723396</td>\n",
       "      <td>1</td>\n",
       "      <td>3</td>\n",
       "    </tr>\n",
       "    <tr>\n",
       "      <th>25</th>\n",
       "      <td>0</td>\n",
       "      <td>1</td>\n",
       "      <td>1</td>\n",
       "      <td>1</td>\n",
       "      <td>1</td>\n",
       "      <td>1</td>\n",
       "      <td>1</td>\n",
       "      <td>0</td>\n",
       "      <td>0</td>\n",
       "      <td>0</td>\n",
       "      <td>...</td>\n",
       "      <td>0</td>\n",
       "      <td>0</td>\n",
       "      <td>0</td>\n",
       "      <td>1</td>\n",
       "      <td>0</td>\n",
       "      <td>-1.278715</td>\n",
       "      <td>0.318168</td>\n",
       "      <td>-0.969240</td>\n",
       "      <td>1</td>\n",
       "      <td>3</td>\n",
       "    </tr>\n",
       "    <tr>\n",
       "      <th>26</th>\n",
       "      <td>0</td>\n",
       "      <td>1</td>\n",
       "      <td>0</td>\n",
       "      <td>0</td>\n",
       "      <td>1</td>\n",
       "      <td>0</td>\n",
       "      <td>2</td>\n",
       "      <td>2</td>\n",
       "      <td>2</td>\n",
       "      <td>2</td>\n",
       "      <td>...</td>\n",
       "      <td>2</td>\n",
       "      <td>2</td>\n",
       "      <td>2</td>\n",
       "      <td>0</td>\n",
       "      <td>2</td>\n",
       "      <td>1.377550</td>\n",
       "      <td>-1.498211</td>\n",
       "      <td>-0.450082</td>\n",
       "      <td>0</td>\n",
       "      <td>4</td>\n",
       "    </tr>\n",
       "    <tr>\n",
       "      <th>27</th>\n",
       "      <td>0</td>\n",
       "      <td>0</td>\n",
       "      <td>0</td>\n",
       "      <td>0</td>\n",
       "      <td>1</td>\n",
       "      <td>1</td>\n",
       "      <td>1</td>\n",
       "      <td>1</td>\n",
       "      <td>0</td>\n",
       "      <td>0</td>\n",
       "      <td>...</td>\n",
       "      <td>0</td>\n",
       "      <td>0</td>\n",
       "      <td>0</td>\n",
       "      <td>1</td>\n",
       "      <td>2</td>\n",
       "      <td>-0.870059</td>\n",
       "      <td>0.467323</td>\n",
       "      <td>-0.592935</td>\n",
       "      <td>0</td>\n",
       "      <td>1</td>\n",
       "    </tr>\n",
       "    <tr>\n",
       "      <th>28</th>\n",
       "      <td>1</td>\n",
       "      <td>0</td>\n",
       "      <td>1</td>\n",
       "      <td>0</td>\n",
       "      <td>1</td>\n",
       "      <td>1</td>\n",
       "      <td>1</td>\n",
       "      <td>0</td>\n",
       "      <td>1</td>\n",
       "      <td>1</td>\n",
       "      <td>...</td>\n",
       "      <td>1</td>\n",
       "      <td>1</td>\n",
       "      <td>2</td>\n",
       "      <td>1</td>\n",
       "      <td>3</td>\n",
       "      <td>1.622744</td>\n",
       "      <td>1.521353</td>\n",
       "      <td>2.467931</td>\n",
       "      <td>0</td>\n",
       "      <td>5</td>\n",
       "    </tr>\n",
       "    <tr>\n",
       "      <th>29</th>\n",
       "      <td>0</td>\n",
       "      <td>1</td>\n",
       "      <td>1</td>\n",
       "      <td>1</td>\n",
       "      <td>1</td>\n",
       "      <td>1</td>\n",
       "      <td>1</td>\n",
       "      <td>1</td>\n",
       "      <td>1</td>\n",
       "      <td>1</td>\n",
       "      <td>...</td>\n",
       "      <td>1</td>\n",
       "      <td>1</td>\n",
       "      <td>2</td>\n",
       "      <td>1</td>\n",
       "      <td>0</td>\n",
       "      <td>1.459281</td>\n",
       "      <td>1.599245</td>\n",
       "      <td>2.456375</td>\n",
       "      <td>1</td>\n",
       "      <td>0</td>\n",
       "    </tr>\n",
       "    <tr>\n",
       "      <th>30</th>\n",
       "      <td>0</td>\n",
       "      <td>1</td>\n",
       "      <td>1</td>\n",
       "      <td>1</td>\n",
       "      <td>1</td>\n",
       "      <td>0</td>\n",
       "      <td>2</td>\n",
       "      <td>2</td>\n",
       "      <td>2</td>\n",
       "      <td>2</td>\n",
       "      <td>...</td>\n",
       "      <td>2</td>\n",
       "      <td>2</td>\n",
       "      <td>2</td>\n",
       "      <td>0</td>\n",
       "      <td>1</td>\n",
       "      <td>1.336684</td>\n",
       "      <td>-1.491582</td>\n",
       "      <td>-0.433001</td>\n",
       "      <td>0</td>\n",
       "      <td>4</td>\n",
       "    </tr>\n",
       "    <tr>\n",
       "      <th>31</th>\n",
       "      <td>0</td>\n",
       "      <td>0</td>\n",
       "      <td>1</td>\n",
       "      <td>0</td>\n",
       "      <td>1</td>\n",
       "      <td>0</td>\n",
       "      <td>1</td>\n",
       "      <td>0</td>\n",
       "      <td>0</td>\n",
       "      <td>0</td>\n",
       "      <td>...</td>\n",
       "      <td>0</td>\n",
       "      <td>1</td>\n",
       "      <td>0</td>\n",
       "      <td>1</td>\n",
       "      <td>0</td>\n",
       "      <td>-0.747462</td>\n",
       "      <td>0.437492</td>\n",
       "      <td>-0.507927</td>\n",
       "      <td>0</td>\n",
       "      <td>3</td>\n",
       "    </tr>\n",
       "    <tr>\n",
       "      <th>32</th>\n",
       "      <td>0</td>\n",
       "      <td>1</td>\n",
       "      <td>0</td>\n",
       "      <td>0</td>\n",
       "      <td>1</td>\n",
       "      <td>0</td>\n",
       "      <td>2</td>\n",
       "      <td>2</td>\n",
       "      <td>2</td>\n",
       "      <td>2</td>\n",
       "      <td>...</td>\n",
       "      <td>2</td>\n",
       "      <td>2</td>\n",
       "      <td>0</td>\n",
       "      <td>1</td>\n",
       "      <td>1</td>\n",
       "      <td>-1.278715</td>\n",
       "      <td>-1.481638</td>\n",
       "      <td>-0.993144</td>\n",
       "      <td>1</td>\n",
       "      <td>2</td>\n",
       "    </tr>\n",
       "    <tr>\n",
       "      <th>33</th>\n",
       "      <td>0</td>\n",
       "      <td>0</td>\n",
       "      <td>0</td>\n",
       "      <td>0</td>\n",
       "      <td>1</td>\n",
       "      <td>0</td>\n",
       "      <td>0</td>\n",
       "      <td>0</td>\n",
       "      <td>0</td>\n",
       "      <td>0</td>\n",
       "      <td>...</td>\n",
       "      <td>1</td>\n",
       "      <td>1</td>\n",
       "      <td>0</td>\n",
       "      <td>1</td>\n",
       "      <td>0</td>\n",
       "      <td>-1.033522</td>\n",
       "      <td>0.064604</td>\n",
       "      <td>-0.800369</td>\n",
       "      <td>0</td>\n",
       "      <td>3</td>\n",
       "    </tr>\n",
       "    <tr>\n",
       "      <th>34</th>\n",
       "      <td>0</td>\n",
       "      <td>0</td>\n",
       "      <td>0</td>\n",
       "      <td>0</td>\n",
       "      <td>1</td>\n",
       "      <td>0</td>\n",
       "      <td>0</td>\n",
       "      <td>0</td>\n",
       "      <td>1</td>\n",
       "      <td>1</td>\n",
       "      <td>...</td>\n",
       "      <td>0</td>\n",
       "      <td>0</td>\n",
       "      <td>0</td>\n",
       "      <td>1</td>\n",
       "      <td>3</td>\n",
       "      <td>-0.257075</td>\n",
       "      <td>-0.336458</td>\n",
       "      <td>-0.382683</td>\n",
       "      <td>0</td>\n",
       "      <td>1</td>\n",
       "    </tr>\n",
       "    <tr>\n",
       "      <th>35</th>\n",
       "      <td>0</td>\n",
       "      <td>0</td>\n",
       "      <td>0</td>\n",
       "      <td>0</td>\n",
       "      <td>0</td>\n",
       "      <td>2</td>\n",
       "      <td>0</td>\n",
       "      <td>1</td>\n",
       "      <td>0</td>\n",
       "      <td>1</td>\n",
       "      <td>...</td>\n",
       "      <td>0</td>\n",
       "      <td>1</td>\n",
       "      <td>2</td>\n",
       "      <td>0</td>\n",
       "      <td>1</td>\n",
       "      <td>-0.829194</td>\n",
       "      <td>-0.498871</td>\n",
       "      <td>-0.758988</td>\n",
       "      <td>0</td>\n",
       "      <td>6</td>\n",
       "    </tr>\n",
       "    <tr>\n",
       "      <th>36</th>\n",
       "      <td>0</td>\n",
       "      <td>0</td>\n",
       "      <td>1</td>\n",
       "      <td>0</td>\n",
       "      <td>1</td>\n",
       "      <td>1</td>\n",
       "      <td>0</td>\n",
       "      <td>1</td>\n",
       "      <td>1</td>\n",
       "      <td>1</td>\n",
       "      <td>...</td>\n",
       "      <td>1</td>\n",
       "      <td>1</td>\n",
       "      <td>2</td>\n",
       "      <td>0</td>\n",
       "      <td>2</td>\n",
       "      <td>1.581878</td>\n",
       "      <td>0.763976</td>\n",
       "      <td>1.800153</td>\n",
       "      <td>0</td>\n",
       "      <td>5</td>\n",
       "    </tr>\n",
       "    <tr>\n",
       "      <th>37</th>\n",
       "      <td>0</td>\n",
       "      <td>0</td>\n",
       "      <td>0</td>\n",
       "      <td>0</td>\n",
       "      <td>1</td>\n",
       "      <td>1</td>\n",
       "      <td>1</td>\n",
       "      <td>0</td>\n",
       "      <td>0</td>\n",
       "      <td>1</td>\n",
       "      <td>...</td>\n",
       "      <td>1</td>\n",
       "      <td>1</td>\n",
       "      <td>0</td>\n",
       "      <td>1</td>\n",
       "      <td>0</td>\n",
       "      <td>0.233313</td>\n",
       "      <td>1.284362</td>\n",
       "      <td>0.753803</td>\n",
       "      <td>0</td>\n",
       "      <td>0</td>\n",
       "    </tr>\n",
       "    <tr>\n",
       "      <th>38</th>\n",
       "      <td>0</td>\n",
       "      <td>0</td>\n",
       "      <td>0</td>\n",
       "      <td>0</td>\n",
       "      <td>1</td>\n",
       "      <td>1</td>\n",
       "      <td>1</td>\n",
       "      <td>0</td>\n",
       "      <td>0</td>\n",
       "      <td>1</td>\n",
       "      <td>...</td>\n",
       "      <td>1</td>\n",
       "      <td>1</td>\n",
       "      <td>0</td>\n",
       "      <td>1</td>\n",
       "      <td>0</td>\n",
       "      <td>-0.870059</td>\n",
       "      <td>1.188240</td>\n",
       "      <td>-0.504692</td>\n",
       "      <td>1</td>\n",
       "      <td>3</td>\n",
       "    </tr>\n",
       "    <tr>\n",
       "      <th>39</th>\n",
       "      <td>0</td>\n",
       "      <td>0</td>\n",
       "      <td>1</td>\n",
       "      <td>1</td>\n",
       "      <td>1</td>\n",
       "      <td>0</td>\n",
       "      <td>0</td>\n",
       "      <td>1</td>\n",
       "      <td>1</td>\n",
       "      <td>1</td>\n",
       "      <td>...</td>\n",
       "      <td>1</td>\n",
       "      <td>1</td>\n",
       "      <td>2</td>\n",
       "      <td>0</td>\n",
       "      <td>1</td>\n",
       "      <td>0.069850</td>\n",
       "      <td>0.657910</td>\n",
       "      <td>0.247962</td>\n",
       "      <td>0</td>\n",
       "      <td>0</td>\n",
       "    </tr>\n",
       "  </tbody>\n",
       "</table>\n",
       "<p>40 rows × 21 columns</p>\n",
       "</div>"
      ],
      "text/plain": [
       "   SeniorCitizen  gender_num  partner_num  dependents_num  phone_service_num  \\\n",
       "0              0           0            0               0                  1   \n",
       "1              0           0            0               0                  1   \n",
       "2              1           0            1               0                  1   \n",
       "3              0           1            0               0                  1   \n",
       "4              0           0            1               1                  1   \n",
       "5              1           1            0               0                  1   \n",
       "6              0           1            1               1                  1   \n",
       "7              0           1            1               0                  1   \n",
       "8              0           0            1               0                  1   \n",
       "9              0           0            0               0                  1   \n",
       "10             0           0            1               1                  1   \n",
       "11             0           1            0               0                  1   \n",
       "12             0           0            1               1                  1   \n",
       "13             0           0            0               0                  1   \n",
       "14             0           0            1               1                  1   \n",
       "15             0           1            0               0                  1   \n",
       "16             1           1            0               0                  0   \n",
       "17             0           1            1               1                  1   \n",
       "18             0           1            0               0                  1   \n",
       "19             1           0            0               0                  1   \n",
       "20             1           0            0               0                  1   \n",
       "21             0           1            0               0                  1   \n",
       "22             0           1            0               0                  1   \n",
       "23             0           1            1               0                  1   \n",
       "24             0           1            1               0                  1   \n",
       "25             0           1            1               1                  1   \n",
       "26             0           1            0               0                  1   \n",
       "27             0           0            0               0                  1   \n",
       "28             1           0            1               0                  1   \n",
       "29             0           1            1               1                  1   \n",
       "30             0           1            1               1                  1   \n",
       "31             0           0            1               0                  1   \n",
       "32             0           1            0               0                  1   \n",
       "33             0           0            0               0                  1   \n",
       "34             0           0            0               0                  1   \n",
       "35             0           0            0               0                  0   \n",
       "36             0           0            1               0                  1   \n",
       "37             0           0            0               0                  1   \n",
       "38             0           0            0               0                  1   \n",
       "39             0           0            1               1                  1   \n",
       "\n",
       "    multipleLines_num  InternetService_num  Security_num  OnlineBackup_num  \\\n",
       "0                   1                    1             1                 1   \n",
       "1                   0                    1             1                 0   \n",
       "2                   1                    1             0                 1   \n",
       "3                   0                    2             2                 2   \n",
       "4                   1                    1             1                 0   \n",
       "5                   0                    1             0                 0   \n",
       "6                   0                    0             0                 1   \n",
       "7                   0                    2             2                 2   \n",
       "8                   1                    0             1                 1   \n",
       "9                   0                    0             0                 0   \n",
       "10                  1                    2             2                 2   \n",
       "11                  1                    1             0                 0   \n",
       "12                  0                    2             2                 2   \n",
       "13                  1                    0             1                 1   \n",
       "14                  0                    2             2                 2   \n",
       "15                  0                    1             0                 0   \n",
       "16                  2                    0             0                 1   \n",
       "17                  0                    0             1                 0   \n",
       "18                  0                    2             2                 2   \n",
       "19                  1                    1             0                 1   \n",
       "20                  1                    1             0                 1   \n",
       "21                  1                    1             0                 0   \n",
       "22                  1                    0             0                 0   \n",
       "23                  0                    1             0                 0   \n",
       "24                  0                    1             1                 0   \n",
       "25                  1                    1             0                 0   \n",
       "26                  0                    2             2                 2   \n",
       "27                  1                    1             1                 0   \n",
       "28                  1                    1             0                 1   \n",
       "29                  1                    1             1                 1   \n",
       "30                  0                    2             2                 2   \n",
       "31                  0                    1             0                 0   \n",
       "32                  0                    2             2                 2   \n",
       "33                  0                    0             0                 0   \n",
       "34                  0                    0             0                 1   \n",
       "35                  2                    0             1                 0   \n",
       "36                  1                    0             1                 1   \n",
       "37                  1                    1             0                 0   \n",
       "38                  1                    1             0                 0   \n",
       "39                  0                    0             1                 1   \n",
       "\n",
       "    DeviceProtection_num  ...  StreamingTV_num  StreamingMovie_num  \\\n",
       "0                      0  ...                1                   1   \n",
       "1                      0  ...                1                   1   \n",
       "2                      1  ...                1                   1   \n",
       "3                      2  ...                2                   2   \n",
       "4                      0  ...                1                   1   \n",
       "5                      0  ...                0                   0   \n",
       "6                      0  ...                1                   1   \n",
       "7                      2  ...                2                   2   \n",
       "8                      1  ...                1                   1   \n",
       "9                      0  ...                1                   0   \n",
       "10                     2  ...                2                   2   \n",
       "11                     0  ...                1                   1   \n",
       "12                     2  ...                2                   2   \n",
       "13                     1  ...                1                   1   \n",
       "14                     2  ...                2                   2   \n",
       "15                     0  ...                0                   0   \n",
       "16                     1  ...                0                   1   \n",
       "17                     1  ...                1                   1   \n",
       "18                     2  ...                2                   2   \n",
       "19                     1  ...                1                   1   \n",
       "20                     0  ...                1                   1   \n",
       "21                     1  ...                0                   0   \n",
       "22                     1  ...                0                   1   \n",
       "23                     0  ...                1                   1   \n",
       "24                     0  ...                0                   0   \n",
       "25                     0  ...                0                   0   \n",
       "26                     2  ...                2                   2   \n",
       "27                     0  ...                0                   0   \n",
       "28                     1  ...                1                   1   \n",
       "29                     1  ...                1                   1   \n",
       "30                     2  ...                2                   2   \n",
       "31                     0  ...                0                   1   \n",
       "32                     2  ...                2                   2   \n",
       "33                     0  ...                1                   1   \n",
       "34                     1  ...                0                   0   \n",
       "35                     1  ...                0                   1   \n",
       "36                     1  ...                1                   1   \n",
       "37                     1  ...                1                   1   \n",
       "38                     1  ...                1                   1   \n",
       "39                     1  ...                1                   1   \n",
       "\n",
       "    Contract_num  PaperlessBill_num  PaymentMethod_num    tenure  \\\n",
       "0              2                  1                  0  0.723700   \n",
       "1              0                  1                  2 -0.829194   \n",
       "2              1                  1                  0  0.805431   \n",
       "3              1                  1                  0 -0.951790   \n",
       "4              2                  1                  2  1.214088   \n",
       "5              0                  1                  2 -1.278715   \n",
       "6              2                  0                  2  1.132356   \n",
       "7              2                  0                  1  1.050625   \n",
       "8              2                  1                  3  1.541013   \n",
       "9              0                  1                  2 -0.951790   \n",
       "10             2                  0                  3 -0.910925   \n",
       "11             0                  1                  0  0.928028   \n",
       "12             2                  0                  2  0.151581   \n",
       "13             2                  0                  1  1.541013   \n",
       "14             0                  1                  1 -1.278715   \n",
       "15             0                  1                  0 -1.115253   \n",
       "16             0                  1                  0 -1.278715   \n",
       "17             1                  1                  3  1.295819   \n",
       "18             1                  0                  1 -1.074387   \n",
       "19             1                  1                  2  0.968894   \n",
       "20             0                  1                  0 -0.052747   \n",
       "21             0                  1                  0 -0.379672   \n",
       "22             2                  0                  2  0.723700   \n",
       "23             0                  1                  0 -1.237850   \n",
       "24             0                  0                  0 -0.992656   \n",
       "25             0                  1                  0 -1.278715   \n",
       "26             2                  0                  2  1.377550   \n",
       "27             0                  1                  2 -0.870059   \n",
       "28             2                  1                  3  1.622744   \n",
       "29             2                  1                  0  1.459281   \n",
       "30             2                  0                  1  1.336684   \n",
       "31             0                  1                  0 -0.747462   \n",
       "32             0                  1                  1 -1.278715   \n",
       "33             0                  1                  0 -1.033522   \n",
       "34             0                  1                  3 -0.257075   \n",
       "35             2                  0                  1 -0.829194   \n",
       "36             2                  0                  2  1.581878   \n",
       "37             0                  1                  0  0.233313   \n",
       "38             0                  1                  0 -0.870059   \n",
       "39             2                  0                  1  0.069850   \n",
       "\n",
       "    MonthlyCharges  TotalCharges  Churn_num  cluster  \n",
       "0         1.483236      1.441721          1        0  \n",
       "1         1.126921     -0.508566          1        1  \n",
       "2         1.378827      1.472845          0        0  \n",
       "3        -1.491582     -0.929575          0        2  \n",
       "4         1.201498      1.920335          0        5  \n",
       "5         0.152440     -0.971441          1        1  \n",
       "6         0.399375      0.998326          0        5  \n",
       "7        -1.463408     -0.479951          0        4  \n",
       "8         0.991024      2.017492          0        5  \n",
       "9        -0.179016     -0.768695          0        1  \n",
       "10       -1.286079     -0.902744          0        4  \n",
       "11        1.057315      1.324093          1        0  \n",
       "12       -1.479981     -0.685977          0        4  \n",
       "13        0.656253      1.635377          0        5  \n",
       "14       -1.508155     -0.993496          0        2  \n",
       "15        0.159069     -0.862529          1        3  \n",
       "16       -0.715975     -0.982975          1        6  \n",
       "17        0.270107      1.062027          0        5  \n",
       "18       -1.468380     -0.950706          0        2  \n",
       "19        1.320822      1.423892          1        5  \n",
       "20        1.161723      0.400808          1        0  \n",
       "21        0.533614     -0.158080          1        3  \n",
       "22        0.152440      0.502742          0        5  \n",
       "23        0.971136     -0.928299          1        3  \n",
       "24        0.334741     -0.723396          1        3  \n",
       "25        0.318168     -0.969240          1        3  \n",
       "26       -1.498211     -0.450082          0        4  \n",
       "27        0.467323     -0.592935          0        1  \n",
       "28        1.521353      2.467931          0        5  \n",
       "29        1.599245      2.456375          1        0  \n",
       "30       -1.491582     -0.433001          0        4  \n",
       "31        0.437492     -0.507927          0        3  \n",
       "32       -1.481638     -0.993144          1        2  \n",
       "33        0.064604     -0.800369          0        3  \n",
       "34       -0.336458     -0.382683          0        1  \n",
       "35       -0.498871     -0.758988          0        6  \n",
       "36        0.763976      1.800153          0        5  \n",
       "37        1.284362      0.753803          0        0  \n",
       "38        1.188240     -0.504692          1        3  \n",
       "39        0.657910      0.247962          0        0  \n",
       "\n",
       "[40 rows x 21 columns]"
      ]
     },
     "execution_count": 124,
     "metadata": {},
     "output_type": "execute_result"
    }
   ],
   "source": [
    "data_result.head(40)"
   ]
  },
  {
   "cell_type": "code",
   "execution_count": 125,
   "metadata": {
    "scrolled": true
   },
   "outputs": [
    {
     "data": {
      "text/plain": [
       "0    5163\n",
       "1    1869\n",
       "Name: Churn_num, dtype: int64"
      ]
     },
     "execution_count": 125,
     "metadata": {},
     "output_type": "execute_result"
    }
   ],
   "source": [
    "data_result['Churn_num'].value_counts()"
   ]
  },
  {
   "cell_type": "code",
   "execution_count": 126,
   "metadata": {},
   "outputs": [],
   "source": [
    "df_0 = data_result.loc[data_result['cluster'] == 0]\n",
    "df_1 = data_result.loc[data_result['cluster'] == 1]\n",
    "df_2 = data_result.loc[data_result['cluster'] == 2]\n",
    "df_3 = data_result.loc[data_result['cluster'] == 3]\n",
    "df_4 = data_result.loc[data_result['cluster'] == 4]\n",
    "df_5 = data_result.loc[data_result['cluster'] == 5]\n",
    "df_6 = data_result.loc[data_result['cluster'] == 6]"
   ]
  },
  {
   "cell_type": "code",
   "execution_count": 127,
   "metadata": {
    "scrolled": false
   },
   "outputs": [
    {
     "data": {
      "text/html": [
       "<div>\n",
       "<style scoped>\n",
       "    .dataframe tbody tr th:only-of-type {\n",
       "        vertical-align: middle;\n",
       "    }\n",
       "\n",
       "    .dataframe tbody tr th {\n",
       "        vertical-align: top;\n",
       "    }\n",
       "\n",
       "    .dataframe thead th {\n",
       "        text-align: right;\n",
       "    }\n",
       "</style>\n",
       "<table border=\"1\" class=\"dataframe\">\n",
       "  <thead>\n",
       "    <tr style=\"text-align: right;\">\n",
       "      <th></th>\n",
       "      <th>SeniorCitizen</th>\n",
       "      <th>gender_num</th>\n",
       "      <th>partner_num</th>\n",
       "      <th>dependents_num</th>\n",
       "      <th>phone_service_num</th>\n",
       "      <th>multipleLines_num</th>\n",
       "      <th>InternetService_num</th>\n",
       "      <th>Security_num</th>\n",
       "      <th>OnlineBackup_num</th>\n",
       "      <th>DeviceProtection_num</th>\n",
       "      <th>...</th>\n",
       "      <th>StreamingTV_num</th>\n",
       "      <th>StreamingMovie_num</th>\n",
       "      <th>Contract_num</th>\n",
       "      <th>PaperlessBill_num</th>\n",
       "      <th>PaymentMethod_num</th>\n",
       "      <th>tenure</th>\n",
       "      <th>MonthlyCharges</th>\n",
       "      <th>TotalCharges</th>\n",
       "      <th>Churn_num</th>\n",
       "      <th>cluster</th>\n",
       "    </tr>\n",
       "  </thead>\n",
       "  <tbody>\n",
       "    <tr>\n",
       "      <th>0</th>\n",
       "      <td>0</td>\n",
       "      <td>0</td>\n",
       "      <td>0</td>\n",
       "      <td>0</td>\n",
       "      <td>1</td>\n",
       "      <td>1</td>\n",
       "      <td>1</td>\n",
       "      <td>1</td>\n",
       "      <td>1</td>\n",
       "      <td>0</td>\n",
       "      <td>...</td>\n",
       "      <td>1</td>\n",
       "      <td>1</td>\n",
       "      <td>2</td>\n",
       "      <td>1</td>\n",
       "      <td>0</td>\n",
       "      <td>0.723700</td>\n",
       "      <td>1.483236</td>\n",
       "      <td>1.441721</td>\n",
       "      <td>1</td>\n",
       "      <td>0</td>\n",
       "    </tr>\n",
       "    <tr>\n",
       "      <th>2</th>\n",
       "      <td>1</td>\n",
       "      <td>0</td>\n",
       "      <td>1</td>\n",
       "      <td>0</td>\n",
       "      <td>1</td>\n",
       "      <td>1</td>\n",
       "      <td>1</td>\n",
       "      <td>0</td>\n",
       "      <td>1</td>\n",
       "      <td>1</td>\n",
       "      <td>...</td>\n",
       "      <td>1</td>\n",
       "      <td>1</td>\n",
       "      <td>1</td>\n",
       "      <td>1</td>\n",
       "      <td>0</td>\n",
       "      <td>0.805431</td>\n",
       "      <td>1.378827</td>\n",
       "      <td>1.472845</td>\n",
       "      <td>0</td>\n",
       "      <td>0</td>\n",
       "    </tr>\n",
       "    <tr>\n",
       "      <th>11</th>\n",
       "      <td>0</td>\n",
       "      <td>1</td>\n",
       "      <td>0</td>\n",
       "      <td>0</td>\n",
       "      <td>1</td>\n",
       "      <td>1</td>\n",
       "      <td>1</td>\n",
       "      <td>0</td>\n",
       "      <td>0</td>\n",
       "      <td>0</td>\n",
       "      <td>...</td>\n",
       "      <td>1</td>\n",
       "      <td>1</td>\n",
       "      <td>0</td>\n",
       "      <td>1</td>\n",
       "      <td>0</td>\n",
       "      <td>0.928028</td>\n",
       "      <td>1.057315</td>\n",
       "      <td>1.324093</td>\n",
       "      <td>1</td>\n",
       "      <td>0</td>\n",
       "    </tr>\n",
       "    <tr>\n",
       "      <th>20</th>\n",
       "      <td>1</td>\n",
       "      <td>0</td>\n",
       "      <td>0</td>\n",
       "      <td>0</td>\n",
       "      <td>1</td>\n",
       "      <td>1</td>\n",
       "      <td>1</td>\n",
       "      <td>0</td>\n",
       "      <td>1</td>\n",
       "      <td>0</td>\n",
       "      <td>...</td>\n",
       "      <td>1</td>\n",
       "      <td>1</td>\n",
       "      <td>0</td>\n",
       "      <td>1</td>\n",
       "      <td>0</td>\n",
       "      <td>-0.052747</td>\n",
       "      <td>1.161723</td>\n",
       "      <td>0.400808</td>\n",
       "      <td>1</td>\n",
       "      <td>0</td>\n",
       "    </tr>\n",
       "    <tr>\n",
       "      <th>29</th>\n",
       "      <td>0</td>\n",
       "      <td>1</td>\n",
       "      <td>1</td>\n",
       "      <td>1</td>\n",
       "      <td>1</td>\n",
       "      <td>1</td>\n",
       "      <td>1</td>\n",
       "      <td>1</td>\n",
       "      <td>1</td>\n",
       "      <td>1</td>\n",
       "      <td>...</td>\n",
       "      <td>1</td>\n",
       "      <td>1</td>\n",
       "      <td>2</td>\n",
       "      <td>1</td>\n",
       "      <td>0</td>\n",
       "      <td>1.459281</td>\n",
       "      <td>1.599245</td>\n",
       "      <td>2.456375</td>\n",
       "      <td>1</td>\n",
       "      <td>0</td>\n",
       "    </tr>\n",
       "  </tbody>\n",
       "</table>\n",
       "<p>5 rows × 21 columns</p>\n",
       "</div>"
      ],
      "text/plain": [
       "   SeniorCitizen  gender_num  partner_num  dependents_num  phone_service_num  \\\n",
       "0              0           0            0               0                  1   \n",
       "2              1           0            1               0                  1   \n",
       "11             0           1            0               0                  1   \n",
       "20             1           0            0               0                  1   \n",
       "29             0           1            1               1                  1   \n",
       "\n",
       "    multipleLines_num  InternetService_num  Security_num  OnlineBackup_num  \\\n",
       "0                   1                    1             1                 1   \n",
       "2                   1                    1             0                 1   \n",
       "11                  1                    1             0                 0   \n",
       "20                  1                    1             0                 1   \n",
       "29                  1                    1             1                 1   \n",
       "\n",
       "    DeviceProtection_num  ...  StreamingTV_num  StreamingMovie_num  \\\n",
       "0                      0  ...                1                   1   \n",
       "2                      1  ...                1                   1   \n",
       "11                     0  ...                1                   1   \n",
       "20                     0  ...                1                   1   \n",
       "29                     1  ...                1                   1   \n",
       "\n",
       "    Contract_num  PaperlessBill_num  PaymentMethod_num    tenure  \\\n",
       "0              2                  1                  0  0.723700   \n",
       "2              1                  1                  0  0.805431   \n",
       "11             0                  1                  0  0.928028   \n",
       "20             0                  1                  0 -0.052747   \n",
       "29             2                  1                  0  1.459281   \n",
       "\n",
       "    MonthlyCharges  TotalCharges  Churn_num  cluster  \n",
       "0         1.483236      1.441721          1        0  \n",
       "2         1.378827      1.472845          0        0  \n",
       "11        1.057315      1.324093          1        0  \n",
       "20        1.161723      0.400808          1        0  \n",
       "29        1.599245      2.456375          1        0  \n",
       "\n",
       "[5 rows x 21 columns]"
      ]
     },
     "execution_count": 127,
     "metadata": {},
     "output_type": "execute_result"
    }
   ],
   "source": [
    "df_0.head()"
   ]
  },
  {
   "cell_type": "markdown",
   "metadata": {},
   "source": [
    "# Group 0"
   ]
  },
  {
   "cell_type": "code",
   "execution_count": 128,
   "metadata": {},
   "outputs": [],
   "source": [
    "X_0 = df_0.drop(['Churn_num', 'cluster'], axis =1)\n",
    "y_0 = df_0['Churn_num']"
   ]
  },
  {
   "cell_type": "code",
   "execution_count": 129,
   "metadata": {
    "scrolled": true
   },
   "outputs": [
    {
     "data": {
      "text/html": [
       "<div>\n",
       "<style scoped>\n",
       "    .dataframe tbody tr th:only-of-type {\n",
       "        vertical-align: middle;\n",
       "    }\n",
       "\n",
       "    .dataframe tbody tr th {\n",
       "        vertical-align: top;\n",
       "    }\n",
       "\n",
       "    .dataframe thead th {\n",
       "        text-align: right;\n",
       "    }\n",
       "</style>\n",
       "<table border=\"1\" class=\"dataframe\">\n",
       "  <thead>\n",
       "    <tr style=\"text-align: right;\">\n",
       "      <th></th>\n",
       "      <th>SeniorCitizen</th>\n",
       "      <th>gender_num</th>\n",
       "      <th>partner_num</th>\n",
       "      <th>dependents_num</th>\n",
       "      <th>phone_service_num</th>\n",
       "      <th>multipleLines_num</th>\n",
       "      <th>InternetService_num</th>\n",
       "      <th>Security_num</th>\n",
       "      <th>OnlineBackup_num</th>\n",
       "      <th>DeviceProtection_num</th>\n",
       "      <th>TechSupport_num</th>\n",
       "      <th>StreamingTV_num</th>\n",
       "      <th>StreamingMovie_num</th>\n",
       "      <th>Contract_num</th>\n",
       "      <th>PaperlessBill_num</th>\n",
       "      <th>PaymentMethod_num</th>\n",
       "      <th>tenure</th>\n",
       "      <th>MonthlyCharges</th>\n",
       "      <th>TotalCharges</th>\n",
       "    </tr>\n",
       "  </thead>\n",
       "  <tbody>\n",
       "    <tr>\n",
       "      <th>0</th>\n",
       "      <td>0</td>\n",
       "      <td>0</td>\n",
       "      <td>0</td>\n",
       "      <td>0</td>\n",
       "      <td>1</td>\n",
       "      <td>1</td>\n",
       "      <td>1</td>\n",
       "      <td>1</td>\n",
       "      <td>1</td>\n",
       "      <td>0</td>\n",
       "      <td>1</td>\n",
       "      <td>1</td>\n",
       "      <td>1</td>\n",
       "      <td>2</td>\n",
       "      <td>1</td>\n",
       "      <td>0</td>\n",
       "      <td>0.723700</td>\n",
       "      <td>1.483236</td>\n",
       "      <td>1.441721</td>\n",
       "    </tr>\n",
       "    <tr>\n",
       "      <th>2</th>\n",
       "      <td>1</td>\n",
       "      <td>0</td>\n",
       "      <td>1</td>\n",
       "      <td>0</td>\n",
       "      <td>1</td>\n",
       "      <td>1</td>\n",
       "      <td>1</td>\n",
       "      <td>0</td>\n",
       "      <td>1</td>\n",
       "      <td>1</td>\n",
       "      <td>0</td>\n",
       "      <td>1</td>\n",
       "      <td>1</td>\n",
       "      <td>1</td>\n",
       "      <td>1</td>\n",
       "      <td>0</td>\n",
       "      <td>0.805431</td>\n",
       "      <td>1.378827</td>\n",
       "      <td>1.472845</td>\n",
       "    </tr>\n",
       "    <tr>\n",
       "      <th>11</th>\n",
       "      <td>0</td>\n",
       "      <td>1</td>\n",
       "      <td>0</td>\n",
       "      <td>0</td>\n",
       "      <td>1</td>\n",
       "      <td>1</td>\n",
       "      <td>1</td>\n",
       "      <td>0</td>\n",
       "      <td>0</td>\n",
       "      <td>0</td>\n",
       "      <td>0</td>\n",
       "      <td>1</td>\n",
       "      <td>1</td>\n",
       "      <td>0</td>\n",
       "      <td>1</td>\n",
       "      <td>0</td>\n",
       "      <td>0.928028</td>\n",
       "      <td>1.057315</td>\n",
       "      <td>1.324093</td>\n",
       "    </tr>\n",
       "    <tr>\n",
       "      <th>20</th>\n",
       "      <td>1</td>\n",
       "      <td>0</td>\n",
       "      <td>0</td>\n",
       "      <td>0</td>\n",
       "      <td>1</td>\n",
       "      <td>1</td>\n",
       "      <td>1</td>\n",
       "      <td>0</td>\n",
       "      <td>1</td>\n",
       "      <td>0</td>\n",
       "      <td>0</td>\n",
       "      <td>1</td>\n",
       "      <td>1</td>\n",
       "      <td>0</td>\n",
       "      <td>1</td>\n",
       "      <td>0</td>\n",
       "      <td>-0.052747</td>\n",
       "      <td>1.161723</td>\n",
       "      <td>0.400808</td>\n",
       "    </tr>\n",
       "    <tr>\n",
       "      <th>29</th>\n",
       "      <td>0</td>\n",
       "      <td>1</td>\n",
       "      <td>1</td>\n",
       "      <td>1</td>\n",
       "      <td>1</td>\n",
       "      <td>1</td>\n",
       "      <td>1</td>\n",
       "      <td>1</td>\n",
       "      <td>1</td>\n",
       "      <td>1</td>\n",
       "      <td>1</td>\n",
       "      <td>1</td>\n",
       "      <td>1</td>\n",
       "      <td>2</td>\n",
       "      <td>1</td>\n",
       "      <td>0</td>\n",
       "      <td>1.459281</td>\n",
       "      <td>1.599245</td>\n",
       "      <td>2.456375</td>\n",
       "    </tr>\n",
       "  </tbody>\n",
       "</table>\n",
       "</div>"
      ],
      "text/plain": [
       "   SeniorCitizen  gender_num  partner_num  dependents_num  phone_service_num  \\\n",
       "0              0           0            0               0                  1   \n",
       "2              1           0            1               0                  1   \n",
       "11             0           1            0               0                  1   \n",
       "20             1           0            0               0                  1   \n",
       "29             0           1            1               1                  1   \n",
       "\n",
       "    multipleLines_num  InternetService_num  Security_num  OnlineBackup_num  \\\n",
       "0                   1                    1             1                 1   \n",
       "2                   1                    1             0                 1   \n",
       "11                  1                    1             0                 0   \n",
       "20                  1                    1             0                 1   \n",
       "29                  1                    1             1                 1   \n",
       "\n",
       "    DeviceProtection_num  TechSupport_num  StreamingTV_num  \\\n",
       "0                      0                1                1   \n",
       "2                      1                0                1   \n",
       "11                     0                0                1   \n",
       "20                     0                0                1   \n",
       "29                     1                1                1   \n",
       "\n",
       "    StreamingMovie_num  Contract_num  PaperlessBill_num  PaymentMethod_num  \\\n",
       "0                    1             2                  1                  0   \n",
       "2                    1             1                  1                  0   \n",
       "11                   1             0                  1                  0   \n",
       "20                   1             0                  1                  0   \n",
       "29                   1             2                  1                  0   \n",
       "\n",
       "      tenure  MonthlyCharges  TotalCharges  \n",
       "0   0.723700        1.483236      1.441721  \n",
       "2   0.805431        1.378827      1.472845  \n",
       "11  0.928028        1.057315      1.324093  \n",
       "20 -0.052747        1.161723      0.400808  \n",
       "29  1.459281        1.599245      2.456375  "
      ]
     },
     "execution_count": 129,
     "metadata": {},
     "output_type": "execute_result"
    }
   ],
   "source": [
    "X_0.head()"
   ]
  },
  {
   "cell_type": "code",
   "execution_count": 130,
   "metadata": {},
   "outputs": [],
   "source": [
    "X_train, X_test, y_train, y_test = train_test_split(X_0, y_0, test_size=0.3, random_state=rs)"
   ]
  },
  {
   "cell_type": "code",
   "execution_count": 131,
   "metadata": {},
   "outputs": [
    {
     "data": {
      "text/html": [
       "<div>\n",
       "<style scoped>\n",
       "    .dataframe tbody tr th:only-of-type {\n",
       "        vertical-align: middle;\n",
       "    }\n",
       "\n",
       "    .dataframe tbody tr th {\n",
       "        vertical-align: top;\n",
       "    }\n",
       "\n",
       "    .dataframe thead th {\n",
       "        text-align: right;\n",
       "    }\n",
       "</style>\n",
       "<table border=\"1\" class=\"dataframe\">\n",
       "  <thead>\n",
       "    <tr style=\"text-align: right;\">\n",
       "      <th></th>\n",
       "      <th>0</th>\n",
       "    </tr>\n",
       "  </thead>\n",
       "  <tbody>\n",
       "    <tr>\n",
       "      <th>1</th>\n",
       "      <td>426</td>\n",
       "    </tr>\n",
       "    <tr>\n",
       "      <th>0</th>\n",
       "      <td>426</td>\n",
       "    </tr>\n",
       "  </tbody>\n",
       "</table>\n",
       "</div>"
      ],
      "text/plain": [
       "     0\n",
       "1  426\n",
       "0  426"
      ]
     },
     "execution_count": 131,
     "metadata": {},
     "output_type": "execute_result"
    }
   ],
   "source": [
    "from imblearn.over_sampling import SMOTE\n",
    "sm = SMOTE(random_state = rs, ratio = 1.0)\n",
    "X_train_res, y_train_res = sm.fit_sample(X_train, y_train)\n",
    "\n",
    "col = [X_train.columns]\n",
    "X_train_res1 = pd.DataFrame(X_train_res, columns = col)\n",
    "y_train_res1 = pd.DataFrame(y_train_res)\n",
    "y_train_res1.apply(pd.value_counts)"
   ]
  },
  {
   "cell_type": "code",
   "execution_count": 132,
   "metadata": {},
   "outputs": [
    {
     "name": "stdout",
     "output_type": "stream",
     "text": [
      "Results:\n",
      "\n",
      "accuracy score: 0.9871\n",
      "\n",
      "Classification Report: \n",
      "               precision    recall  f1-score   support\n",
      "\n",
      "           0       0.98      1.00      0.99       426\n",
      "           1       1.00      0.98      0.99       426\n",
      "\n",
      "    accuracy                           0.99       852\n",
      "   macro avg       0.99      0.99      0.99       852\n",
      "weighted avg       0.99      0.99      0.99       852\n",
      "\n",
      "\n",
      "Confusion Matrix: \n",
      " [[424   2]\n",
      " [  9 417]]\n",
      "\n",
      "Average Accuracy: \t 0.8176\n",
      "Accuracy SD: \t\t 0.0906\n"
     ]
    }
   ],
   "source": [
    "rf = RandomForestClassifier(random_state = rs)\n",
    "rf.fit(X_train_res1, y_train_res1)\n",
    "print_score(rf, X_train_res1,y_train_res1, cv=10)"
   ]
  },
  {
   "cell_type": "code",
   "execution_count": 133,
   "metadata": {},
   "outputs": [
    {
     "name": "stdout",
     "output_type": "stream",
     "text": [
      "Results:\n",
      "\n",
      "accuracy score: 0.7194\n",
      "\n",
      "Classification Report: \n",
      "               precision    recall  f1-score   support\n",
      "\n",
      "           0       0.79      0.85      0.82       188\n",
      "           1       0.44      0.34      0.38        65\n",
      "\n",
      "    accuracy                           0.72       253\n",
      "   macro avg       0.61      0.59      0.60       253\n",
      "weighted avg       0.70      0.72      0.71       253\n",
      "\n",
      "\n",
      "Confusion Matrix: \n",
      " [[160  28]\n",
      " [ 43  22]]\n",
      "\n"
     ]
    }
   ],
   "source": [
    "print_score(rf, X_test,y_test)"
   ]
  },
  {
   "cell_type": "code",
   "execution_count": 134,
   "metadata": {},
   "outputs": [
    {
     "name": "stdout",
     "output_type": "stream",
     "text": [
      "Results:\n",
      "\n",
      "accuracy score: 0.7195\n",
      "\n",
      "Classification Report: \n",
      "               precision    recall  f1-score   support\n",
      "\n",
      "           0       0.74      0.69      0.71       426\n",
      "           1       0.71      0.75      0.73       426\n",
      "\n",
      "    accuracy                           0.72       852\n",
      "   macro avg       0.72      0.72      0.72       852\n",
      "weighted avg       0.72      0.72      0.72       852\n",
      "\n",
      "\n",
      "Confusion Matrix: \n",
      " [[292 134]\n",
      " [105 321]]\n",
      "\n",
      "Average Accuracy: \t 0.6960\n",
      "Accuracy SD: \t\t 0.0330\n"
     ]
    }
   ],
   "source": [
    "from sklearn.linear_model import LogisticRegression\n",
    "log = LogisticRegression(random_state = rs)\n",
    "log.fit(X_train_res1, y_train_res1)\n",
    "print_score(log, X_train_res1,y_train_res1, cv=10)"
   ]
  },
  {
   "cell_type": "code",
   "execution_count": 135,
   "metadata": {},
   "outputs": [
    {
     "name": "stdout",
     "output_type": "stream",
     "text": [
      "Results:\n",
      "\n",
      "accuracy score: 0.6838\n",
      "\n",
      "Classification Report: \n",
      "               precision    recall  f1-score   support\n",
      "\n",
      "           0       0.86      0.69      0.76       188\n",
      "           1       0.43      0.68      0.52        65\n",
      "\n",
      "    accuracy                           0.68       253\n",
      "   macro avg       0.64      0.68      0.64       253\n",
      "weighted avg       0.75      0.68      0.70       253\n",
      "\n",
      "\n",
      "Confusion Matrix: \n",
      " [[129  59]\n",
      " [ 21  44]]\n",
      "\n"
     ]
    }
   ],
   "source": [
    "print_score(log, X_test,y_test)"
   ]
  },
  {
   "cell_type": "code",
   "execution_count": 136,
   "metadata": {},
   "outputs": [
    {
     "name": "stdout",
     "output_type": "stream",
     "text": [
      "Results:\n",
      "\n",
      "accuracy score: 0.8263\n",
      "\n",
      "Classification Report: \n",
      "               precision    recall  f1-score   support\n",
      "\n",
      "           0       0.98      0.67      0.79       426\n",
      "           1       0.75      0.99      0.85       426\n",
      "\n",
      "    accuracy                           0.83       852\n",
      "   macro avg       0.86      0.83      0.82       852\n",
      "weighted avg       0.86      0.83      0.82       852\n",
      "\n",
      "\n",
      "Confusion Matrix: \n",
      " [[284 142]\n",
      " [  6 420]]\n",
      "\n",
      "Average Accuracy: \t 0.7560\n",
      "Accuracy SD: \t\t 0.0420\n"
     ]
    }
   ],
   "source": [
    "knn.fit(X_train_res1, y_train_res1)\n",
    "print_score(knn,X_train_res1, y_train_res1, cv=10)"
   ]
  },
  {
   "cell_type": "code",
   "execution_count": 137,
   "metadata": {},
   "outputs": [
    {
     "name": "stdout",
     "output_type": "stream",
     "text": [
      "Results:\n",
      "\n",
      "accuracy score: 0.5534\n",
      "\n",
      "Classification Report: \n",
      "               precision    recall  f1-score   support\n",
      "\n",
      "           0       0.83      0.51      0.63       188\n",
      "           1       0.33      0.69      0.44        65\n",
      "\n",
      "    accuracy                           0.55       253\n",
      "   macro avg       0.58      0.60      0.54       253\n",
      "weighted avg       0.70      0.55      0.58       253\n",
      "\n",
      "\n",
      "Confusion Matrix: \n",
      " [[95 93]\n",
      " [20 45]]\n",
      "\n"
     ]
    }
   ],
   "source": [
    "print_score(knn,X_test, y_test)"
   ]
  },
  {
   "cell_type": "code",
   "execution_count": 138,
   "metadata": {},
   "outputs": [
    {
     "name": "stdout",
     "output_type": "stream",
     "text": [
      "Results:\n",
      "\n",
      "accuracy score: 0.7245\n",
      "\n",
      "Classification Report: \n",
      "               precision    recall  f1-score   support\n",
      "\n",
      "           0       0.72      1.00      0.84       426\n",
      "           1       0.00      0.00      0.00       162\n",
      "\n",
      "    accuracy                           0.72       588\n",
      "   macro avg       0.36      0.50      0.42       588\n",
      "weighted avg       0.52      0.72      0.61       588\n",
      "\n",
      "\n",
      "Confusion Matrix: \n",
      " [[426   0]\n",
      " [162   0]]\n",
      "\n",
      "Average Accuracy: \t 0.7228\n",
      "Accuracy SD: \t\t 0.0056\n"
     ]
    }
   ],
   "source": [
    "from sklearn import svm\n",
    "C = 0.1\n",
    "svm = svm.SVC(kernel='linear', C=C)\n",
    "svm.fit(X_train, y_train)\n",
    "print_score(svm, X_train, y_train,cv=10)"
   ]
  },
  {
   "cell_type": "code",
   "execution_count": 139,
   "metadata": {},
   "outputs": [
    {
     "name": "stdout",
     "output_type": "stream",
     "text": [
      "Results:\n",
      "\n",
      "accuracy score: 1.0000\n",
      "\n",
      "Classification Report: \n",
      "               precision    recall  f1-score   support\n",
      "\n",
      "           0       1.00      1.00      1.00       426\n",
      "           1       1.00      1.00      1.00       426\n",
      "\n",
      "    accuracy                           1.00       852\n",
      "   macro avg       1.00      1.00      1.00       852\n",
      "weighted avg       1.00      1.00      1.00       852\n",
      "\n",
      "\n",
      "Confusion Matrix: \n",
      " [[426   0]\n",
      " [  0 426]]\n",
      "\n",
      "Average Accuracy: \t 0.8598\n",
      "Accuracy SD: \t\t 0.0766\n"
     ]
    }
   ],
   "source": [
    "from sklearn.ensemble import ExtraTreesClassifier\n",
    "xt = ExtraTreesClassifier(random_state=rs)\n",
    "xt.fit(X_train_res1, y_train_res1)\n",
    "print_score(xt, X_train_res1, y_train_res1, cv=10)"
   ]
  },
  {
   "cell_type": "code",
   "execution_count": 140,
   "metadata": {
    "scrolled": true
   },
   "outputs": [
    {
     "name": "stdout",
     "output_type": "stream",
     "text": [
      "Results:\n",
      "\n",
      "accuracy score: 0.6917\n",
      "\n",
      "Classification Report: \n",
      "               precision    recall  f1-score   support\n",
      "\n",
      "           0       0.77      0.84      0.80       188\n",
      "           1       0.36      0.26      0.30        65\n",
      "\n",
      "    accuracy                           0.69       253\n",
      "   macro avg       0.56      0.55      0.55       253\n",
      "weighted avg       0.66      0.69      0.67       253\n",
      "\n",
      "\n",
      "Confusion Matrix: \n",
      " [[158  30]\n",
      " [ 48  17]]\n",
      "\n"
     ]
    }
   ],
   "source": [
    "xt.fit(X_train, y_train)\n",
    "print_score(xt, X_test, y_test)"
   ]
  },
  {
   "cell_type": "code",
   "execution_count": 141,
   "metadata": {},
   "outputs": [
    {
     "name": "stdout",
     "output_type": "stream",
     "text": [
      "Fitting 3 folds for each of 2 candidates, totalling 6 fits\n"
     ]
    },
    {
     "name": "stderr",
     "output_type": "stream",
     "text": [
      "[Parallel(n_jobs=-1)]: Using backend LokyBackend with 12 concurrent workers.\n",
      "[Parallel(n_jobs=-1)]: Done   4 out of   6 | elapsed:    0.0s remaining:    0.0s\n",
      "[Parallel(n_jobs=-1)]: Done   6 out of   6 | elapsed:    0.0s finished\n"
     ]
    },
    {
     "data": {
      "text/plain": [
       "GridSearchCV(cv='warn', error_score='raise-deprecating',\n",
       "             estimator=LogisticRegression(C=1.0, class_weight=None, dual=False,\n",
       "                                          fit_intercept=True,\n",
       "                                          intercept_scaling=1, l1_ratio=None,\n",
       "                                          max_iter=100, multi_class='warn',\n",
       "                                          n_jobs=None, penalty='l2',\n",
       "                                          random_state=101, solver='warn',\n",
       "                                          tol=0.0001, verbose=0,\n",
       "                                          warm_start=False),\n",
       "             iid='warn', n_jobs=-1,\n",
       "             param_grid={'penalty': ['l1', 'l2'], 'solver': ['liblinear']},\n",
       "             pre_dispatch='2*n_jobs', refit=True, return_train_score=False,\n",
       "             scoring=None, verbose=1)"
      ]
     },
     "execution_count": 141,
     "metadata": {},
     "output_type": "execute_result"
    }
   ],
   "source": [
    "params = {'penalty': ['l1', 'l2'],\n",
    "          'solver': ['liblinear']}\n",
    "cv_log = GridSearchCV(LogisticRegression(random_state=rs), params, n_jobs=-1, verbose=1)\n",
    "\n",
    "cv_log.fit(X_train_res1, y_train_res1)"
   ]
  },
  {
   "cell_type": "code",
   "execution_count": 142,
   "metadata": {},
   "outputs": [
    {
     "name": "stdout",
     "output_type": "stream",
     "text": [
      "Results:\n",
      "\n",
      "accuracy score: 0.6719\n",
      "\n",
      "Classification Report: \n",
      "               precision    recall  f1-score   support\n",
      "\n",
      "           0       0.86      0.67      0.75       188\n",
      "           1       0.42      0.68      0.51        65\n",
      "\n",
      "    accuracy                           0.67       253\n",
      "   macro avg       0.64      0.67      0.63       253\n",
      "weighted avg       0.74      0.67      0.69       253\n",
      "\n",
      "\n",
      "Confusion Matrix: \n",
      " [[126  62]\n",
      " [ 21  44]]\n",
      "\n"
     ]
    }
   ],
   "source": [
    "y_pred = cv_log.predict(X_test)\n",
    "print_score(cv_log, X_test, y_test)"
   ]
  },
  {
   "cell_type": "code",
   "execution_count": 143,
   "metadata": {},
   "outputs": [
    {
     "name": "stdout",
     "output_type": "stream",
     "text": [
      "Fitting 3 folds for each of 3 candidates, totalling 9 fits\n"
     ]
    },
    {
     "name": "stderr",
     "output_type": "stream",
     "text": [
      "[Parallel(n_jobs=-1)]: Using backend LokyBackend with 12 concurrent workers.\n",
      "[Parallel(n_jobs=-1)]: Done   6 out of   9 | elapsed:    0.0s remaining:    0.0s\n",
      "[Parallel(n_jobs=-1)]: Done   9 out of   9 | elapsed:    0.0s finished\n"
     ]
    },
    {
     "data": {
      "text/plain": [
       "{'penalty': 'l2', 'solver': 'newton-cg'}"
      ]
     },
     "execution_count": 143,
     "metadata": {},
     "output_type": "execute_result"
    }
   ],
   "source": [
    "params = {'penalty': ['l2'],\n",
    "          'solver': ['newton-cg', 'lbfgs','sag']}\n",
    "cv_log_2 = GridSearchCV(LogisticRegression(random_state=rs), params, n_jobs=-1, verbose=1)\n",
    "\n",
    "cv_log_2.fit(X_train_res1, y_train_res1)\n",
    "\n",
    "cv_log_2.best_estimator_\n",
    "cv_log_2.best_params_"
   ]
  },
  {
   "cell_type": "code",
   "execution_count": 144,
   "metadata": {},
   "outputs": [
    {
     "name": "stdout",
     "output_type": "stream",
     "text": [
      "Results:\n",
      "\n",
      "accuracy score: 0.6838\n",
      "\n",
      "Classification Report: \n",
      "               precision    recall  f1-score   support\n",
      "\n",
      "           0       0.86      0.69      0.76       188\n",
      "           1       0.43      0.68      0.52        65\n",
      "\n",
      "    accuracy                           0.68       253\n",
      "   macro avg       0.64      0.68      0.64       253\n",
      "weighted avg       0.75      0.68      0.70       253\n",
      "\n",
      "\n",
      "Confusion Matrix: \n",
      " [[129  59]\n",
      " [ 21  44]]\n",
      "\n"
     ]
    }
   ],
   "source": [
    "y_pred = cv_log_2.predict(X_test)\n",
    "print_score(cv_log_2, X_test, y_test)"
   ]
  },
  {
   "cell_type": "markdown",
   "metadata": {},
   "source": [
    "# Summary"
   ]
  },
  {
   "cell_type": "markdown",
   "metadata": {},
   "source": [
    "# Normal Model\n",
    "| Classifier | Random Forest | Logistic Regression | KNeighbors |\n",
    "|:-|:-|:- |:- |\n",
    "| Train accuracy score | 0.9897 | 0.8094 | 0.8426 |\n",
    "| Average accuracy score | 0.8265 | 0.8037 | 0.7721 |\n",
    "| SD | 0.0736 | 0.0431 | 0.0194 |\n",
    "| Test accuracy score | 0.7701 | 0.7602 | 0.6957 |"
   ]
  },
  {
   "cell_type": "markdown",
   "metadata": {},
   "source": [
    "#          Model with Oversampling data\n",
    "| Classifier | Random Forest | Logistic Regression | KNeighbors | Extra-Trees | XGBoosting |\n",
    "|:-|:-|:- |:- |:- |:- |\n",
    "| Test accuracy score | 0.7701 | 0.7602 | 0.6943 | 0.7725 | 0.7787 |\n",
    "| f1-score class : 0 | 0.85 | 0.83 | 0.78 | 0.85 | 0.85 |\n",
    "| f1-score class : 1 | 0.54 | 0.59 | 0.52 | 0.54 | 0.59 |"
   ]
  },
  {
   "cell_type": "markdown",
   "metadata": {},
   "source": [
    "# Model with scaled data\n",
    "\n",
    "| Classifier | Random Forest | Logistic Regression | KNeighbors | SVM |\n",
    "|:-|:-|:- |:- |:- |\n",
    "| Test accuracy score | 0.8005 | 0.8043 | 0.7678 | 0.7981 |\n",
    "| f1-score class : 0 | 0.87 | 0.87 | 0.85 | 0.87 |\n",
    "| f1-score class : 1 | 0.55 | 0.58 | 0.53 | 0.56 |"
   ]
  },
  {
   "cell_type": "markdown",
   "metadata": {},
   "source": [
    "# GridSearch with Oversampling data\n",
    "\n",
    "| Classifier | ExtraTree | Logistic Regression | XG-Boost |\n",
    "|:-|:-|:- |:- |\n",
    "| Test accuracy score | 0.7635 | 0.7626 | 0.7768 |\n",
    "| f1-score class : 0 | 0.84 | 0.83 | 0.85 |\n",
    "| f1-score class : 1 | 0.55 | 0.60 | 0.57 |\n",
    "\n"
   ]
  },
  {
   "cell_type": "markdown",
   "metadata": {},
   "source": [
    "# GridSearch with Scaled data\n",
    "\n",
    "| Classifier | KNeighbors | SVM | XG-Boost | Voting | Stacking |\n",
    "|:-|:-|:- |:- |:- |:- |\n",
    "| Test accuracy score | 0.7934 | 0.8071 | 0.7787 | 0.8062 | 0.8038 |\n",
    "| f1-score class : 0 | 0.87 | 0.88 | 0.85 | 0.88 | 0.87 |\n",
    "| f1-score class : 1 | 0.57 | 0.55 | 0.59 | 0.55 | 0.60 |\n",
    "\n",
    "\n"
   ]
  },
  {
   "cell_type": "code",
   "execution_count": null,
   "metadata": {},
   "outputs": [],
   "source": []
  }
 ],
 "metadata": {
  "kernelspec": {
   "display_name": "Python 3",
   "language": "python",
   "name": "python3"
  },
  "language_info": {
   "codemirror_mode": {
    "name": "ipython",
    "version": 3
   },
   "file_extension": ".py",
   "mimetype": "text/x-python",
   "name": "python",
   "nbconvert_exporter": "python",
   "pygments_lexer": "ipython3",
   "version": "3.7.6"
  }
 },
 "nbformat": 4,
 "nbformat_minor": 2
}
