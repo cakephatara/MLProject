{
 "cells": [
  {
   "cell_type": "code",
   "execution_count": 1,
   "metadata": {},
   "outputs": [],
   "source": [
    "from sklearn.datasets import fetch_openml\n",
    "from sklearn.model_selection import train_test_split, cross_val_score\n",
    "from sklearn.model_selection import cross_val_predict\n",
    "from sklearn.metrics import confusion_matrix, classification_report\n",
    "from sklearn import svm\n",
    "import matplotlib.pyplot as plt\n",
    "import numpy as np"
   ]
  },
  {
   "cell_type": "code",
   "execution_count": 3,
   "metadata": {},
   "outputs": [],
   "source": [
    "mnist_data = fetch_openml('mnist_784', version=1)"
   ]
  },
  {
   "cell_type": "code",
   "execution_count": 5,
   "metadata": {},
   "outputs": [
    {
     "name": "stdout",
     "output_type": "stream",
     "text": [
      "Shape of X: (70000, 784) \n",
      " Shape of y: (70000,)\n"
     ]
    }
   ],
   "source": [
    "X, y = mnist_data['data'], mnist_data['target']\n",
    "print('Shape of X:', X.shape, '\\n', 'Shape of y:', y.shape)"
   ]
  },
  {
   "cell_type": "code",
   "execution_count": 12,
   "metadata": {},
   "outputs": [],
   "source": [
    "X, y = X[:20000], y[:20000].astype('int')\n"
   ]
  },
  {
   "cell_type": "code",
   "execution_count": 5,
   "metadata": {},
   "outputs": [
    {
     "data": {
      "text/plain": [
       "array([1994, 2281, 1929, 2076, 1945, 1775, 1971, 2093, 1922, 2014])"
      ]
     },
     "execution_count": 5,
     "metadata": {},
     "output_type": "execute_result"
    }
   ],
   "source": [
    "np.bincount(y)"
   ]
  },
  {
   "cell_type": "code",
   "execution_count": 6,
   "metadata": {},
   "outputs": [
    {
     "data": {
      "text/plain": [
       "(-0.5, 27.5, 27.5, -0.5)"
      ]
     },
     "execution_count": 6,
     "metadata": {},
     "output_type": "execute_result"
    },
    {
     "data": {
      "image/png": "[encoded data removed]",
      "text/plain": [
       "<Figure size 432x288 with 3 Axes>"
      ]
     },
     "metadata": {
      "needs_background": "light"
     },
     "output_type": "display_data"
    }
   ],
   "source": [
    "digit = X[0]\n",
    "digit_pixels = digit.reshape(28, 28)\n",
    "plt.subplot(131)\n",
    "plt.imshow(digit_pixels)\n",
    "plt.axis('off')\n",
    "\n",
    "digit = X[1]\n",
    "digit_pixels = digit.reshape(28, 28)\n",
    "plt.subplot(132)\n",
    "plt.imshow(digit_pixels)\n",
    "plt.axis('off')\n",
    "\n",
    "digit = X[2]\n",
    "digit_pixels = digit.reshape(28, 28)\n",
    "plt.subplot(133)\n",
    "plt.imshow(digit_pixels)\n",
    "plt.axis('off')"
   ]
  },
  {
   "cell_type": "code",
   "execution_count": 7,
   "metadata": {},
   "outputs": [],
   "source": [
    "X_train, X_test, y_train, y_test = train_test_split(X, y, test_size=0.3)"
   ]
  },
  {
   "cell_type": "code",
   "execution_count": 8,
   "metadata": {},
   "outputs": [],
   "source": [
    "from sklearn.preprocessing import StandardScaler"
   ]
  },
  {
   "cell_type": "code",
   "execution_count": 9,
   "metadata": {},
   "outputs": [],
   "source": [
    "sc = StandardScaler()\n",
    "X_train = sc.fit_transform(X_train)\n",
    "X_test = sc.transform(X_test)"
   ]
  },
  {
   "cell_type": "code",
   "execution_count": 39,
   "metadata": {},
   "outputs": [
    {
     "data": {
      "text/plain": [
       "SVC(C=0.1, cache_size=200, class_weight=None, coef0=0.0,\n",
       "    decision_function_shape='ovr', degree=3, gamma=0.7, kernel='poly',\n",
       "    max_iter=-1, probability=False, random_state=None, shrinking=True,\n",
       "    tol=0.001, verbose=False)"
      ]
     },
     "execution_count": 39,
     "metadata": {},
     "output_type": "execute_result"
    }
   ],
   "source": [
    "C = 0.1\n",
    "clf = svm.SVC(kernel='poly', gamma=0.7, C=C)\n",
    "clf.fit(X_train, y_train)"
   ]
  },
  {
   "cell_type": "code",
   "execution_count": 35,
   "metadata": {},
   "outputs": [
    {
     "name": "stdout",
     "output_type": "stream",
     "text": [
      "Average Accuracy: \t 0.9636\n",
      "Accuracy SD: \t\t 0.004458\n"
     ]
    }
   ],
   "source": [
    "res = cross_val_score(clf, X_train, y_train, cv=10, scoring='accuracy', n_jobs=-1)\n",
    "print(f\"Average Accuracy: \\t {np.mean(res):.4}\")\n",
    "print(f\"Accuracy SD: \\t\\t {np.std(res):.4}\")"
   ]
  },
  {
   "cell_type": "code",
   "execution_count": 36,
   "metadata": {},
   "outputs": [],
   "source": [
    "y_train_pred = cross_val_predict(clf, X_train, y_train, cv=10, n_jobs=-1)"
   ]
  },
  {
   "cell_type": "code",
   "execution_count": 37,
   "metadata": {},
   "outputs": [
    {
     "data": {
      "text/plain": [
       "array([[1409,    0,    4,    0,    2,    1,    3,    1,    2,    2],\n",
       "       [   0, 1542,    8,    2,    2,    1,    0,    1,    5,    1],\n",
       "       [   5,    6, 1284,   12,    7,    0,    5,    8,   19,    3],\n",
       "       [   1,    2,   17, 1364,    1,   18,    3,   13,   19,   10],\n",
       "       [   1,    2,    9,    0, 1297,    2,    7,    2,    2,   21],\n",
       "       [   3,    1,    2,   17,    7, 1213,   10,    0,    9,    5],\n",
       "       [   6,    4,    5,    0,    5,    5, 1368,    1,    8,    1],\n",
       "       [   3,    2,    5,    5,   16,    0,    0, 1383,    4,   24],\n",
       "       [   2,    5,   12,    7,    6,   11,    5,    2, 1313,   10],\n",
       "       [   3,    3,    8,    8,   21,    4,    0,   16,    9, 1317]])"
      ]
     },
     "execution_count": 37,
     "metadata": {},
     "output_type": "execute_result"
    }
   ],
   "source": [
    "confusion_matrix(y_train, y_train_pred)"
   ]
  },
  {
   "cell_type": "code",
   "execution_count": 38,
   "metadata": {},
   "outputs": [
    {
     "name": "stdout",
     "output_type": "stream",
     "text": [
      "              precision    recall  f1-score   support\n",
      "\n",
      "           0       0.98      0.99      0.99      1424\n",
      "           1       0.98      0.99      0.99      1562\n",
      "           2       0.95      0.95      0.95      1349\n",
      "           3       0.96      0.94      0.95      1448\n",
      "           4       0.95      0.97      0.96      1343\n",
      "           5       0.97      0.96      0.96      1267\n",
      "           6       0.98      0.98      0.98      1403\n",
      "           7       0.97      0.96      0.96      1442\n",
      "           8       0.94      0.96      0.95      1373\n",
      "           9       0.94      0.95      0.95      1389\n",
      "\n",
      "    accuracy                           0.96     14000\n",
      "   macro avg       0.96      0.96      0.96     14000\n",
      "weighted avg       0.96      0.96      0.96     14000\n",
      "\n"
     ]
    }
   ],
   "source": [
    "print(classification_report(y_train, y_train_pred))"
   ]
  },
  {
   "cell_type": "code",
   "execution_count": 40,
   "metadata": {},
   "outputs": [],
   "source": [
    "y_test_pred = clf.predict(X_test)"
   ]
  },
  {
   "cell_type": "code",
   "execution_count": 41,
   "metadata": {},
   "outputs": [
    {
     "data": {
      "text/plain": [
       "array([[560,   1,   2,   1,   3,   0,   1,   0,   2,   0],\n",
       "       [  0, 711,   1,   2,   3,   0,   0,   0,   0,   2],\n",
       "       [  2,   1, 554,   3,   5,   1,   1,   4,   8,   1],\n",
       "       [  0,   0,   0, 610,   0,   4,   0,   2,  10,   2],\n",
       "       [  0,   0,   0,   0, 591,   1,   0,   0,   2,   8],\n",
       "       [  0,   0,   2,  12,   1, 483,   4,   0,   5,   1],\n",
       "       [  4,   0,   4,   0,   3,   4, 552,   0,   1,   0],\n",
       "       [  1,   2,   4,   0,   6,   0,   0, 624,   1,  13],\n",
       "       [  2,   2,   4,   5,   1,   7,   1,   1, 524,   2],\n",
       "       [  4,   1,   1,   6,  11,   1,   0,   5,   4, 592]])"
      ]
     },
     "execution_count": 41,
     "metadata": {},
     "output_type": "execute_result"
    }
   ],
   "source": [
    "confusion_matrix(y_test, y_test_pred)"
   ]
  },
  {
   "cell_type": "code",
   "execution_count": 42,
   "metadata": {},
   "outputs": [
    {
     "name": "stdout",
     "output_type": "stream",
     "text": [
      "              precision    recall  f1-score   support\n",
      "\n",
      "           0       0.98      0.98      0.98       570\n",
      "           1       0.99      0.99      0.99       719\n",
      "           2       0.97      0.96      0.96       580\n",
      "           3       0.95      0.97      0.96       628\n",
      "           4       0.95      0.98      0.96       602\n",
      "           5       0.96      0.95      0.96       508\n",
      "           6       0.99      0.97      0.98       568\n",
      "           7       0.98      0.96      0.97       651\n",
      "           8       0.94      0.95      0.95       549\n",
      "           9       0.95      0.95      0.95       625\n",
      "\n",
      "    accuracy                           0.97      6000\n",
      "   macro avg       0.97      0.97      0.97      6000\n",
      "weighted avg       0.97      0.97      0.97      6000\n",
      "\n"
     ]
    }
   ],
   "source": [
    "print(classification_report(y_test, y_test_pred))"
   ]
  },
  {
   "cell_type": "code",
   "execution_count": 22,
   "metadata": {},
   "outputs": [],
   "source": [
    "from sklearn.linear_model import SGDClassifier"
   ]
  },
  {
   "cell_type": "code",
   "execution_count": 23,
   "metadata": {},
   "outputs": [
    {
     "name": "stderr",
     "output_type": "stream",
     "text": [
      "/Users/pramote/py374-venv/lib/python3.7/site-packages/sklearn/linear_model/stochastic_gradient.py:561: ConvergenceWarning: Maximum number of iteration reached before convergence. Consider increasing max_iter to improve the fit.\n",
      "  ConvergenceWarning)\n"
     ]
    },
    {
     "data": {
      "text/plain": [
       "SGDClassifier(alpha=0.0001, average=False, class_weight=None,\n",
       "              early_stopping=False, epsilon=0.1, eta0=0.0, fit_intercept=True,\n",
       "              l1_ratio=0.15, learning_rate='optimal', loss='hinge',\n",
       "              max_iter=1000, n_iter_no_change=5, n_jobs=None, penalty='l2',\n",
       "              power_t=0.5, random_state=42, shuffle=True, tol=0.001,\n",
       "              validation_fraction=0.1, verbose=0, warm_start=False)"
      ]
     },
     "execution_count": 23,
     "metadata": {},
     "output_type": "execute_result"
    }
   ],
   "source": [
    "sgd_clf = SGDClassifier(loss='hinge', random_state=42)\n",
    "sgd_clf.fit(X_train, y_train)"
   ]
  },
  {
   "cell_type": "code",
   "execution_count": 24,
   "metadata": {},
   "outputs": [
    {
     "data": {
      "text/plain": [
       "array([0.89608541, 0.91103203, 0.90734141, 0.90214286, 0.91279485,\n",
       "       0.88849178, 0.90707648, 0.8962804 , 0.89978525, 0.90179211])"
      ]
     },
     "execution_count": 24,
     "metadata": {},
     "output_type": "execute_result"
    }
   ],
   "source": [
    "res = cross_val_score(sgd_clf, X_train, y_train, cv=10, scoring='accuracy', n_jobs=-1)\n",
    "print(f\"Average Accuracy: \\t {np.mean(res):.4}\")\n",
    "print(f\"Accuracy SD: \\t\\t {np.std(res):.4}\")"
   ]
  },
  {
   "cell_type": "code",
   "execution_count": 26,
   "metadata": {},
   "outputs": [],
   "source": [
    "y_pred = sgd_clf.predict(X_test)"
   ]
  },
  {
   "cell_type": "code",
   "execution_count": 27,
   "metadata": {},
   "outputs": [
    {
     "data": {
      "text/plain": [
       "array([[540,   0,   4,   1,   1,   9,   4,   0,  11,   0],\n",
       "       [  0, 689,   2,   3,   2,   6,   2,   1,  12,   2],\n",
       "       [  3,   2, 512,  11,   7,   5,  11,   0,  29,   0],\n",
       "       [  2,   3,  14, 546,   0,  22,   1,   4,  29,   7],\n",
       "       [  3,   0,   5,   2, 536,   0,   5,   2,  28,  21],\n",
       "       [  4,   0,   3,  27,   6, 416,   7,   0,  38,   7],\n",
       "       [  4,   0,   4,   0,   4,   5, 542,   0,   9,   0],\n",
       "       [  3,   0,   8,   2,   5,   0,   1, 595,   9,  28],\n",
       "       [  2,   9,   6,  10,   0,  10,   5,   0, 497,  10],\n",
       "       [  8,   3,   2,  16,  15,   1,   0,  18,  26, 536]])"
      ]
     },
     "execution_count": 27,
     "metadata": {},
     "output_type": "execute_result"
    }
   ],
   "source": [
    "confusion_matrix(y_test, y_pred)"
   ]
  },
  {
   "cell_type": "code",
   "execution_count": 28,
   "metadata": {},
   "outputs": [
    {
     "name": "stdout",
     "output_type": "stream",
     "text": [
      "              precision    recall  f1-score   support\n",
      "\n",
      "           0       0.95      0.95      0.95       570\n",
      "           1       0.98      0.96      0.97       719\n",
      "           2       0.91      0.88      0.90       580\n",
      "           3       0.88      0.87      0.88       628\n",
      "           4       0.93      0.89      0.91       602\n",
      "           5       0.88      0.82      0.85       508\n",
      "           6       0.94      0.95      0.95       568\n",
      "           7       0.96      0.91      0.94       651\n",
      "           8       0.72      0.91      0.80       549\n",
      "           9       0.88      0.86      0.87       625\n",
      "\n",
      "    accuracy                           0.90      6000\n",
      "   macro avg       0.90      0.90      0.90      6000\n",
      "weighted avg       0.91      0.90      0.90      6000\n",
      "\n"
     ]
    }
   ],
   "source": [
    "print(classification_report(y_test, y_pred))"
   ]
  },
  {
   "cell_type": "code",
   "execution_count": null,
   "metadata": {},
   "outputs": [],
   "source": []
  }
 ],
 "metadata": {
  "kernelspec": {
   "display_name": "Python 3",
   "language": "python",
   "name": "python3"
  },
  "language_info": {
   "codemirror_mode": {
    "name": "ipython",
    "version": 3
   },
   "file_extension": ".py",
   "mimetype": "text/x-python",
   "name": "python",
   "nbconvert_exporter": "python",
   "pygments_lexer": "ipython3",
   "version": "3.7.3"
  }
 },
 "nbformat": 4,
 "nbformat_minor": 2
}
