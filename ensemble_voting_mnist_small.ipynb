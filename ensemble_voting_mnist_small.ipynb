{
 "cells": [
  {
   "cell_type": "code",
   "execution_count": 1,
   "metadata": {},
   "outputs": [],
   "source": [
    "import matplotlib.pyplot as plt\n",
    "import numpy as np \n",
    "import pandas as pd\n",
    "from sklearn.model_selection import train_test_split, GridSearchCV, cross_val_score\n",
    "from sklearn.model_selection import cross_val_predict\n",
    "from sklearn.preprocessing import StandardScaler\n",
    "from sklearn.svm import SVC\n",
    "from sklearn.linear_model import SGDClassifier\n",
    "from sklearn.ensemble import RandomForestClassifier\n",
    "from sklearn.ensemble import VotingClassifier\n",
    "from sklearn.metrics import classification_report, confusion_matrix"
   ]
  },
  {
   "cell_type": "code",
   "execution_count": 2,
   "metadata": {},
   "outputs": [],
   "source": [
    "df = pd.read_csv('mnist_small.csv', sep=',', header=None)"
   ]
  },
  {
   "cell_type": "code",
   "execution_count": 3,
   "metadata": {},
   "outputs": [],
   "source": [
    "X = df.iloc[:, 1:]\n",
    "y = df.iloc[:, 0]"
   ]
  },
  {
   "cell_type": "code",
   "execution_count": 4,
   "metadata": {},
   "outputs": [],
   "source": [
    "X_train, X_test, y_train, y_test = train_test_split(X, y, test_size=0.3, \n",
    "                                                    random_state=42, stratify=y)"
   ]
  },
  {
   "cell_type": "code",
   "execution_count": 5,
   "metadata": {},
   "outputs": [],
   "source": [
    "sc = StandardScaler()\n",
    "X_train = sc.fit_transform(X_train)\n",
    "X_test = sc.transform(X_test)"
   ]
  },
  {
   "cell_type": "code",
   "execution_count": 6,
   "metadata": {},
   "outputs": [],
   "source": [
    "svm_clf = SVC(kernel='poly', gamma=0.1, C=0.1)\n",
    "lr_clf = SGDClassifier(loss='log')\n",
    "rf_clf = RandomForestClassifier()"
   ]
  },
  {
   "cell_type": "code",
   "execution_count": 7,
   "metadata": {},
   "outputs": [
    {
     "name": "stdout",
     "output_type": "stream",
     "text": [
      "Average Accuracy: \t 0.8982\n",
      "Accuracy SD: \t\t 0.004238\n"
     ]
    }
   ],
   "source": [
    "res = cross_val_score(lr_clf, X_train, y_train, cv=5, scoring='accuracy', n_jobs=-1)\n",
    "print(f\"Average Accuracy: \\t {np.mean(res):.4}\")\n",
    "print(f\"Accuracy SD: \\t\\t {np.std(res):.4}\")"
   ]
  },
  {
   "cell_type": "code",
   "execution_count": 8,
   "metadata": {},
   "outputs": [],
   "source": [
    "y_train_pred = cross_val_predict(lr_clf, X_train, y_train, cv=5, n_jobs=-1)"
   ]
  },
  {
   "cell_type": "code",
   "execution_count": 9,
   "metadata": {},
   "outputs": [
    {
     "name": "stdout",
     "output_type": "stream",
     "text": [
      "              precision    recall  f1-score   support\n",
      "\n",
      "           0       0.96      0.95      0.95      1400\n",
      "           1       0.96      0.95      0.96      1400\n",
      "           2       0.89      0.86      0.87      1400\n",
      "           3       0.90      0.85      0.87      1400\n",
      "           4       0.93      0.91      0.92      1400\n",
      "           5       0.88      0.85      0.86      1400\n",
      "           6       0.94      0.93      0.94      1400\n",
      "           7       0.93      0.90      0.92      1400\n",
      "           8       0.76      0.92      0.83      1400\n",
      "           9       0.87      0.87      0.87      1400\n",
      "\n",
      "    accuracy                           0.90     14000\n",
      "   macro avg       0.90      0.90      0.90     14000\n",
      "weighted avg       0.90      0.90      0.90     14000\n",
      "\n"
     ]
    }
   ],
   "source": [
    "print(classification_report(y_train, y_train_pred))"
   ]
  },
  {
   "cell_type": "code",
   "execution_count": 10,
   "metadata": {},
   "outputs": [
    {
     "name": "stdout",
     "output_type": "stream",
     "text": [
      "Average Accuracy: \t 0.9106\n",
      "Accuracy SD: \t\t 0.002539\n"
     ]
    }
   ],
   "source": [
    "res = cross_val_score(rf_clf, X_train, y_train, cv=5, scoring='accuracy', n_jobs=-1)\n",
    "print(f\"Average Accuracy: \\t {np.mean(res):.4}\")\n",
    "print(f\"Accuracy SD: \\t\\t {np.std(res):.4}\")"
   ]
  },
  {
   "cell_type": "code",
   "execution_count": 11,
   "metadata": {},
   "outputs": [],
   "source": [
    "y_train_pred = cross_val_predict(rf_clf, X_train, y_train, cv=5, n_jobs=-1)"
   ]
  },
  {
   "cell_type": "code",
   "execution_count": 12,
   "metadata": {},
   "outputs": [
    {
     "name": "stdout",
     "output_type": "stream",
     "text": [
      "              precision    recall  f1-score   support\n",
      "\n",
      "           0       0.93      0.98      0.96      1400\n",
      "           1       0.94      0.98      0.96      1400\n",
      "           2       0.87      0.90      0.88      1400\n",
      "           3       0.88      0.88      0.88      1400\n",
      "           4       0.89      0.93      0.91      1400\n",
      "           5       0.91      0.88      0.90      1400\n",
      "           6       0.95      0.94      0.95      1400\n",
      "           7       0.95      0.91      0.93      1400\n",
      "           8       0.91      0.84      0.87      1400\n",
      "           9       0.89      0.88      0.88      1400\n",
      "\n",
      "    accuracy                           0.91     14000\n",
      "   macro avg       0.91      0.91      0.91     14000\n",
      "weighted avg       0.91      0.91      0.91     14000\n",
      "\n"
     ]
    }
   ],
   "source": [
    "print(classification_report(y_train, y_train_pred))"
   ]
  },
  {
   "cell_type": "code",
   "execution_count": 13,
   "metadata": {},
   "outputs": [
    {
     "name": "stdout",
     "output_type": "stream",
     "text": [
      "Average Accuracy: \t 0.9607\n",
      "Accuracy SD: \t\t 0.002045\n"
     ]
    }
   ],
   "source": [
    "res = cross_val_score(svm_clf, X_train, y_train, cv=5, scoring='accuracy', n_jobs=-1)\n",
    "print(f\"Average Accuracy: \\t {np.mean(res):.4}\")\n",
    "print(f\"Accuracy SD: \\t\\t {np.std(res):.4}\")"
   ]
  },
  {
   "cell_type": "code",
   "execution_count": 14,
   "metadata": {},
   "outputs": [],
   "source": [
    "y_train_pred = cross_val_predict(svm_clf, X_train, y_train, cv=5, n_jobs=-1)"
   ]
  },
  {
   "cell_type": "code",
   "execution_count": 15,
   "metadata": {},
   "outputs": [
    {
     "name": "stdout",
     "output_type": "stream",
     "text": [
      "              precision    recall  f1-score   support\n",
      "\n",
      "           0       0.98      0.98      0.98      1400\n",
      "           1       0.99      0.99      0.99      1400\n",
      "           2       0.95      0.94      0.95      1400\n",
      "           3       0.96      0.94      0.95      1400\n",
      "           4       0.95      0.97      0.96      1400\n",
      "           5       0.97      0.96      0.96      1400\n",
      "           6       0.98      0.97      0.97      1400\n",
      "           7       0.97      0.95      0.96      1400\n",
      "           8       0.92      0.96      0.94      1400\n",
      "           9       0.94      0.94      0.94      1400\n",
      "\n",
      "    accuracy                           0.96     14000\n",
      "   macro avg       0.96      0.96      0.96     14000\n",
      "weighted avg       0.96      0.96      0.96     14000\n",
      "\n"
     ]
    }
   ],
   "source": [
    "print(classification_report(y_train, y_train_pred))"
   ]
  },
  {
   "cell_type": "code",
   "execution_count": 16,
   "metadata": {
    "scrolled": false
   },
   "outputs": [
    {
     "name": "stdout",
     "output_type": "stream",
     "text": [
      "[[1379    0    3    1    4    1    3    1    7    1]\n",
      " [   0 1380    8    2    2    0    0    2    5    1]\n",
      " [   6    5 1323   11    5    2    6    8   28    6]\n",
      " [   1    1   16 1312    2   19    3    9   28    9]\n",
      " [   0    2    5    0 1359    1    4    0    5   24]\n",
      " [   2    1    4   19    3 1338   12    0   15    6]\n",
      " [   6    2    4    0    7    8 1363    1    8    1]\n",
      " [   2    4    9    1   19    0    0 1335    5   25]\n",
      " [   2    4    8   10    4   15    4    3 1340   10]\n",
      " [   4    2   11   10   21    2    1   16   12 1321]]\n"
     ]
    }
   ],
   "source": [
    "print(confusion_matrix(y_train, y_train_pred))"
   ]
  },
  {
   "cell_type": "code",
   "execution_count": 19,
   "metadata": {},
   "outputs": [],
   "source": [
    "svm_clf = SVC(kernel='poly', gamma=0.1, C=0.1)\n",
    "lr_clf = SGDClassifier(loss='log')\n",
    "rf_clf = RandomForestClassifier()"
   ]
  },
  {
   "cell_type": "code",
   "execution_count": 20,
   "metadata": {},
   "outputs": [],
   "source": [
    "voting_clf = VotingClassifier(\n",
    "                estimators=[('lr', lr_clf), ('rf', rf_clf), ('svc', svm_clf)],\n",
    "                voting='hard'\n",
    ")"
   ]
  },
  {
   "cell_type": "code",
   "execution_count": 21,
   "metadata": {},
   "outputs": [
    {
     "name": "stderr",
     "output_type": "stream",
     "text": [
      "/Users/pramote/py374-venv/lib/python3.7/site-packages/sklearn/ensemble/forest.py:245: FutureWarning: The default value of n_estimators will change from 10 in version 0.20 to 100 in 0.22.\n",
      "  \"10 in version 0.20 to 100 in 0.22.\", FutureWarning)\n"
     ]
    },
    {
     "data": {
      "text/plain": [
       "VotingClassifier(estimators=[('lr',\n",
       "                              SGDClassifier(alpha=0.0001, average=False,\n",
       "                                            class_weight=None,\n",
       "                                            early_stopping=False, epsilon=0.1,\n",
       "                                            eta0=0.0, fit_intercept=True,\n",
       "                                            l1_ratio=0.15,\n",
       "                                            learning_rate='optimal', loss='log',\n",
       "                                            max_iter=1000, n_iter_no_change=5,\n",
       "                                            n_jobs=None, penalty='l2',\n",
       "                                            power_t=0.5, random_state=None,\n",
       "                                            shuffle=True, tol=0.001,\n",
       "                                            validation_fraction=0.1, verbose=0,\n",
       "                                            w...\n",
       "                                                     n_jobs=None,\n",
       "                                                     oob_score=False,\n",
       "                                                     random_state=None,\n",
       "                                                     verbose=0,\n",
       "                                                     warm_start=False)),\n",
       "                             ('svc',\n",
       "                              SVC(C=0.1, cache_size=200, class_weight=None,\n",
       "                                  coef0=0.0, decision_function_shape='ovr',\n",
       "                                  degree=3, gamma=0.1, kernel='poly',\n",
       "                                  max_iter=-1, probability=False,\n",
       "                                  random_state=None, shrinking=True, tol=0.001,\n",
       "                                  verbose=False))],\n",
       "                 flatten_transform=True, n_jobs=None, voting='hard',\n",
       "                 weights=None)"
      ]
     },
     "execution_count": 21,
     "metadata": {},
     "output_type": "execute_result"
    }
   ],
   "source": [
    "voting_clf.fit(X_train, y_train)"
   ]
  },
  {
   "cell_type": "code",
   "execution_count": 22,
   "metadata": {},
   "outputs": [
    {
     "name": "stdout",
     "output_type": "stream",
     "text": [
      "Average Accuracy: \t 0.9447\n",
      "Accuracy SD: \t\t 0.002363\n"
     ]
    }
   ],
   "source": [
    "res = cross_val_score(voting_clf, X_train, y_train, cv=5, scoring='accuracy', n_jobs=-1)\n",
    "print(f\"Average Accuracy: \\t {np.mean(res):.4}\")\n",
    "print(f\"Accuracy SD: \\t\\t {np.std(res):.4}\")"
   ]
  },
  {
   "cell_type": "code",
   "execution_count": 23,
   "metadata": {},
   "outputs": [],
   "source": [
    "y_train_pred = cross_val_predict(voting_clf, X_train, y_train, cv=5, n_jobs=-1)"
   ]
  },
  {
   "cell_type": "code",
   "execution_count": 24,
   "metadata": {},
   "outputs": [
    {
     "name": "stdout",
     "output_type": "stream",
     "text": [
      "              precision    recall  f1-score   support\n",
      "\n",
      "           0       0.95      0.98      0.97      1400\n",
      "           1       0.96      0.98      0.97      1400\n",
      "           2       0.91      0.94      0.93      1400\n",
      "           3       0.93      0.91      0.92      1400\n",
      "           4       0.93      0.96      0.94      1400\n",
      "           5       0.95      0.93      0.94      1400\n",
      "           6       0.97      0.96      0.97      1400\n",
      "           7       0.97      0.93      0.95      1400\n",
      "           8       0.92      0.93      0.93      1400\n",
      "           9       0.94      0.91      0.93      1400\n",
      "\n",
      "    accuracy                           0.94     14000\n",
      "   macro avg       0.94      0.94      0.94     14000\n",
      "weighted avg       0.94      0.94      0.94     14000\n",
      "\n"
     ]
    }
   ],
   "source": [
    "print(classification_report(y_train, y_train_pred))"
   ]
  },
  {
   "cell_type": "code",
   "execution_count": 25,
   "metadata": {},
   "outputs": [
    {
     "name": "stdout",
     "output_type": "stream",
     "text": [
      "[[1377    0    1    0    4    2    4    1   10    1]\n",
      " [   0 1375    8    2    1    3    1    1    6    3]\n",
      " [  10   12 1315    8   10    2    6    7   26    4]\n",
      " [   3    7   38 1278    2   25    2   13   27    5]\n",
      " [   3    6   11    4 1338    0    6    2    5   25]\n",
      " [  15    4   10   33    5 1302   11    0   13    7]\n",
      " [  10    4    7    3    8   12 1347    1    8    0]\n",
      " [   5    8   22    6   21    0    0 1308    5   25]\n",
      " [  10    9   12   16   13   13    5    3 1308   11]\n",
      " [  13    5   15   28   30    5    1   12   13 1278]]\n"
     ]
    }
   ],
   "source": [
    "print(confusion_matrix(y_train, y_train_pred))"
   ]
  },
  {
   "cell_type": "code",
   "execution_count": 26,
   "metadata": {},
   "outputs": [],
   "source": [
    "y_test_pred = voting_clf.predict(X_test)"
   ]
  },
  {
   "cell_type": "code",
   "execution_count": 27,
   "metadata": {},
   "outputs": [
    {
     "name": "stdout",
     "output_type": "stream",
     "text": [
      "              precision    recall  f1-score   support\n",
      "\n",
      "           0       0.96      0.99      0.97       600\n",
      "           1       0.97      0.98      0.97       600\n",
      "           2       0.92      0.96      0.94       600\n",
      "           3       0.93      0.91      0.92       600\n",
      "           4       0.94      0.95      0.95       600\n",
      "           5       0.96      0.94      0.95       600\n",
      "           6       0.98      0.95      0.97       600\n",
      "           7       0.97      0.95      0.96       600\n",
      "           8       0.94      0.94      0.94       600\n",
      "           9       0.95      0.93      0.94       600\n",
      "\n",
      "    accuracy                           0.95      6000\n",
      "   macro avg       0.95      0.95      0.95      6000\n",
      "weighted avg       0.95      0.95      0.95      6000\n",
      "\n"
     ]
    }
   ],
   "source": [
    "print(classification_report(y_test, y_test_pred))"
   ]
  },
  {
   "cell_type": "code",
   "execution_count": 28,
   "metadata": {},
   "outputs": [
    {
     "name": "stdout",
     "output_type": "stream",
     "text": [
      "[[597   0   1   0   0   0   1   0   1   0]\n",
      " [  0 589   5   2   2   1   0   0   1   0]\n",
      " [  6   1 579   3   2   0   2   1   5   1]\n",
      " [  4   1  17 548   1   6   0   6  12   5]\n",
      " [  1   3   5   1 571   1   4   0   4  10]\n",
      " [  3   1   5  21   5 561   0   1   2   1]\n",
      " [  5   2   5   0   5   6 571   1   5   0]\n",
      " [  1   4   6   2   6   1   0 572   0   8]\n",
      " [  4   5   6   4   3  10   3   1 561   3]\n",
      " [  4   3   2   9  13   1   0   6   3 559]]\n"
     ]
    }
   ],
   "source": [
    "print(confusion_matrix(y_test, y_test_pred))"
   ]
  },
  {
   "cell_type": "code",
   "execution_count": null,
   "metadata": {},
   "outputs": [],
   "source": []
  }
 ],
 "metadata": {
  "kernelspec": {
   "display_name": "Python 3",
   "language": "python",
   "name": "python3"
  },
  "language_info": {
   "codemirror_mode": {
    "name": "ipython",
    "version": 3
   },
   "file_extension": ".py",
   "mimetype": "text/x-python",
   "name": "python",
   "nbconvert_exporter": "python",
   "pygments_lexer": "ipython3",
   "version": "3.7.4"
  }
 },
 "nbformat": 4,
 "nbformat_minor": 2
}
